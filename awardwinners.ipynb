{
 "cells": [
  {
   "cell_type": "code",
   "execution_count": 1,
   "metadata": {},
   "outputs": [],
   "source": [
    "import spacy\n",
    "nlp = spacy.load('en_core_web_sm')\n",
    "\n",
    "\n",
    "def find_persons(text):\n",
    "    # Create Doc object\n",
    "    doc2 = nlp(text)\n",
    "\n",
    "    # Identify the persons\n",
    "    persons = [ent.text for ent in doc2.ents if ent.label_ == 'PERSON']\n",
    "\n",
    "    # Return persons\n",
    "    return persons\n",
    "\n",
    "def hasStopWord(x):\n",
    "    stopWords = set(['Also', 'Sunday', 'Happy', 'Show', 'Best', 'Current', 'Tv', 'Award', 'No', 'It', 'What', 'Are', 'To', 'Win', 'My', \\\n",
    "        'Will', 'On', 'This', 'So', 'Here', 'Go', 'Actors', 'And', 'Who', 'Have', 'These', 'Is', 'Did', 'Be', 'She', 'He', 'With', 'The'])\n",
    "    for word in stopWords:\n",
    "        if word in x:\n",
    "            return True\n",
    "    return False\n",
    "\n",
    "def isHypothetical(text):\n",
    "    if '?' in text or 'last year' in text or 'hope' in text or 'hoping' in text or 'bet' in text or \\\n",
    "        'think' in text or 'will' in text or 'predict' in text or 'going to' in text or 'gonna' in text:\n",
    "        return True\n",
    "    return False\n",
    "\n",
    "def isHistorical(text):\n",
    "    if re.findall(r\"\\d\\d\\d\\d\", text) and '2015' not in text and '2014' not in text:\n",
    "        return True\n",
    "    return False\n",
    "\n",
    "def isReasonable(text):\n",
    "    if not isHypothetical(text.lower()) and not isHistorical(text.lower()):\n",
    "        return True\n",
    "    return False\n",
    "\n",
    "def isWinningTweet(text, awardIndicators, trips = []):\n",
    "    \"\"\"\n",
    "        <text> = tweet text\n",
    "        <award> = list of indicators that belong to a given award\n",
    "    \"\"\"\n",
    "    text = text.lower()\n",
    "    winIndicators = ['won', 'win', 'congrat', 'goes to', 'went to', 'snag', 'takes home', 'took home']\n",
    "    for i in winIndicators: #we want an indication of win\n",
    "        if i in text:\n",
    "            for a in awardIndicators:\n",
    "                if a not in text:\n",
    "                    return False # we want an indication of our relevant award\n",
    "            for t in trips:\n",
    "                if t in text:\n",
    "                    return False # we do not want indication of a tripword\n",
    "            return True\n",
    "    # does not contain an indicator of a winning tweet\n",
    "    return False"
   ]
  },
  {
   "cell_type": "code",
   "execution_count": 2,
   "metadata": {},
   "outputs": [
    {
     "name": "stdout",
     "output_type": "stream",
     "text": [
      "loaded file\n",
      "number of regex names found: 34092\n"
     ]
    }
   ],
   "source": [
    "import json\n",
    "import re\n",
    "import csv\n",
    "\n",
    "# Opening JSON file\n",
    "f = open('gg2015.json')\n",
    " \n",
    "# returns JSON object as\n",
    "# a dictionary\n",
    "data = json.load(f)\n",
    "\n",
    "print(\"loaded file\")\n",
    "\n",
    "tt = []\n",
    "# print first 100 tweets\n",
    "for tweet in data:\n",
    "    # print(tweet['text'], data[99]['user']['screen_name'])\n",
    "    tt.append(tweet['text'])\n",
    "del data\n",
    "\n",
    "tNamesSet = set(())\n",
    "\n",
    "for t in tt:\n",
    "    # print(t)\n",
    "    candNames = re.findall(r'\\b[A-Z][a-z]+ [A-Z][a-z]+', t)\n",
    "    for n in candNames:\n",
    "        if not hasStopWord(n):\n",
    "            tNamesSet.add(n)\n",
    "\n",
    "tNames = list(tNamesSet)\n",
    "print(\"number of regex names found:\", len(tNames))\n",
    "# print(tNames)\n",
    "f.close()"
   ]
  },
  {
   "cell_type": "code",
   "execution_count": 4,
   "metadata": {},
   "outputs": [],
   "source": [
    "class award:\n",
    "    def __init__(self, keywords = [], tripwords = []):\n",
    "        self.keywords = keywords\n",
    "        self.tripwords = tripwords\n",
    "        self.winner = \"\""
   ]
  },
  {
   "cell_type": "code",
   "execution_count": 5,
   "metadata": {},
   "outputs": [
    {
     "name": "stdout",
     "output_type": "stream",
     "text": [
      "keys ['actor', 'comedy', 'motion', 'best', 'musical']\n",
      "trips: ['supporting', 'nom', 'tv', 'television', 'drama']\n",
      "winner: \n"
     ]
    }
   ],
   "source": [
    "bestActor = award([\"actor\", \"comedy\", \"motion\", \"best\", \"musical\"],[\"supporting\", \"nom\", \"tv\", \"television\", \"drama\"])\n",
    "print(\"keys\", bestActor.keywords)\n",
    "print(\"trips:\", bestActor.tripwords)\n",
    "print(\"winner:\", bestActor.winner)"
   ]
  },
  {
   "cell_type": "code",
   "execution_count": 3,
   "metadata": {},
   "outputs": [
    {
     "name": "stdout",
     "output_type": "stream",
     "text": [
      "number of winning tweets found for :  ['actor', 'comedy', 'motion', 'best', 'musical']  =  1487\n",
      "Michael Keaton\n"
     ]
    }
   ],
   "source": [
    "# create a sample award indicators list \"best performance by an actor in a motion picture - comedy or musical\": {\n",
    "bestActor = [\"actor\", \"comedy\", \"motion\", \"best\", \"musical\"]\n",
    "trips = [\"supporting\", \"nom\", \"tv\", \"television\", \"drama\"]\n",
    "#if this needs to be automated: find the closest award names to a given award: i.e. (best actress in a motion picture drama)\n",
    "# would be similar to (best actress in a motion picture comedy or musical) and (best actress in a tv movie) or whatever,\n",
    "# then pick out the words that are in similar award names but not in the one of interest. those are our tripwords.\n",
    "\n",
    "# iterate over tweets and add counts to those actors that won an award\n",
    "winningTweets = []\n",
    "for t in tt:\n",
    "    if isReasonable(t) and isWinningTweet(t, bestActor, trips):\n",
    "        winningTweets.append(t)\n",
    "\n",
    "print(\"number of winning tweets found for : \", bestActor, \" = \", len(winningTweets))\n",
    "\n",
    "candWinners = {}\n",
    "actorNamesSet = set(())\n",
    "\n",
    "for t in winningTweets[:1000]:\n",
    "    people = find_persons(t)\n",
    "    # print(t)\n",
    "    # print(people)\n",
    "    for p in people:\n",
    "        if '@' in p or 'RT' in p or 'golden' in p:\n",
    "            people = people.remove(p)\n",
    "    if not people:\n",
    "        continue\n",
    "    # print(people)\n",
    "    ats = re.findall(r'@[a-zA-Z_\\-\\.]+', t)\n",
    "    # if ats:\n",
    "        # print(ats)\n",
    "    for p in people:\n",
    "        if p in actorNamesSet:\n",
    "            candWinners[p] += 1\n",
    "        else:\n",
    "            candWinners[p] = 1\n",
    "        actorNamesSet.add(p)\n",
    "winnerCounts = (sorted(candWinners.items(), key=lambda item: 1/item[1]))\n",
    "print(winnerCounts[0][0])"
   ]
  }
 ],
 "metadata": {
  "interpreter": {
   "hash": "103df5c98b9e81aa8b3678697f91d3f0febc9ee87866f45d5e67de34ddb1eb12"
  },
  "kernelspec": {
   "display_name": "Python 3.9.7 ('base')",
   "language": "python",
   "name": "python3"
  },
  "language_info": {
   "codemirror_mode": {
    "name": "ipython",
    "version": 3
   },
   "file_extension": ".py",
   "mimetype": "text/x-python",
   "name": "python",
   "nbconvert_exporter": "python",
   "pygments_lexer": "ipython3",
   "version": "3.9.7"
  },
  "orig_nbformat": 4
 },
 "nbformat": 4,
 "nbformat_minor": 2
}
