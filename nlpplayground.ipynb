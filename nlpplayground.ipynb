{
 "cells": [
  {
   "cell_type": "markdown",
   "metadata": {},
   "source": [
    "NLP PROJECT PLAYGROUND"
   ]
  },
  {
   "cell_type": "code",
   "execution_count": 5,
   "metadata": {},
   "outputs": [],
   "source": [
    "def hasStopWord(x):\n",
    "    stopWords = set(['Also', 'Sunday', 'Happy', 'Show', 'Best', 'Current', 'Tv', 'Award', 'No', 'It', 'What', 'Are', 'To', 'Win', 'My', \\\n",
    "        'Will', 'On', 'This', 'So', 'Here', 'Go', 'Actors', 'And', 'Who', 'Have', 'These', 'Is', 'Did', 'Be', 'She', 'He', 'With', 'The'])\n",
    "    for word in stopWords:\n",
    "        if word in x:\n",
    "            return True\n",
    "    return False"
   ]
  },
  {
   "cell_type": "code",
   "execution_count": 6,
   "metadata": {},
   "outputs": [
    {
     "name": "stdout",
     "output_type": "stream",
     "text": [
      "loaded file\n"
     ]
    }
   ],
   "source": [
    "import json\n",
    "import re\n",
    "import csv\n",
    "\n",
    "# Opening JSON file\n",
    "f = open('gg2015.json')\n",
    " \n",
    "# returns JSON object as\n",
    "# a dictionary\n",
    "data = json.load(f)\n",
    "\n",
    "print(\"loaded file\")\n",
    "\n",
    "tt = []\n",
    "# print first 100 tweets\n",
    "for tweet in data:\n",
    "    # print(tweet['text'], data[99]['user']['screen_name'])\n",
    "    tt.append(tweet['text'])\n",
    "del data\n",
    "\n",
    "tNamesSet = set(())\n",
    "\n",
    "for t in tt:\n",
    "    # print(t)\n",
    "    candNames = re.findall(r'\\b[A-Z][a-z]+ [A-Z][a-z]+', t)\n",
    "    for n in candNames:\n",
    "        if not hasStopWord(n):\n",
    "            tNamesSet.add(n)\n",
    "\n",
    "tNames = list(tNamesSet)\n",
    "# print(tNames)\n",
    "f.close()"
   ]
  },
  {
   "cell_type": "code",
   "execution_count": 7,
   "metadata": {},
   "outputs": [],
   "source": [
    "import pandas as pd\n",
    "import numpy as np\n",
    "df_names = pd.read_csv('names.tsv', sep='\\t')\n",
    "# df_titles = pd.read_csv('titles.tsv', sep='\\t')"
   ]
  },
  {
   "cell_type": "code",
   "execution_count": null,
   "metadata": {},
   "outputs": [],
   "source": [
    "print(df_titles.titleType.unique())\n"
   ]
  },
  {
   "cell_type": "code",
   "execution_count": null,
   "metadata": {},
   "outputs": [],
   "source": [
    "df_titles = df_titles[df_titles['isAdult'] == 0]\n",
    "df_titles = df_titles.drop(['tconst', 'runtimeMinutes', 'isAdult'], axis = 'columns')\n",
    "#df_titles[df_titles.primaryTitle == 'Orange Is the New Black']\n",
    "print(df_titles[df_titles.endYear != '\\\\N'].titleType.unique())"
   ]
  },
  {
   "cell_type": "code",
   "execution_count": null,
   "metadata": {},
   "outputs": [],
   "source": [
    "df_titles = df_titles[(df_titles['titleType'].isin(['movie', 'tvSeries', 'tvMovie', 'tvSpecial', 'tvMiniSeries']))]"
   ]
  },
  {
   "cell_type": "code",
   "execution_count": null,
   "metadata": {},
   "outputs": [],
   "source": [
    "df_titles.head(15)"
   ]
  },
  {
   "cell_type": "code",
   "execution_count": null,
   "metadata": {},
   "outputs": [],
   "source": [
    "df_titles['endYear'].mask(df_titles['endYear']=='\\\\N', 2022, inplace=True)\n",
    "df_titles.head()"
   ]
  },
  {
   "cell_type": "code",
   "execution_count": null,
   "metadata": {},
   "outputs": [],
   "source": [
    "#time bounding\n",
    "df_titles = df_titles[df_titles.startYear != '\\\\N'] # if we don't have good data for a production, it's probably not getting an award lol\n",
    "df_titles = df_titles[df_titles.startYear.astype(int) > 2000]\n",
    "df_titles = df_titles[(((df_titles['titleType'].isin(['movie', 'tvMovie', 'tvSpecial'])) & (df_titles['startYear'].astype(int) == 2014)) | ((df_titles['titleType'].isin(['tvSeries', 'tvMiniSeries'])) & (df_titles['endYear'].astype(int) >= 2014) & (df_titles['startYear'].astype(int) <= 2014)))]"
   ]
  },
  {
   "cell_type": "code",
   "execution_count": null,
   "metadata": {},
   "outputs": [],
   "source": [
    "# df_titles.head(100)\n",
    "df_titles = df_titles.drop(['originalTitle', 'startYear', 'endYear'], axis = 'columns')\n",
    "df_titles.head(100)\n",
    "# print(len(df_titles))"
   ]
  },
  {
   "cell_type": "code",
   "execution_count": 8,
   "metadata": {},
   "outputs": [
    {
     "data": {
      "text/html": [
       "<div>\n",
       "<style scoped>\n",
       "    .dataframe tbody tr th:only-of-type {\n",
       "        vertical-align: middle;\n",
       "    }\n",
       "\n",
       "    .dataframe tbody tr th {\n",
       "        vertical-align: top;\n",
       "    }\n",
       "\n",
       "    .dataframe thead th {\n",
       "        text-align: right;\n",
       "    }\n",
       "</style>\n",
       "<table border=\"1\" class=\"dataframe\">\n",
       "  <thead>\n",
       "    <tr style=\"text-align: right;\">\n",
       "      <th></th>\n",
       "      <th>primaryName</th>\n",
       "      <th>deathYear</th>\n",
       "    </tr>\n",
       "  </thead>\n",
       "  <tbody>\n",
       "    <tr>\n",
       "      <th>0</th>\n",
       "      <td>Fred Astaire</td>\n",
       "      <td>1987</td>\n",
       "    </tr>\n",
       "    <tr>\n",
       "      <th>1</th>\n",
       "      <td>Lauren Bacall</td>\n",
       "      <td>2014</td>\n",
       "    </tr>\n",
       "    <tr>\n",
       "      <th>2</th>\n",
       "      <td>Brigitte Bardot</td>\n",
       "      <td>\\N</td>\n",
       "    </tr>\n",
       "    <tr>\n",
       "      <th>3</th>\n",
       "      <td>John Belushi</td>\n",
       "      <td>1982</td>\n",
       "    </tr>\n",
       "    <tr>\n",
       "      <th>4</th>\n",
       "      <td>Ingmar Bergman</td>\n",
       "      <td>2007</td>\n",
       "    </tr>\n",
       "  </tbody>\n",
       "</table>\n",
       "</div>"
      ],
      "text/plain": [
       "       primaryName deathYear\n",
       "0     Fred Astaire      1987\n",
       "1    Lauren Bacall      2014\n",
       "2  Brigitte Bardot        \\N\n",
       "3     John Belushi      1982\n",
       "4   Ingmar Bergman      2007"
      ]
     },
     "execution_count": 8,
     "metadata": {},
     "output_type": "execute_result"
    }
   ],
   "source": [
    "df_names = df_names.drop(['nconst', 'birthYear', 'primaryProfession', \"knownForTitles\"], axis='columns')\n",
    "df_names.head()"
   ]
  },
  {
   "cell_type": "code",
   "execution_count": 9,
   "metadata": {},
   "outputs": [],
   "source": [
    "# df_names[df_names['deathYear']=='\\\\N']['primaryName'] = 2022\n",
    "df_names['deathYear'].mask(df_names['deathYear']=='\\\\N', 2022, inplace=True)\n"
   ]
  },
  {
   "cell_type": "code",
   "execution_count": 10,
   "metadata": {},
   "outputs": [],
   "source": [
    "df_names = df_names[df_names['deathYear'].astype(int) > 2010]"
   ]
  },
  {
   "cell_type": "code",
   "execution_count": 11,
   "metadata": {},
   "outputs": [
    {
     "data": {
      "text/html": [
       "<div>\n",
       "<style scoped>\n",
       "    .dataframe tbody tr th:only-of-type {\n",
       "        vertical-align: middle;\n",
       "    }\n",
       "\n",
       "    .dataframe tbody tr th {\n",
       "        vertical-align: top;\n",
       "    }\n",
       "\n",
       "    .dataframe thead th {\n",
       "        text-align: right;\n",
       "    }\n",
       "</style>\n",
       "<table border=\"1\" class=\"dataframe\">\n",
       "  <thead>\n",
       "    <tr style=\"text-align: right;\">\n",
       "      <th></th>\n",
       "      <th>primaryName</th>\n",
       "      <th>deathYear</th>\n",
       "    </tr>\n",
       "  </thead>\n",
       "  <tbody>\n",
       "    <tr>\n",
       "      <th>1</th>\n",
       "      <td>Lauren Bacall</td>\n",
       "      <td>2014</td>\n",
       "    </tr>\n",
       "    <tr>\n",
       "      <th>2</th>\n",
       "      <td>Brigitte Bardot</td>\n",
       "      <td>2022</td>\n",
       "    </tr>\n",
       "    <tr>\n",
       "      <th>12</th>\n",
       "      <td>Doris Day</td>\n",
       "      <td>2019</td>\n",
       "    </tr>\n",
       "    <tr>\n",
       "      <th>13</th>\n",
       "      <td>Olivia de Havilland</td>\n",
       "      <td>2020</td>\n",
       "    </tr>\n",
       "    <tr>\n",
       "      <th>17</th>\n",
       "      <td>Kirk Douglas</td>\n",
       "      <td>2020</td>\n",
       "    </tr>\n",
       "  </tbody>\n",
       "</table>\n",
       "</div>"
      ],
      "text/plain": [
       "            primaryName deathYear\n",
       "1         Lauren Bacall      2014\n",
       "2       Brigitte Bardot      2022\n",
       "12            Doris Day      2019\n",
       "13  Olivia de Havilland      2020\n",
       "17         Kirk Douglas      2020"
      ]
     },
     "execution_count": 11,
     "metadata": {},
     "output_type": "execute_result"
    }
   ],
   "source": [
    "df_names.head()"
   ]
  },
  {
   "cell_type": "code",
   "execution_count": 12,
   "metadata": {},
   "outputs": [
    {
     "data": {
      "text/html": [
       "<div>\n",
       "<style scoped>\n",
       "    .dataframe tbody tr th:only-of-type {\n",
       "        vertical-align: middle;\n",
       "    }\n",
       "\n",
       "    .dataframe tbody tr th {\n",
       "        vertical-align: top;\n",
       "    }\n",
       "\n",
       "    .dataframe thead th {\n",
       "        text-align: right;\n",
       "    }\n",
       "</style>\n",
       "<table border=\"1\" class=\"dataframe\">\n",
       "  <thead>\n",
       "    <tr style=\"text-align: right;\">\n",
       "      <th></th>\n",
       "      <th>primaryName</th>\n",
       "    </tr>\n",
       "  </thead>\n",
       "  <tbody>\n",
       "    <tr>\n",
       "      <th>1</th>\n",
       "      <td>Lauren Bacall</td>\n",
       "    </tr>\n",
       "    <tr>\n",
       "      <th>2</th>\n",
       "      <td>Brigitte Bardot</td>\n",
       "    </tr>\n",
       "    <tr>\n",
       "      <th>12</th>\n",
       "      <td>Doris Day</td>\n",
       "    </tr>\n",
       "    <tr>\n",
       "      <th>13</th>\n",
       "      <td>Olivia de Havilland</td>\n",
       "    </tr>\n",
       "    <tr>\n",
       "      <th>17</th>\n",
       "      <td>Kirk Douglas</td>\n",
       "    </tr>\n",
       "  </tbody>\n",
       "</table>\n",
       "</div>"
      ],
      "text/plain": [
       "            primaryName\n",
       "1         Lauren Bacall\n",
       "2       Brigitte Bardot\n",
       "12            Doris Day\n",
       "13  Olivia de Havilland\n",
       "17         Kirk Douglas"
      ]
     },
     "execution_count": 12,
     "metadata": {},
     "output_type": "execute_result"
    }
   ],
   "source": [
    "df_names = df_names.drop([\"deathYear\"],axis='columns')\n",
    "df_names.head()\n",
    "# print(len(df_names))\n"
   ]
  },
  {
   "cell_type": "code",
   "execution_count": 13,
   "metadata": {},
   "outputs": [
    {
     "data": {
      "text/html": [
       "<div>\n",
       "<style scoped>\n",
       "    .dataframe tbody tr th:only-of-type {\n",
       "        vertical-align: middle;\n",
       "    }\n",
       "\n",
       "    .dataframe tbody tr th {\n",
       "        vertical-align: top;\n",
       "    }\n",
       "\n",
       "    .dataframe thead th {\n",
       "        text-align: right;\n",
       "    }\n",
       "</style>\n",
       "<table border=\"1\" class=\"dataframe\">\n",
       "  <thead>\n",
       "    <tr style=\"text-align: right;\">\n",
       "      <th></th>\n",
       "      <th>primaryName</th>\n",
       "    </tr>\n",
       "  </thead>\n",
       "  <tbody>\n",
       "    <tr>\n",
       "      <th>9181305</th>\n",
       "      <td>!'aru Ikhuisi Piet Berendse</td>\n",
       "    </tr>\n",
       "    <tr>\n",
       "      <th>7833746</th>\n",
       "      <td>!Gubi Tietie</td>\n",
       "    </tr>\n",
       "    <tr>\n",
       "      <th>6165074</th>\n",
       "      <td>!Mystery Girl!</td>\n",
       "    </tr>\n",
       "    <tr>\n",
       "      <th>889047</th>\n",
       "      <td>!Nqate Xqamxebe</td>\n",
       "    </tr>\n",
       "    <tr>\n",
       "      <th>3600240</th>\n",
       "      <td>!llmind</td>\n",
       "    </tr>\n",
       "  </tbody>\n",
       "</table>\n",
       "</div>"
      ],
      "text/plain": [
       "                         primaryName\n",
       "9181305  !'aru Ikhuisi Piet Berendse\n",
       "7833746                 !Gubi Tietie\n",
       "6165074               !Mystery Girl!\n",
       "889047               !Nqate Xqamxebe\n",
       "3600240                      !llmind"
      ]
     },
     "execution_count": 13,
     "metadata": {},
     "output_type": "execute_result"
    }
   ],
   "source": [
    "df_names = df_names.sort_values('primaryName')\n",
    "df_names.head()"
   ]
  },
  {
   "cell_type": "code",
   "execution_count": 14,
   "metadata": {},
   "outputs": [],
   "source": [
    "imdbNames = set(df_names['primaryName'])\n",
    "# print('Tina Fay' in df_names['primaryName'].values)"
   ]
  },
  {
   "cell_type": "code",
   "execution_count": 15,
   "metadata": {},
   "outputs": [
    {
     "name": "stdout",
     "output_type": "stream",
     "text": [
      "['Melanie Inglessis', 'Sean Connery', 'Colin Hanks', 'Robert Kirkman', 'Charlie Brown', 'Access Hollywood', 'Consumer Electronics', 'Sean Ash', 'Eddie Izzard', 'Private Ryan', 'Faye Miller', 'Mark Wahlberg', 'Dolly Grip', 'Charlie Hunnam', 'Roseanne Barr', 'Monica Rose', 'Peyton Manning', 'Stephanie Young', 'George George', 'Jaime Camil', 'John Nendick', 'Gary Busey', 'Saint Joseph', 'Cindy Crawford', 'Triple Threat', 'Ozzie Smith', 'Sam Rockwell', 'Dalton Mugridge', 'Sam Waterston', 'Chiwetel Ejiofor', 'Billy Murray', 'Brendan Fraser', 'Elizabeth Wagmeister', 'Kristina Bazan', 'Kiernan Shipka', 'Kevin Smith', 'John Legend', 'Rich Juzwiak', 'Jamie Chung', 'Michael Imperioli', 'Maxine Peake', 'George Shakra', 'Peter Bishop', 'Nikki Cox', 'Pam Dawber', 'Charlotte Church', 'Jo Lo', 'Pink Elephant', 'Margaret Cho', 'Patty Smith', 'Patty Arquette', 'Diane Reese', 'Rab Wilson', 'Field Mob', 'Paris Jackson', 'Jen Lopez', 'Aunt Bonnie', 'Giuliana Rancic', 'Anne Bates', 'Prince Rogers', 'Cris Carter', 'Alan Cumming', 'Bill Clinton', 'Amy Adam', 'Karishma Tanna', 'Bill Bon', 'Jay Lo', 'Alex Needham', 'Nancy Carell', 'Emilie Livingston', 'James Dornan', 'Mind Games', 'Mike Pereira', 'Donald Trump', 'Kathryn Teaney', 'Bobby Pins', 'Paul Simon', 'Ginger Spice', 'Elaine Stritch', 'Emilio Estevez', 'Jeremy Renner', 'Taylor Hackford', 'James Cromwell', 'Sunrise Coigney', 'Bruce Springsteen', 'Rob Silverstein', 'Mark Strong', 'Steve Coogan', 'Lynn Waters', 'Leslie Miller', 'Vincent Lecavalier', 'Arcade Fire', 'Kristin Stewart', 'Kate Moss', 'Khleo Thomas', 'Jensen Ackles', 'Michael John', 'Lauren Graham', 'Rush Limbaugh', 'New Adventures', 'Quentin Tarantino', 'Vanna White', 'Zsa Zsa', 'Brian Cranston', 'Blue Moon', 'Chanel Couture', 'Gene Kelly', 'Susan Africa', 'Doug Ross', 'Kurt Sutter', 'Next Door', 'Free People', 'Shirley Bassey', 'Vanessa Hudgens', 'Clint Barton', 'Steven Price', 'Tahj Mowry', 'Charlie Weaver', 'Paul Shirey', 'Harvey Dent', 'Sesame Street', 'Woody Allen', 'Follow Me', 'New Generation', 'Juliana Moore', 'Jon Lithgow', 'Jesse Jane', 'Matthew Broderick', 'Robert Duvall', 'Madam Secretary', 'Neil Armstrong', 'Vincent Chase', 'Magic Mike', 'Jodie Foster', 'New York', 'Simon Halls', 'Nancy Tartaglione', 'Kirk Cameron', 'Big Kev', 'Paul Drinkwater', 'Stephen Colbert', 'Danny Vee', 'Rooney Mara', 'True Detetive', 'Zosia Mamet', 'Lost Highway', 'Warren Truss', 'Adam Duritz', 'Shane Vieau', 'Paula Poundstone', 'Antonio Sanchez', 'Merritt Wever', 'Olivia Evans', 'Lou Holtz', 'Leonard Cohen', 'John Stamos', 'Joe Boxer', 'Matt Bones', 'Zackary Drucker', 'Menina Fortunato', 'Temple Grandin', 'Mickey Rooney', 'Cincinnati Reds', 'Bad Boys', 'Ricky Smiley', 'Circle Jerks', 'King Kong', 'Maggie Smith', 'Los Angeles', 'Matt Firestone', 'Art Deco', 'Giambattista Valli', 'Vidal Sassoon', 'David Spade', 'Oh Ok', 'Leslie Fremar', 'Sepp Blatter', 'Princess Diana', 'Jeff Cox', 'Long John', 'Kevin Pacey', 'Alfre Woodard', 'Hollywood Legend', 'Gerard Butler', 'Mindy Grossman', 'Joe Dirt', 'Angelina Jolie', 'Blue Bloods', 'Pin Pin', 'Colton Haynes', 'Janet Reno', 'Giorgio Armani', 'Marina Abramovic', 'Brett Butler', 'Pat Lamb', 'Billy Magnussen', 'Air Conditioner', 'Richard Madden', 'Sir Michael', 'Hassan Whiteside', 'Jethro Nededog', 'Johan Johannson', 'Dick Wagner', 'Johnny Knoxville', 'Julia Lewis', 'Crystal Carrington', 'Alicia Cox', 'Bill Zwecker', 'Julianne Moore', 'Ted Sarandos', 'John Rivers', 'Sasha Grey', 'Randy Marsh', 'Eric Smiley', 'Russell Brand', 'Jonathan Groff', 'Peter Sarsgaard', 'Billie Jean', 'Don Nelson', 'Steve Jobs', 'Bill Burr', 'Brittany Watson', 'Jeb Bush', 'Sunny Leone', 'Royal Blood', 'Phillip Glass', 'Alex Kingston', 'Marvin Hamlisch', 'De Mille', 'Luke Banter', 'Emanuel Ungaro', 'Kate Young', 'Tim Robbins', 'Kyle Chandler', 'Terence Fletcher', 'Hrithik Roshan', 'Tim Meadows', 'Jude Law', 'James Newton', 'Yemi Alade', 'Amy Hathaway', 'Billy Bong', 'Allen Leech', 'Jayne Mansfield', 'Nihal Chand', 'Robert Palmer', 'Iggy Azalea', 'Perez Hilton', 'Laura Mercier', 'Evangeline Lilly', 'Kevin Kline', 'Carrie Fisher', 'Burt Reynolds', 'Jimmie Walker', 'Michael Pena', 'Rosalind Russell', 'Matthew Macfadyen', 'Diego Costa', 'Julie Plec', 'Roland Barthes', 'Jaclyn Smith', 'Terrence Malick', 'Deacon Frost', 'Pearl Harbor', 'White Boy', 'Harold Ramis', 'Brad Pitt', 'Tia Carrere', 'Roland Wilson', 'Jonas Armstrong', 'Jane Eyre', 'Time Machine', 'James Brown', 'Jake Peavy', 'Camera Man', 'Cynthia Littleton', 'French Montana', 'Savion Glover', 'John Hopkins', 'Billy Blaze', 'All Cast', 'Mark Hamill', 'James Harden', 'Margaret Keane', 'Meow Meow', 'Morgan Hill', 'Chris Pine', 'Tina Fey', 'Sweet Dee', 'Octavia Spencer', 'Missing Persons', 'Laurie Graham', 'Mike Rush', 'Dora Lee', 'Annie Wilkes', 'Zoe Saldana', 'Alan Cummings', 'Natalie Wood', 'Mao Padilha', 'Mindy Kaling', 'Liz Lange', 'Aasif Mandvi', 'Armond White', 'Justin Verlander', 'Tim Burton', 'Terrance Howard', 'Jermaine Jackson', 'Jason Derulo', 'Nic Pizzolatto', 'Mike Yeo', 'Jiminy Cricket', 'Miss Margaret', 'Emma Stone', 'Peggy Sue', 'Barry Manilow', 'Sean Federline', 'Mark Ralston', 'Maureen Dragone', 'Paris Hilton', 'Abby Bates', 'Glenn Morshower', 'Real Talk', 'Ron Weasley', 'Big Tasty', 'David Letterman', 'Yisus Craist', 'Amy Ferris', 'James Cannon', 'Rosetta Stone', 'Olivia Munn', 'Vincent Vaughn', 'Bradford Young', 'Ted Turner', 'Amy Elliott', 'Conrad Black', 'Brett Favre', 'Shane Paish', 'Greg Brady', 'Ryan Murphy', 'Robyn Wright', 'James Bond', 'Piers Morgan', 'Clive Owen', 'Jessica Biel', 'Ron Burgundy', 'Lorenzo Cain', 'Gene Steratore', 'Johan Johanson', 'Mile High', 'All That', 'Damian Lillard', 'Carmen Ejogo', 'Amanda Seyfried', 'Stanley Tucci', 'Joel Cohen', 'Alfred Hitchcock', 'Bill Macy', 'Anna Gunn', 'Jen Keefe', 'James Garfield', 'Verne Troyer', 'Joe Jonas', 'Mark Ruffalo', 'Keith Lieberthal', 'Avril Lavigne', 'Justin Leonard', 'Angela Davis', 'Robert Wagner', 'Ice Cold', 'Cy Young', 'Queen Victoria', 'Lindsey Kupfer', 'Michael Barker', 'Jordan Crook', 'Joey Barton', 'Super Sexy', 'Blake Griffin', 'Allison Jennings', 'Green Eyes', 'Janet Jackson', 'Little Nicky', 'Chris Bosh', 'Great White', 'Kelly Prest', 'Kara Knightly', 'Danielle Steele', 'Hunter Pence', 'Nadia Comaneci', 'Joe Lewis', 'Karl Rove', 'Estee Stanley', 'Jackie Brown', 'Victoria Justice', 'Julie Roberts', 'Laurence Olivier', 'Stonewall Jackson', 'Roddy Bottum', 'Patrick Ewing', 'Talia Balsam', 'Craig Melvin', 'Joey Graceffa', 'Memphis Grizzlies', 'Lionel Richie', 'Steven Hawking', 'Christian Grey', 'Nina Terrero', 'Lady Di', 'Tyne Daly', 'Morten Tyldum', 'Decatur Redd', 'Billie Piper', 'Franck Muller', 'Dick Wolf', 'Kirstie Alley', 'Melanie Mills', 'Jake Gyllenhaal', 'Anthony Quinn', 'Jazmine Hughes', 'Felicity Jones', 'Eleanor Rigby', 'Grandpa Johnson', 'Annette Funicello', 'Austin Mahone', 'Kelly Keaton', 'Angie Harmon', 'Dianna Agron', 'Vince Ferragamo', 'Rick Ross', 'Simon Hall', 'Haley Joel', 'Glenn Howerton', 'Clayton Davis', 'Linda Axelrod', 'Tim Ho', 'Secret Service', 'James Riley', 'Spirit Animal', 'Jordy Nelson', 'Drew Stafford', 'Ruth Bader', 'Stanley Kramer', 'Christina Davis', 'Kaley Cuoco', 'Nancy Pelosi', 'Paula Deen', 'Candice Birns', 'Laura Jean', 'Tina Turner', 'Jimmy Carter', 'Kristen Parker', 'Cicely Tyson', 'Ashley Olsen', 'Keith Robinson', 'Mad Max', 'Tara West', 'Kevin Love', 'Angela Simmons', 'Tim Hortons', 'Ferris Bueller', 'Sid Caesar', 'James Spencer', 'Mike Judge', 'Keira Knightley', 'Tatiana Maslany', 'Richard Jenkins', 'Molly Walker', 'Keith Evans', 'Idris Elba', 'Garth Brooks', 'Johan Johansson', 'Bonnie Tyler', 'Swan Lake', 'Angela Bowers', 'Bob Odenkirk', 'Al Roker', 'Mary Kate', 'Gabi Hoffmann', 'Meghan Trainor', 'Ryan Ross', 'Taylor Negron', 'Brittany Snow', 'Jay Park', 'Ed Wood', 'Kenny Rogers', 'Delphine Manivet', 'Red Foxx', 'Miles Munro', 'Zach Bogosian', 'Jackie Harris', 'Dustin Lynch', 'Little Women', 'Peter Pan', 'Jim Dunaway', 'Damian Lewis', 'Cherry Hill', 'Teen Wolf', 'Les Moonves', 'Pedro Pascal', 'Daniela Kurrle', 'Robbie Robertson', 'Barry Adelman', 'Dorian Grey', 'Darren Le', 'Malcolm Gladwell', 'Jason Mott', 'Charlie Manson', 'Dean Walker', 'Richard Perry', 'Roy Boswell', 'Mark Mark', 'Rock Star', 'Dream Weaver', 'Jared Christ', 'Jeff Jensen', 'Baby Boy', 'Stay Puft', 'Michael Shannon', 'Kyle Clark', 'Elsa Pataky', 'Bob Ulrich', 'Robert Bianco', 'Bob Mould', 'Mark Kozelek', 'Warner Brothers', 'Bruce Dern', 'Wesley Snipes', 'Danny Reynolds', 'Curry Valenzuela', 'Kobe Bryant', 'Molly Cooper', 'Sean Young', 'Kurt Geiger', 'Spanish Fly', 'Jim Nantz', 'Barney Miller', 'Samantha Guthrie', 'Jason Merritt', 'Paul Rudish', 'Sierra Miller', 'Grace Randolph', 'Thomas Rhett', 'Uncle Kevin', 'Sally Field', 'Jack Doyle', 'Jessica Lang', 'Jason Lane', 'Kevin Harr', 'Martin Lawrence', 'Albert Finney', 'Anna Hathaway', 'Jonathan Clay', 'Hayden Panettiere', 'Louis Bloom', 'Nick Young', 'Lena Du', 'Olive Garden', 'Scott Podsednik', 'Zac Posen', 'June Squibb', 'Forest Gump', 'Marco Polo', 'Danny Ocean', 'Jack Donaghy', 'Alaska Thunderfuck', 'John Lydon', 'Kate Foster', 'Shraddha Kapoor', 'Christopher Hitchens', 'Adam Driver', 'Bow Bow', 'Martha Ross', 'Michelle Visage', 'Rachel Foulger', 'Sally Bowles', 'Richard Gilmore', 'Casey Jones', 'Divine Brown', 'Don Manolo', 'Purple Reign', 'Carol Brady', 'Ronit Elkabetz', 'Audrina Patridge', 'Kris Jenner', 'Ted Gibson', 'Brian Anthony', 'Jenny An', 'Arlene Dahl', 'Costume Designer', 'Dan Roan', 'Jenji Kohan', 'Kathryn Hahn', 'Daniel Johnston', 'Jennifer Connolly', 'Larissa Primeau', 'Alan Dershowitz', 'Matt Stone', 'Carter Burwell', 'Randy Ward', 'Reem Acra', 'Star Greer', 'Nice Shoes', 'Mark Boardman', 'Liam Neeson', 'Gedde Watanabe', 'Big Brother', 'Paulie Malignaggi', 'Manny Pacquiao', 'Muammar Gaddafi', 'Joshua Malina', 'Camille Grammer', 'Lee Daniel', 'Zach Galifianakis', 'Michael Hogan', 'John Doman', 'Anna Kenrick', 'Trend Setter', 'Spike Lee', 'Wednesday Addams', 'Jenny Rodriguez', 'Bridget Fonda', 'Margot Robbie', 'Princess Jasmine', 'Cillian Murphy', 'Glenn Whipp', 'Sandra Oh', 'Sarah Hyland', 'Jonathan Vankin', 'Derek Jeter', 'Jane Rodriguez', 'Pauly Shore', 'Mike Krzyzewski', 'Five Minutes', 'David Edelstein', 'Judi Dench', 'Josh Hutcherson', 'Sam Cassell', 'Enrique Iglesias', 'Shailene Woodley', 'Optimus Prime', 'Lovers Lane', 'Melissa Rivers', 'Kevin Pollak', 'Christie Brinkley', 'Miss Piggy', 'Elisabetta Canalis', 'Justin Bieber', 'Jack Black', 'Jersey Boys', 'Steve Austin', 'Miss Emma', 'Kat Bates', 'Len Wiseman', 'Ed Westwick', 'Food Network', 'Chris Miller', 'La Vie', 'Dennis Quaid', 'Crypt Keeper', 'James Galanos', 'Jeff Fisher', 'Angela Guevara', 'Stevie Knicks', 'Leigh Thompson', 'Eli Manning', 'Lorraine Schwartz', 'Elizabeth Perkins', 'David Oye', 'Richard Gere', 'Dan America', 'Ryan Potter', 'Troy Thompson', 'James Franco', 'Film Independent', 'Rory Carroll', 'Red Rose', 'Fresh Air', 'Hot Stuff', 'Clark Kent', 'Siaani Lane', 'Frank Lampard', 'Stacy Keibler', 'Jenna Jacobs', 'Rahul Gandhi', 'Ted Levine', 'Ya Ya', 'Marc Platt', 'Master Mason', 'Lucky Charms', 'Shlomi Elkabetz', 'Geyer Kosinski', 'Mother Hubbard', 'Dave Franco', 'Lisa Faith', 'Ken Jeong', 'Anjelica Huston', 'Alan Moore', 'Philip Seymour', 'Oliver Hudson', 'Matt Donnelly', 'Amy Day', 'News Live', 'Rich Little', 'Tina Chai', 'Seth Rogen', 'Chris Farley', 'Paul Thomas', 'Dana Perri', 'Chow Young', 'Max Hardy', 'Saba Hamedy', 'Miranda Lambert', 'Nick Miller', 'Big Deal', 'Lee Thomas', 'Greg Hardy', 'Larry King', 'Raquel Welch', 'Ian Richardson', 'Nick Jackson', 'Maria Shriver', 'Alison Bailey', 'Terry Bradshaw', 'Janet Leigh', 'Amma Asante', 'Rene Russo', 'Francine Smith', 'Ruth Wilson', 'David Duchovny', 'Shanola Hampton', 'Sabrina Hughes', 'Tila Tequila', 'Kit Harrington', 'Le Matin', 'Sky Adams', 'Guilty Pleasure', 'Julie Hinds', 'John Le', 'Rick Rubin', 'Bray Wyatt', 'Steve Zahn', 'Cauby Peixoto', 'Deepika Padukone', 'Kevin Klein', 'Karl Pilkington', 'Kyrie Irving', 'Black Widow', 'Karl Lagerfield', 'Kyle Lowry', 'Kris Kringle', 'Jenna Dean', 'Jamie Lee', 'Chris Evans', 'Anthony Bove', 'Chadwick Boseman', 'Donna Summer', 'Silver Screen', 'Steve Martin', 'Richard Gervais', 'Bad Taste', 'Jesse Metcalfe', 'Ava Gardner', 'Princess Catherine', 'Captain John', 'Kimberly Perry', 'Jim Morrison', 'Ted Baker', 'Jennifer Garner', 'Johnny Walker', 'Robert Duval', 'Ronnie James', 'King Arthur', 'Alexandria Serafini', 'Vince Vaughn', 'Santa Claus', 'Under Armour', 'John Singer', 'Allison Bailey', 'Charles Grodin', 'Jeffrey Reiner', 'Lauren Bowles', 'Josh Charles', 'Pope Francis', 'Kevin James', 'Ronald Reagan', 'Vinny Chase', 'Woodrow Wilson', 'Stephanie Tanner', 'Red Lips', 'Meg Ryan', 'Already Won', 'Rick Grimes', 'New Hollywood', 'Colin Farr', 'Junior Prom', 'Wendy Davis', 'Monday Morning', 'Santa Barbara', 'Don Hall', 'Stephen Hawkins', 'Sugar Shack', 'Alicia Fox', 'Cassidy Quinn', 'Mad Hatter', 'Yael Grobglas', 'Carla Bruni', 'Paul Rudd', 'Chad Lowe', 'Joshua Jackson', 'Katy Bates', 'Jhizet Panosian', 'Live Action', 'Idina Menzel', 'Mila Kunis', 'Ronda Rousey', 'Vera Farmiga', 'Colonel Sanders', 'Johnny Taylor', 'Jane Austen', 'Nancy Binay', 'Fred Durst', 'Ryan Tubridy', 'Joan Cusack', 'Darth Vader', 'Bryan Green', 'Action Jackson', 'Ivan Drago', 'Angela Lansbury', 'James Marsden', 'Harvey Weinstein', 'Julia Roberts', 'Lou Diamond', 'Eric White', 'Monique Moss', 'Right Time', 'Huevos Rancheros', 'Rick Sutcliffe', 'Elizabeth Mitchell', 'Jeff Tweedy', 'Maria Menounos', 'Gene Simmons', 'David Zucker', 'Matt Bone', 'Richard Pryor', 'Gayle King', 'Jessica Szohr', 'Lone Ranger', 'Matt Fraction', 'Clint Eastwood', 'Stella Artois', 'Michael Perry', 'Robert Carlock', 'Dan Chiasson', 'Rosanna Arquette', 'Masha Gessen', 'Susan Lucci', 'Johnny Legend', 'Maryam Malakpour', 'George Burnett', 'Emma Stoned', 'Ethan Hawkes', 'Four Brothers', 'Doug Savant', 'Cain Velasquez', 'Alejandro Junger', 'Anna Farris', 'Dark Brown', 'Chrissy Teigen', 'John Travolta', 'Adam Levine', 'Cheap Trick', 'Pom Pom', 'Ryan Howard', 'Factory Worker', 'Russell Crowe', 'Fran Lebowitz', 'Kam Chancellor', 'Mandy Patinkin', 'Emma Thompson', 'Liza Huber', 'Tina Frey', 'Michael Longoria', 'Lucy Li', 'Sam Smith', 'Ice Cube', 'Tyson Fury', 'Method Man', 'Dean Martin', 'Emily Deschanel', 'Billy Madison', 'Jennifer Lynn', 'Castle Rock', 'Mary Ann', 'Moulay Yacoubi', 'Brooke Shields', 'Jamie Dorman', 'Sarah Rafferty', 'Kathleen Chalfant', 'Coca Cola', 'Hot Chocolate', 'Fantasy Life', 'Latrice Royale', 'John Hodgman', 'Steven Collins', 'Aida Takla', 'Lorelei Linklater', 'Daniel Alvarado', 'Angel Sanchez', 'James Jameson', 'Perfect Red', 'Morris Day', 'Bruce Wayne', 'Penelope Cruz', 'Barbara Bush', 'Detlef Schrempf', 'Taylor Kinney', 'Michael Kelly', 'Ang Lee', 'Hailee Steinfeld', 'Dress Code', 'Modern Day', 'Cheap Seats', 'Chris Hart', 'Hannah Montana', 'Angus Young', 'Buck Wild', 'Nancy Reagan', 'Jerry Ferrara', 'Matt Bauer', 'Bart Conner', 'Dustin Hoffman', 'Linda Holmes', 'Jimmy Stewart', 'Hugh Bonneville', 'Ron Swanson', 'David Stern', 'James Corden', 'Amy Pollard', 'Adam Carolla', 'Lee Daniels', 'Justin Barco', 'Just Me', 'Eric Holder', 'Jack Nicholson', 'Urban Meyer', 'Amanda Peet', 'Christopher Miller', 'Patricia Neal', 'Red Devils', 'Don King', 'Welcome Back', 'George Forman', 'Jersey Shore', 'Jadeveon Clowney', 'Christoph Waltz', 'Johnny Weir', 'Demi Moore', 'Amelia Warner', 'Big Eyes', 'Jennifer Lawrence', 'Harry Ford', 'Neil Young', 'Sweet California', 'Ricky Bobby', 'Ja Ja', 'Cris Collinsworth', 'First Love', 'Clint Barmes', 'Narendra Modi', 'Taran Killam', 'Liam Payne', 'Deacon Palmer', 'Coco Chanel', 'Leighton Meester', 'Jake Roberts', 'Snow White', 'Les Miserables', 'Leslie Mann', 'Juliette Moore', 'Wendy Darling', 'Maura Tierney', 'Witness Protection', 'Roger Sterling', 'Kelly Washington', 'Big Fish', 'Swoosie Kurtz', 'Phil Spector', 'Stephen Collins', 'Daniela Alvarado', 'Ginger Alden', 'Cleveland Cavaliers', 'Dan Aykroyd', 'Survival Guide', 'Louis Roe', 'Robert Waggoner', 'Bill Pullman', 'Raif Badawi', 'Hans Landa', 'Queen Elizabeth', 'Lionel Messi', 'Aaron Swartz', 'Second City', 'Jermaine Jones', 'John Voigt', 'John Voit', 'James Potter', 'Lana Parrilla', 'Laverne Cox', 'White Trash', 'Luke Wilson', 'Peter Russo', 'Gerry Sandusky', 'Paige Brown', 'Cameron Monaghan', 'Thomas Carter', 'Small World', 'Taissa Farmiga', 'Tadashi Shoji', 'Ding Ding', 'Roy Keane', 'Bill Love', 'Anthony Mackie', 'Chris Waltz', 'Samira Wiley', 'Ryan Eggold', 'Orlando Bloom', 'Common Sense', 'Katie Rodgers', 'Jessica Paster', 'Ellen Page', 'Antonio Gramsci', 'Adam Adams', 'World Champion', 'Emily Bunt', 'Judy Jetson', 'Jules Asner', 'Amandla Stenberg', 'Hilary Lewis', 'Ashley Dawn', 'Band Aid', 'Warwick Davis', 'Carolyn Mayling', 'Grumpy Cat', 'Olivia Newton', 'Kurt Russell', 'Lamorne Morris', 'Ariana Grande', 'American Airlines', 'Alison Sweeney', 'Dorothy Hamill', 'Mindy Cohen', 'Tim Howard', 'David Boreanaz', 'Jan Sewell', 'Kurt Angle', 'Matt Czuchry', 'Amy Cosby', 'David Oh', 'True Love', 'Esai Morales', 'Kevork Djansezian', 'Dana Brunetti', 'Patrick Ryan', 'Ned Stark', 'Phoebe Cates', 'Patrick Bateman', 'Michael Jordon', 'Nate Robinson', 'Hoodie Allen', 'Paul Shaffer', 'Jon Lewis', 'Simon Abkarian', 'James Maslow', 'Jessica Parker', 'Trey Anastasio', 'Anne Hathaway', 'Jody Foster', 'Jake Kirby', 'Alice Morgan', 'Don Johnson', 'Ed Bradley', 'Paul Jacek', 'Nina Dobrev', 'New Look', 'Angela Case', 'John Green', 'Nathalia Ramos', 'Chloe Cox', 'Rex Ryan', 'Kiss Kiss', 'Amber Rose', 'Brian Singer', 'Zoe Barnes', 'Rita Ora', 'Jean Simmons', 'Young Guy', 'Gloria Estefan', 'Wiz Khalifa', 'Corey Hart', 'Richard Dreyfuss', 'Mica Levi', 'Jennie Kim', 'Michael Keat', 'Big Tymers', 'Carmilla Karnstein', 'National Lampoon', 'Veronica Lake', 'Jeff Dunham', 'Allison Janney', 'Rob Brydon', 'Dan Gilroy', 'Mark Sparrow', 'John Surtees', 'Loretta Lynn', 'Panda Express', 'Rich Man', 'Kate Middleton', 'Lea Thompson', 'Margaret Mitchell', 'Jordan Hill', 'Roland Martin', 'Ryan Reynolds', 'Phil Kessel', 'Kareena Kapoor', 'Red Band', 'Katie Lowes', 'Monte Carlo', 'Fat Louie', 'Jason Korsner', 'John Ostrander', 'Man Alive', 'Snow Man', 'Zakk Wylde', 'Katie Perry', 'Bill Gates', 'Thana Alexa', 'Ozzy Osbourne', 'Charlotte Russe', 'Gregor Samsa', 'Red Pepper', 'Cash Warren', 'Tilda Swinton', 'Shah Alam', 'Harold Matzner', 'Adriana Lima', 'Sarah Michelle', 'Lil Bit', 'Parineeti Chopra', 'Barry Melrose', 'Kenny Loggins', 'Sela Ward', 'Josue Rivera', 'Prince Harry', 'Mathew Perry', 'Riot Games', 'Pepe Auth', 'Jason Statham', 'Brad Grey', 'Sweet Dreams', 'Melissa Kane', 'Joe Namath', 'Emma Frost', 'Peter Quill', 'Eddie Redmayne', 'Rick James', 'Cristina Ehrlich', 'Gaby Hoffmann', 'Nikki Finke', 'Chris Pratt', 'Amy Watts', 'Bree Sharp', 'Christopher Walken', 'Don Cheadle', 'Kaitlyn Lawes', 'Anita Morris', 'Gina Lollobrigida', 'Buster Keaton', 'Dakota Johnson', 'Elizabeth Strout', 'Young Money', 'Robert Rodriguez', 'Nae Nae', 'Jean Co', 'Steven Spielberg', 'Candy Crush', 'Rachel Green', 'Stephen Hirsh', 'Ally Mcbeal', 'Auntie Mame', 'Don Meadows', 'Jay Baruchel', 'Phil Johnson', 'Victoria Smurfit', 'Tim Mc', 'Alan Frio', 'Puerto Rican', 'Poor Paul', 'Samantha Highfill', 'Paul Giamatti', 'Jackie Chan', 'Ross Patterson', 'Edna Mode', 'Amy Adams', 'Teri Hatcher', 'Joe Schmo', 'Jesse Eisenberg', 'Gareth Pugh', 'Kristin Booth', 'Edie Falco', 'Jason Bateman', 'New Black', 'Oh Brother', 'Carpe Diem', 'Tito Jackson', 'Richard Ayoade', 'Stephen Amell', 'Wes Welker', 'Lorne Michaels', 'Dean Thomas', 'Sup Ricky', 'Mia Khalifa', 'Danny Feld', 'Al Sharpton', 'Lenny Kaye', 'Valerie Adams', 'Zanna Rassi', 'New Skin', 'Sarah Larson', 'Brendan Jordan', 'Manuel Neuer', 'Zac Efron', 'Chris Bradley', 'Miu Miu', 'Jenna Kirkeeng', 'Mark Duplass', 'Sam Houston', 'Wanda Sykes', 'Jesse Spencer', 'Jeffrey Talbot', 'Lorna Dove', 'Steve John', 'Fried Chicken', 'Rock Johnson', 'Taxi Driver', 'Old Masters', 'Anne Franks', 'Leonardo De', 'Jane Wilde', 'David Geffen', 'Jerry Springer', 'Joan Collins', 'Point Break', 'Michael Stipe', 'Luciana Pedraza', 'Miley Cyrus', 'Earl Grey', 'Johnny Carson', 'Lyndon Johnson', 'Leslie Stefanson', 'Bobbie Gentry', 'Katie Holmes', 'Kim Jung', 'Amy Landecker', 'Timothy Smith', 'Justin Timberlake', 'Mary Katrantzou', 'Jason Leigh', 'Shots Fired', 'Gillian Flynn', 'Jorge Gutierrez', 'Poison Ivy', 'Nigella Lawson', 'Steve Schepis', 'Iron Fist', 'Aaron Miller', 'Keanu Reeves', 'Amy Sedaris', 'Lee Curtis', 'Anita Ekberg', 'Pawel Pawlikowski', 'Billy Billy', 'Kevin Bacon', 'Dear Jack', 'Charlie Nichols', 'Bill Murray', 'Vicki Vale', 'Liz Lemon', 'Kat Hudson', 'Baby Bumps', 'Aaron Altman', 'John Vogt', 'Jerry Jones', 'Jake Johannsen', 'Kix Brooks', 'Margarita Levieva', 'Lee Pace', 'Cristiano Ronaldo', 'Leeza Gibbons', 'American Dream', 'Oliver Mac', 'Ian Mohr', 'Randy Gerber', 'Alice Cooper', 'David Johnston', 'Joe Conklin', 'Mary Louise', 'Human Nature', 'Emily Sharp', 'Josh Gad', 'John Maybury', 'Joni Mitchell', 'Phillip Lim', 'Hannah Redmayne', 'Christine Baranski', 'Seyi Shay', 'Nathan Fillion', 'Guillermo Diaz', 'Dez Bryant', 'Keri Hilson', 'Richard Grieco', 'Nine Nine', 'Kat Dennings', 'Hope Lea', 'Dougray Scott', 'Rob Lowe', 'Master Bates', 'Eddie Murphy', 'Black Out', 'Ray Nagin', 'Michael Parks', 'Don Lemon', 'Al Walser', 'Garrett Allen', 'Diana Ross', 'Amy Fine', 'Chris Himsworth', 'Ashton Kutcher', 'Carmen Miranda', 'Steve Carrel', 'Donna Martin', 'Oliver Twist', 'Cameron Wilson', 'Emma Blunt', 'Save Me', 'Robert Downing', 'Izzy Stevens', 'Even Kelly', 'Rick Steves', 'Emily Blunt', 'El Negro', 'Easter Bunny', 'David Lee', 'Taylor Swift', 'Emmy Rossum', 'David Schwimmer', 'Laura Vandervoort', 'Amitabh Bachchan', 'Derek Lam', 'Richard Karn', 'Marcia Gay', 'Ellie Kemp', 'Alan Clarke', 'Emma Roberts', 'Stephen Foss', 'Peter Coyote', 'Chaz Bono', 'Julianna Moore', 'John Gemberling', 'Vinnie Jones', 'Steve Carroll', 'Wayne Coyne', 'Alec Baldwin', 'Phil Mickelson', 'Dom West', 'Love Hurts', 'Jeff Tatum', 'Billy Horschel', 'Katy Perry', 'Lands End', 'Jaymie Matthews', 'Roman Polanski', 'Dean Blandino', 'Hank Mardukas', 'Justin Lin', 'Ryan Randall', 'Uncle Fester', 'Laetitia Casta', 'Luke Bryan', 'Charissa Thompson', 'Debra Messing', 'Kari Feinstein', 'Sienna Miller', 'Elie Saab', 'Julianna Margulies', 'Jessica Sanchez', 'Paris France', 'Chris Gayle', 'Alexandre Desplat', 'Chris Kyle', 'Oh La', 'Maria Montez', 'David Oyelowo', 'Darren Clarke', 'Wonder Ava', 'Hail Mary', 'First Lady', 'Uma Thurman', 'Jeff Moore', 'Atticus Finch', 'Rob Grant', 'Sue Thomas', 'Lenny Kravitz', 'Bryan Moore', 'Public Enemy', 'Ann Curry', 'Bob Mackie', 'Jo Champa', 'Skylan Brooks', 'Michael Meaton', 'Mike Douglas', 'Charlie Chan', 'Jeremy Burgess', 'Judith Holste', 'Dark Knight', 'Mara Roszak', 'Susan Downey', 'Roy Krishna', 'Del Rey', 'Oscar Pistorius', 'Chai Latte', 'Margaret Qualley', 'Ryan Talmo', 'Neil Gaiman', 'Uncle George', 'Carol Dysinger', 'Michael Clayton', 'Jack Daniels', 'General Lee', 'David Thomson', 'Adrian Grenier', 'Chelsea Peretti', 'Assata Shakur', 'Jamie Dixon', 'Buzz Lightyear', 'Mark Burnett', 'Dabney Coleman', 'Nick Clooney', 'Armani Junior', 'Dirk Diggler', 'Phil Donohue', 'Rachel Greene', 'Faith Prince', 'Georgie Boy', 'Bob Newhart', 'Steven Wright', 'Silver Spoon', 'Julianne Hough', 'Third Person', 'Sam Jackson', 'Vivienne Westwood', 'Barbara Walters', 'Chris Dodd', 'Cowardly Lion', 'Kat Kramer', 'Jacqueline Bisset', 'Kelly Osbourne', 'Billy Thornton', 'Ken Wahl', 'Amy Fey', 'Kay Francis', 'Larry Salz', 'Richard Brody', 'Melrose Place', 'Matt Lauer', 'Stacy Keach', 'Al Pacino', 'Daniel Baldwin', 'Karen Barragan', 'Anna Nicole', 'Marty Feldman', 'Evelyn Johnson', 'Max Medina', 'Santo Domingo', 'Queen Tina', 'Miss Patricia', 'Billy Eichner', 'Rip Taylor', 'Darren Aronofsky', 'Uriah Hall', 'Fifth Avenue', 'Chris Kirkpatrick', 'Lucy Liu', 'Viola Davis', 'Joan Scheckel', 'Alexis Mabille', 'James Woods', 'Peter Gabriel', 'Jason Reitman', 'Easy Rider', 'Black List', 'Wayne Rooney', 'Kristin Scott', 'Drew Carey', 'January Jones', 'Sandra Bullock', 'Katie Bates', 'Gunilla Persson', 'Peter Dinklage', 'Robin Leach', 'Blaise Pascal', 'Uncle Frank', 'Pumpkin Pie', 'Adam Sandler', 'Jose Ceballos', 'Ving Rhames', 'Vanessa Bayer', 'Richard Kimble', 'Dolce Vita', 'Pia Zadora', 'Jack Butler', 'Blythe Danner', 'Frank Lloyd', 'Jack Antanoff', 'Samantha Stark', 'Mad Scientist', 'Renee Fleming', 'Al Green', 'Billy Connolly', 'Billy Bob', 'Vincent Price', 'Simon Pegg', 'Michael Fassbender', 'John Lubbock', 'Chuck Lorre', 'Ethan Hawke', 'Shawn Parr', 'Tara Reid', 'Judy Finnigan', 'Cate Blanchett', 'Richard Simmons', 'Courteney Cox', 'Dick Cheney', 'Mark Olsen', 'Miles Tiller', 'Patrick Lussier', 'Ricky James', 'John Hughes', 'Alexandra Billings', 'Sharon Osbourne', 'Alison Wilson', 'Santa Maria', 'Johnny Wallis', 'Lady Catherine', 'Brent Bozell', 'Vladimir Putin', 'Martin Freeman', 'Chris Christie', 'Jeremy Jackson', 'Dick Grayson', 'Michael Emerson', 'Karl Urban', 'Billy Owens', 'Doctor Jones', 'Sebastian Stan', 'Laurence Fishburne', 'Brian Chumney', 'Sarah Koenig', 'Karen Gillan', 'Jerry Washington', 'Allan Grant', 'Grant Ellis', 'John Irving', 'Lisa Marie', 'Rocky Dennis', 'Ted Cruz', 'Michael Mann', 'Take That', 'Jeff Daniels', 'Christopher Barr', 'Marty Mcfly', 'Pam Ann', 'Lynn Whitfield', 'Time Zone', 'Rufus Wainwright', 'Victor Yebra', 'Ayesha Takia', 'Katherine Tulich', 'Jefferson Starship', 'Yayoi Kusama', 'Amy Amy', 'Jack Pratt', 'Nia Vardalos', 'Nick Mundy', 'George Jefferson', 'Hugh Grant', 'Aussie Fan', 'Mike Carey', 'Bryan Lourd', 'Claire Underwood', 'Truly Scrumptious', 'Dennis Rodman', 'Camila Alves', 'Sean Penn', 'Jenna Dewan', 'Red Zone', 'Priscilla Presley', 'Cory Monteith', 'Eye Candy', 'John Craven', 'Dakotah Johnson', 'Capri Sun', 'City Center', 'Von Miller', 'Alanis Morissette', 'David Cohen', 'Bark Ruffalo', 'Picture Perfect', 'Foo Fighters', 'Alton Brown', 'Da Man', 'Susan Sarandon', 'Lina Dee', 'Yakov Smirnoff', 'Dana Carvey', 'Georgina Chapman', 'Steve Carell', 'Red Dog', 'Chicken Nuggets', 'Matt Boner', 'Jason Bourne', 'Mohit Raina', 'Hirohiko Araki', 'Valerie Knight', 'Everyone Else', 'Josh Jackson', 'Gamer Girl', 'Power Couple', 'Robert Stone', 'Jane Krakowski', 'Jack Antonoff', 'Billy Bush', 'Space Cowboy', 'David Bowie', 'Ethan Coen', 'Reggie Jackson', 'Shane Kelly', 'Eddie Hobbs', 'Ricky Gervais', 'Lilliana Vazquez', 'Jena Malone', 'Emily Watson', 'Libby Hill', 'Paul Reubens', 'Angela Merkel', 'Rob Riggle', 'Salvatore Vincent', 'Paz Vega', 'John Fox', 'Arjen Robben', 'Martin Luther', 'Kelly Osborn', 'Vera Wang', 'Louise Roe', 'Sammy Davis', 'John Cena', 'Ross Mathews', 'Matt Blank', 'Karl Marx', 'Chris Martin', 'Jimmy Darling', 'Prince George', 'Don Cherry', 'Hugh Laurie', 'Mimi Brown', 'Rachel Bilson', 'Silky Smooth', 'Naya Rivera', 'Bob Thornton', 'Sean Kingston', 'Frank Drebin', 'Get Ready', 'Katey Sagal', 'Ryan Lattanzio', 'Kim Fields', 'David Attenborough', 'Ron Howard', 'Travis Mitchell', 'Sacheen Littlefeather', 'Rahul Mahajan', 'Rainn Wilson', 'Nucky Thompson', 'Doris Day', 'Paul Walker', 'Jaden Smith', 'George Cooney', 'Hot Girl', 'Randall Cobb', 'Karen Kramer', 'Front Row', 'Jenny Lo', 'Jane Fonda', 'Rollo Tamasi', 'Ty Burrell', 'Sean Maguire', 'Alan Arkin', 'Christina Ricci', 'Stefan Zweig', 'Jamie Doran', 'Sugar Plum', 'Joe Swanberg', 'Dave Grohl', 'Tammy Drew', 'Amanda Donohoe', 'Silver Fox', 'Molly Sims', 'Varg Vikernes', 'John Hawkes', 'Holy Ghost', 'Daniel Radcliffe', 'Nicolas Cage', 'Kathy Bates', 'Hollywood Hills', 'Jed York', 'Molly Brown', 'Ned Flanders', 'Big Bird', 'Robert Pattinson', 'Nick Cannon', 'Picture Motion', 'Marty Krofft', 'Claire Denis', 'Olivia Wilde', 'United Airlines', 'Nathan Adrian', 'Eddie Mekka', 'Cheryl Cole', 'Steve Marriott', 'Taylor Lautner', 'Jon Joseph', 'Mona Lisa', 'Kat Sadler', 'Bridget Jones', 'Richard Dawkins', 'Fifth Harmony', 'Rebecca Eaton', 'Sam Pagano', 'Hillary Clinton', 'Grateful Dead', 'Field Day', 'Anthony Bourdain', 'Zack Snyder', 'Ellen Pompeo', 'Sean Robinson', 'Annie Clark', 'Sean Locke', 'Gerald Ford', 'Morgan Freeman', 'Rebecca Keegan', 'Ellar Coltrane', 'David Fincher', 'Sean Douglas', 'Grant Gustin', 'Clive Standen', 'Jimmy Choo', 'Kirsten Dunst', 'Shirley Temple', 'Lisa Bonet', 'Sean Paul', 'Amal Clooney', 'Liz Phair', 'Michael Biehn', 'Cash Money', 'Summer Rain', 'Tyson Apostol', 'Carrie Bradshaw', 'Katie Bagley', 'Jennifer Jones', 'Anele Mdoda', 'Ken Sunshine', 'Mercedes Carrera', 'Rickie Fowler', 'Trent Reznor', 'Grandma Yetta', 'Bam Bam', 'Ethan Hawks', 'Matt Morris', 'Ringo Star', 'Black Star', 'Bill Moyers', 'Kristen Wiig', 'Charlie Price', 'Barry Watson', 'Rande Gerber', 'Linkin Park', 'Sean Parr', 'Ruby Dee', 'Virginia Woolf', 'Katherine Waterston', 'Darren Criss', 'Lauren Bacall', 'Joan Rivers', 'Frank Gallagher', 'Janet Mock', 'John Mayer', 'Kevin Dillon', 'Laeta Kalogridis', 'Barbra Streisand', 'National Anthem', 'Fred Armisen', 'Cal Ripken', 'At Last', 'Jack Gray', 'Adam Lambert', 'Young Hollywood', 'That Guy', 'Jeff Perry', 'Peter Burke', 'Felicity Huffman', 'Bill Nye', 'Lucy Hale', 'Faith Blum', 'Emmanuel Lewis', 'Paul Konrad', 'Gabourey Sidibe', 'Bob Ross', 'Valerie June', 'Scott Wolf', 'For You', 'Kevin Avery', 'John Cleese', 'Carrie Underwood', 'John Lithgow', 'Dion Waiters', 'Wes Craven', 'Bruce Hart', 'En Vogue', 'Great Aunt', 'Uzo Aduba', 'Robin Hood', 'Catherine Keener', 'Clay Aiken', 'Craig Robinson', 'Girl Talk', 'Ashley Streicher', 'Kathleen Robertson', 'John Voight', 'Jazmine Sullivan', 'Walter Sanders', 'Nick Jonas', 'Scott Pelley', 'Kevin Ollie', 'Austin Powers', 'Tiziana Rocca', 'Angela Levin', 'Seymour Hoffman', 'Katie Hudson', 'Mohamed Fahmy', 'Jon Kilmer', 'King George', 'Hope Michael', 'April Fool', 'Rat Pack', 'Hank Sanders', 'Barrett Brown', 'Simon Cowell', 'Muppet Babies', 'David Blatt', 'Elizabeth Stewart', 'Petra Flannery', 'Seth Gecko', 'Kaitlyn Dever', 'Seth Meyers', 'Charlie George', 'Wes Powers', 'Kathy Lee', 'Two Things', 'Sam Hamm', 'Gus Johnson', 'Robin Wright', 'Mickey Douglas', 'Iron Horse', 'Allie Carter', 'Niti Taylor', 'Levi Strauss', 'Matt Bomer', 'Ronan Farrow', 'Fantastic Four', 'Stana Katic', 'Peter Parker', 'Sutton Foster', 'Bryce Larkin', 'Dick York', 'Matt Munoz', 'John Wick', 'Tracy Morgan', 'Rita Volk', 'Freedom Fries', 'Bridgid Coulter', 'Marie Claire', 'James Van', 'Rick Hoffman', 'Paul Ryan', 'Paddy Power', 'Linda Claire', 'Charmaine Blake', 'Lee Jones', 'Scott Feinberg', 'Kim Kardashian', 'Jason Little', 'Jim Lahey', 'Cathleen Sutherland', 'Christina Milian', 'Emily Ratajkowski', 'Judd Apatow', 'Graham Moore', 'Steve Knight', 'Cole Porter', 'Dawn French', 'Lori Openden', 'Rebecca Lowe', 'Kate Walsh', 'Mel Gibson', 'Matt Barone', 'George Boyd', 'Jeffrey Katzenberg', 'Brian Clemens', 'Debbie Reynolds', 'Jodi Foster', 'Samuel Jackson', 'Annie Walker', 'Phyllis Diller', 'Seona Dancing', 'Jordan Strauss', 'Grace Gummer', 'Wild Card', 'Rose Quartz', 'Alfred Enoch', 'Connie Britton', 'Samantha Bryant', 'Jai Paul', 'Shawn Mullins', 'Liz Taylor', 'Steven Tyler', 'Matt Lewis', 'Richard Attenborough', 'White Chocolate', 'Real Life', 'Lindsay Duncan', 'Rosamund Pike', 'Working Out', 'Lisa Frank', 'Anjem Choudary', 'Real Madrid', 'Samantha Fraser', 'Gautam Gulati', 'Jari Kurri', 'Nancy Meyers', 'Ken Burns', 'Janet Davis', 'Lauryn Hill', 'Kelly Wilcox', 'Azealia Banks', 'Amy Ruth', 'Joel Schumacher', 'Charlie Callas', 'Quinn Smith', 'Jonathan Irons', 'Loretta Lynch', 'Lola Lopez', 'Papa Johns', 'Marcus Mariota', 'Sam Elliot', 'Robert Patrick', 'Running Man', 'Barry Allen', 'Michelle Bachmann', 'Connie Angland', 'Lisa Vanderpump', 'Nicole Scherzinger', 'Jon Lovitz', 'Christian Siriano', 'Kelly Brook', 'Les Grossman', 'Lindsay Lohan', 'Suzanne Shawbonquit', 'Aaron Rodgers', 'Miranda July', 'In House', 'Drunk Guy', 'Russell Peters', 'Linda Ronstadt', 'White Hot', 'Julie Delpy', 'Puerto Rico', 'Ice Cream', 'Shooting Stars', 'Davante Adams', 'Ricky Martin', 'World Dog', 'Home Depot', 'Bryan Cranston', 'Plastic Bag', 'Julia Louis', 'Steven Gerrard', 'James Dolan', 'Meredith Baxter', 'Brian Dunkleman', 'June Carter', 'Paul Smith', 'Marky Mark', 'Mike Tyson', 'David Lynch', 'John Stewart', 'Ian Malcolm', 'Ryan Adams', 'Frank Grillo', 'Dan Stevens', 'Victoria Secret', 'Kevin Hurt', 'Natalie Imbruglia', 'Karen Angel', 'Michael Owen', 'Leslie Craig', 'Just In', 'Martin Short', 'Kathryn Bigelow', 'British Woman', 'Frank Whaley', 'John Lasseter', 'Wilson Fisk', 'Billy Crystal', 'Dennis Haysbert', 'Rafe Spall', 'Hugo Boss', 'Harlan Ellison', 'Veronica Ferres', 'Dj Los', 'Sean Cody', 'Chris Klein', 'Warby Parker', 'Elliott Smith', 'Kevin Hart', 'Laura Dern', 'Rosa Adams', 'Roger Federer', 'New Yorker', 'Briony Smith', 'Donald Brooks', 'Nicholas Hoult', 'Adam Scott', 'Second Chance', 'Donna Pennestri', 'Hip Hop', 'Ding Dong', 'John Wilkes', 'Fright Rags', 'Your Dad', 'Peter Knegt', 'George Martin', 'Dark Horse', 'Patrick Wilson', 'Alexander Dinelaris', 'Justin Schultz', 'Big Dog', 'Anita Miller', 'Ja Rule', 'John Powell', 'Jim Ross', 'Terrence Carter', 'Diana Madison', 'Stevie Wonder', 'Black Barbie', 'Nick Barose', 'Jason Hughes', 'Macy Gray', 'Mollie King', 'Geena Davis', 'Inside Out', 'Bo Jackson', 'Maya Rudolph', 'Hot Pink', 'Randy Orton', 'Julie Ann', 'Old Guy', 'National Geographic', 'Leos Carax', 'Jessica Simpson', 'Jenna Dawn', 'Next Generation', 'Black Jack', 'Microsoft Sam', 'Lauren Potter', 'Kelly Anne', 'Wyatt Earp', 'Suri Cruise', 'Carol Burnett', 'Oh Well', 'Red Square', 'Bill Maher', 'Gigi Hadid', 'Robert Loggia', 'Javalan Chew', 'Pepto Bismol', 'Kelly Clarkson', 'Livia Giuggioli', 'Honorable Mention', 'Red Velvet', 'Rebel Wilson', 'Sigourney Weaver', 'Brett Dier', 'Prince Charles', 'Eniko Parrish', 'Katie Price', 'Robert Evans', 'Sir John', 'Adam West', 'Amit Shah', 'Bianca Jagger', 'Cody Simpson', 'Howard Johnson', 'Gael Garcia', 'Marshawn Lynch', 'Kelly Preston', 'Anna Chlumsky', 'Young Thug', 'Chris Colfer', 'Tsk Tsk', 'Mohegan Sun', 'Lewis Day', 'Ickey Woods', 'Bryan Greenberg', 'Zayed Khan', 'Steve Harvey', 'Travis Reilly', 'Jeremy Dawson', 'Hannah Storm', 'Miles Davis', 'Jennifer Lawrance', 'Double Double', 'Madame Butterfly', 'Julian Wasser', 'Chris Young', 'Naomie Harris', 'Elaine Turner', 'Miles Teller', 'Marcus Kayne', 'Jane Seymour', 'Anthony Skordi', 'Nick Clegg', 'Mel Brooks', 'Jeanne Moreau', 'War Machine', 'United Kingdom', 'Kathy Griffin', 'Fred Couples', 'Guy Pearce', 'Charlie Rose', 'Kate Mara', 'Naomi Campbell', 'Hot Dog', 'Phil Lord', 'Marty Singer', 'Latin Lover', 'Rachel Zoe', 'Mickey Hart', 'James Cameron', 'Colin Firth', 'Denzel Washington', 'Ray Donovan', 'Hot Springs', 'Rory Gilmore', 'Kevin Thompson', 'Gene Sperling', 'Lane Price', 'Morgan Shaw', 'John Slattery', 'Austin Swift', 'Dream Warriors', 'Jenny Johnson', 'Dion Phaneuf', 'Wash Westmoreland', 'Eva Longoria', 'Emily Barnes', 'Delta Burke', 'Tree Paine', 'Walt Whitman', 'Scrambled Eggs', 'Dangerous Curves', 'Big Daddy', 'Adam Brody', 'Monday Blues', 'Tina Rodriguez', 'Peter Frampton', 'Standing Ovation', 'Clark Gable', 'Marie Antoinette', 'Geraldo Rivera', 'Haile Gerima', 'Regina Hall', 'Ruby Tuesday', 'Mitt Romney', 'Kevin Stacey', 'Don Pablo', 'Evander Kane', 'Linda Lavin', 'Austin Power', 'Jackky Bhagnani', 'Kit Hoover', 'Scott Foley', 'Lex Luthor', 'Jemima Kirke', 'Crazy Kevin', 'Felicia Leatherwood', 'Spare Parts', 'Alan Sepinwall', 'Matt Damon', 'Bounty Hunters', 'Paul Rud', 'Janis Ian', 'Eric Stonestreet', 'Brendan Gleeson', 'Crazy Alice', 'Jay Leno', 'David Drumm', 'Jaime King', 'Lisa Kudrow', 'Charlie Rhodes', 'Eli Pope', 'El Dorado', 'Ryan Hawke', 'Search Party', 'Brad Hall', 'Shahid Kapoor', 'Engelbert Humperdinck', 'Kate Rodger', 'Minnie Mouse', 'David Glasser', 'Bill Harder', 'Anne Perkins', 'Je Suis', 'Powder Puff', 'Richard Gustason', 'Mu Mu', 'Nikki Reed', 'John Kruk', 'Darren Collison', 'Cathy Jones', 'Richard Linklater', 'Jonathan Jackson', 'Matt Groening', 'Conchita Wurst', 'Nick Cave', 'Julia Chapman', 'Star Telegram', 'Shannon Leto', 'Bin Laden', 'Carlos Chacin', 'Faye Dunaway', 'Alyssa Edwards', 'Howdy Doody', 'Dane Cook', 'David Blaine', 'Casper Smart', 'Charlie Conway', 'David Gest', 'Lily Collins', 'Natalie Portman', 'John Mulaney', 'Marti Eulberg', 'Dieter Rams', 'Margaret Thatcher', 'Joan Clarke', 'John Mc', 'Circus Circus', 'Phylicia Rashad', 'Doc Gibbs', 'Bryan Alexander', 'Mary Watson', 'Nina Simone', 'Sarah Mac', 'Julie Louis', 'Richie Rich', 'Zuhair Murad', 'Meredith Blake', 'Scott Aukerman', 'Doe Eyes', 'Tim Allen', 'Jim Irsay', 'Zooey Deschanel', 'Christina Aguilera', 'Barrie Buckner', 'Little Red', 'John Kennedy', 'Gene Wilder', 'Rodrigo Perez', 'Mark Halperin', 'Angela Bauer', 'Kate Hudson', 'Carmelo Anthony', 'Nancy Grace', 'Kim Rogers', 'Off Limits', 'Christopher Dodd', 'Brian Dennehy', 'Michael Apted', 'James Spader', 'Crystal Kay', 'Single Man', 'Big Guy', 'High Def', 'Blue Steel', 'Amanda Lear', 'John Tucker', 'Your Mom', 'Mellow Yellow', 'Davy Crockett', 'Death Grips', 'Blanche Dubois', 'Zach Braff', 'Phillip Phillips', 'Josh Peck', 'Anna Kendrick', 'Harry Styles', 'James Lapine', 'Jack Frost', 'Aaron Rogers', 'Media Maven', 'Marvel Universe', 'Mariah Carey', 'Donna Douglas', 'Air Force', 'George Kaplan', 'Kit Harington', 'Chelsea Handler', 'Michelle Monaghan', 'Jenny Lewis', 'Kari Hill', 'King Midas', 'Washington Wizards', 'Rita Wilson', 'Maranda Widlund', 'Jean Rodriguez', 'Michael Sam', 'Doc Holiday', 'Jennifer Aniston', 'Claire Dane', 'Robert Gibbs', 'Hannibal Buress', 'Ron Galella', 'Hop Sing', 'Georges Chakra', 'Kevin Space', 'Jim Caviezel', 'Michael Jordan', 'Boy George', 'Neil Dudgeon', 'Fort Knox', 'Christopher Bailey', 'Anna Live', 'Jennifer Lopez', 'Carrie Brownstein', 'Paul Newman', 'Lily Rabe', 'Marlene Dietrich', 'James Meade', 'Jessica Chastain', 'Patti Smith', 'Gwen Stacy', 'Jeremy Kleiner', 'Dream Factory', 'Richard Link', 'Bo Derek', 'Tiger Woods', 'Indianapolis Colts', 'Buster Brown', 'Leading Ladies', 'Ron Morris', 'Midge Ure', 'Amanda Holden', 'Coretta Scott', 'Evan Peters', 'Amy Dunne', 'Rashida Jones', 'Lars Ulrich', 'Wilford Brimley', 'Leah Wellbaum', 'Sue Kroll', 'Keyshia Cole', 'Martin Scorsese', 'Chris Elliott', 'Luis Figo', 'Ross Matthews', 'Ryan Gajewski', 'Jack Klugman', 'Marc Jacobs', 'Bon Iver', 'Aaron Ekblad', 'John Paul', 'Mark Pedowitz', 'Archie Manning', 'Sister Act', 'Hans Zimmer', 'Handsome Man', 'Lindsay Graham', 'Meghan Rienks', 'Pat Saperstein', 'Reid Perry', 'Wally Wall', 'Dusty Rose', 'Little Big', 'Bill Crosby', 'Ernie Hudson', 'Sally Fields', 'Jamie Dornan', 'Abraham Lincoln', 'John Harbaugh', 'Katy Holmes', 'John Dominis', 'Reality Check', 'Cloud Nine', 'Ron Kovic', 'Greer Grammer', 'Ryan Pierce', 'Keira Knight', 'Larry Kramer', 'Rod Blagojevich', 'Gary Grant', 'Adelaide Kane', 'Robert Altman', 'Kate Barlow', 'Jake Siciliano', 'Caitlin Moran', 'Amanda Waller', 'Terry Gross', 'Lela Rose', 'Bill Nighy', 'Rex Reed', 'Jim Taylor', 'Katie Couric', 'Modern Warfare', 'Shaun Robinson', 'Vanessa Redgrave', 'Tim Conway', 'Joan Walsh', 'Rosario Dawson', 'Robert Downey', 'Josh Sapan', 'An Actor', 'Phil Hoffman', 'Hal Rudnick', 'Johnny Wallace', 'Buffer Festival', 'Sarah Halley', 'Buffalo Bills', 'Bryant Gumbel', 'Du Pont', 'John Krasinski', 'Jane Wagner', 'Michael Keating', 'Peter Griffin', 'Joel Osteen', 'Faith Hill', 'Naomi Watts', 'Saint Laurent', 'Gina Rodriguez', 'Mexico City', 'Elisabeth Shue', 'Gary Ross', 'Lennon Parham', 'Bruce Almighty', 'Mariella Frostrup', 'Maurice Micklewhite', 'Brad Paisley', 'Sarah Paulson', 'Charlie Parker', 'Simon Mayo', 'Jose Cuervo', 'Peanut Butter', 'Michael Brown', 'Bosom Buddies', 'Adriana Rivera', 'Sergio Fachelli', 'Gina Marie', 'Nigel Barker', 'Evan Seinfeld', 'Surfer Dude', 'Nat Turner', 'Big Tuna', 'Daniel Tiger', 'Elizabeth Warren', 'Black Market', 'Bitch Face', 'Luis Fernando', 'Rock Hudson', 'Michael Smerconish', 'Aidy Bryant', 'Yvonne Wong', 'Kelly Ripa', 'Jennifer Morrison', 'Peter Weller', 'Mother Jones', 'Kevin Keegan', 'Adnan Syed', 'Bang Bang', 'Sacha Quarles', 'Gary Glitter', 'Lauren Sivan', 'Tammie Taylor', 'Hands Down', 'Three Cheers', 'Holly Hunter', 'Robbie Nevil', 'Brian Mills', 'Mahatma Gandhi', 'Blue Eyes', 'British Invasion', 'Frankie Muniz', 'Penelope Wilton', 'Charles Manson', 'Hayden Christensen', 'Tina Cosby', 'Alison Pill', 'Carol Tatum', 'Mike Piazza', 'Rod Stewart', 'Nick Cage', 'Red Wedding', 'Gene Hackman', 'Stephen Hawking', 'Cameron Diaz', 'Jenny Slate', 'John Mankiewicz', 'Gabrielle Union', 'Little Rock', 'Courtney Cox', 'Keith Johnson', 'Ranveer Singh', 'Alyssa Milano', 'Ken Marino', 'Big Mac', 'Derek Hough', 'Laura Linney', 'Matt Ryan', 'Shonda Rhimes', 'Juicy Fruit', 'Robert Redford', 'Ashleigh Banfield', 'Chris Brown', 'Joan Fontaine', 'Sarah Palin', 'John Barrowman', 'Jon Hamm', 'Keri Russell', 'Captain Marvel', 'Scott Caan', 'Ricky Wilson', 'Mark Giangreco', 'Jessica Christian', 'Walter Hill', 'Cris Pratt', 'El Paso', 'Selfie Stick', 'Jonathan Emile', 'Robb Wells', 'Jamie Dorn', 'Salvatore Ferragamo', 'Dan Evans', 'King Yahweh', 'Katharine Ross', 'Dan Tyminski', 'Odin Lloyd', 'Walter White', 'Chris Lehane', 'Kate Stanton', 'Emmanuel Lubezki', 'Doralee Rhodes', 'Matt Bonner', 'John Fiedler', 'Antonio Banderas', 'Christine Lahti', 'Richard Tyler', 'Atticus Ross', 'Leslie Nielsen', 'Boo Radley', 'Mark Trumbo', 'Christopher Meloni', 'Claire Dames', 'Jerri Manthey', 'Michael Keaton', 'Eric Ericsson', 'Christopher Thomas', 'Maggie Simpson', 'Laura Carmichael', 'Tyler Perry', 'Lisa Rinna', 'Tyler Oakley', 'Yo Frank', 'Julie Bowen', 'Minnie Driver', 'Scott Eastwood', 'Hilary Swank', 'Cheryl Strayed', 'Agata Kulesza', 'Jason Alexander', 'Francis Libiran', 'Orlando Sentinel', 'Antonio Brown', 'Anna Won', 'Courtney Sands', 'Kyle Orton', 'Tamar Braxton', 'Shawn Oakman', 'Dann Florek', 'Kelly Osborne', 'Value Village', 'Darling Nikki', 'Charise Greene', 'Elizabeth Hurley', 'Vin Diesel', 'Natalie Morales', 'Terence Howard', 'Joseph Mount', 'Hannah Brown', 'Bob Geldof', 'Monique Lhuillier', 'Gianna Michaels', 'Patricia Cox', 'Mike Leigh', 'Bling Bling', 'Robbie Keane', 'Irving Azoff', 'Gail King', 'Niecy Nash', 'Black Friday', 'Mara Buxbaum', 'Lupe Fiasco', 'Elizabeth Smart', 'Cody Johns', 'Amy Margaret', 'Tyler Bozak', 'Pete Edochie', 'Sean Combs', 'Hugh Dancy', 'Patricia Arquette', 'Chris Hayes', 'Black Panther', 'Gerald Gardner', 'Britney Spears', 'Coach Carter', 'Mickey Donovan', 'Day Lewis', 'Larisa Oleynik', 'John Michael', 'Geoffrey Rush', 'David Simon', 'Peter Jackson', 'Malin Akerman', 'Michael Pitt', 'David Meister', 'Dan Marino', 'Skyler Shaye', 'Jamie King', 'Kofi Annan', 'Robby Krieger', 'Naomi Stone', 'Tim Robey', 'Patrick Fugit', 'Jennifer Hudson', 'Gary Oldman', 'Miss Tina', 'James Parish', 'Richard Li', 'Rachel Maddow', 'Jason Wu', 'Farah Khan', 'Taylor Smith', 'Les Paul', 'Liza Minnelli', 'Jon Snow', 'Weird Mc', 'Drew Evans', 'Oscar Wilde', 'Backstreet Boys', 'Missy Elliott', 'Jose Bolanos', 'Lauren Holly', 'Jean Harlow', 'Afeni Shakur', 'Eva Mendes', 'Rachel Welch', 'Matt Wolpert', 'Hunter Hayes', 'Katie Cassidy', 'Billy Boyd', 'David Niven', 'Kathleen Turner', 'Channing Tatum', 'Bruce Lee', 'Calista Flockhart', 'James Taylor', 'Joe Louis', 'Olivia Pope', 'Red Rooster', 'Daniel Craig', 'Adrien Brody', 'Game Center', 'Billy Wilder', 'Phil Collins', 'Tatum Moore', 'Jimmy Fallon', 'Billy Blanks', 'Jason Grilli', 'Tara Manning', 'Mama Mia', 'Richard Glatzer', 'Jana Cruder', 'Mac Mac', 'George Kotsiopoulos', 'Brigitte Bardot', 'Lea Michele', 'Steven Roche', 'Kent State', 'Whitney Houston', 'Des Moines', 'Brenda Leigh', 'Jim Dolan', 'Grover Washington', 'Daniel Huttlestone', 'Joanne Froggatt', 'Marc Anthony', 'Kevin Underwood', 'Viggo Mortensen', 'Katie Segal', 'Alexander Nevermind', 'Amanda Bynes', 'Mister Rogers', 'Alberta Ferretti', 'Red Bull', 'King Richard', 'Kate Bosworth', 'Drew Barrymore', 'Mickey Rourke', 'Julie Chen', 'Timothy Spall', 'Lou Costello', 'Amy Love', 'Abe Lincoln', 'Larry David', 'Taryn Manning', 'Stockard Channing', 'Syd Field', 'Matthew Gray', 'Big Bang', 'Shuji Nakamura', 'Richard Kind', 'Maxi Priest', 'Jessica Alba', 'Jessica Morris', 'Adir Abergel', 'Matt Forte', 'Bruce Banner', 'Jason Sudeikis', 'Steve Kroft', 'Donald Duck', 'Custom Made', 'Liza Donnelly', 'Pedro Garcia', 'Carson Daly', 'Aaron Paul', 'Lauren Devine', 'Michael James', 'Bridget Foley', 'Steve Buscemi', 'Dustin Diamond', 'Art Lynch', 'Chloe Grace', 'Peter Hoare', 'Liev Schreiber', 'Rose Leslie', 'John Anthony', 'Anna Karenina', 'Jenny Boylan', 'Anthony Hopkins', 'Diane Lane', 'Penny Hardaway', 'Anita Sarkeesian', 'Jim Carrey', 'Amanda Salas', 'Dakota Johnston', 'Joe Pesci', 'Brian Atwood', 'Nurse Jackie', 'Cressida Bonas', 'Emilia Clarke', 'Animal Planet', 'Prime Time', 'John Kerry', 'Spencer Hart', 'Pee Wee', 'Emmanuelle Chriqui', 'James Righton', 'Dermot Mulroney', 'Ryan Seacrest', 'James Earl', 'Ann Jillian', 'Waffle House', 'Sara Lee', 'Charlotte Perrelli', 'Roberto Cavalli', 'May Day', 'Hope Davis', 'Carrie Preston', 'Bugs Bunny', 'Michael Jackson', 'Iron Man', 'Claudia Jordan', 'Charlie Day', 'Princess Leia', 'Save Ferris', 'Peter Falk', 'Colin Forth', 'Jesse Jackson', 'Ad Lib', 'Kendra Scott', 'Kenny Powers', 'Neil Lane', 'Jared Padalecki', 'Damien Chazelle', 'First Class', 'Regis Philbin', 'Jamie Forman', 'David Brent', 'Johnny Manziel', 'Bazooka Joe', 'Alexis Arquette', 'Javier Bardem', 'Jim Cheung', 'Finn Wittrock', 'Emma Jacobs', 'Taron Egerton', 'Veronica Thomas', 'Iron Maiden', 'Pussy Riot', 'John Galliano', 'David Gale', 'Mark Schultz', 'Megan Fox', 'Christian Louboutin', 'Point Blank', 'Mike Keaton', 'Kevin Adams', 'David Mamet', 'Lara Stone', 'Arrested Development', 'Pam Oliver', 'Alan Alda', 'Lizzy Caplan', 'Jennifer Saunders', 'Karl Lagerfeld', 'Angela Landsbury', 'Vince Gilligan', 'Chevy Chase', 'Melissa Watkins', 'Kevin Spacey', 'Steve Hawkins', 'Reggie Love', 'Jinah Kim', 'Erykah Badu', 'Nina Garcia', 'Wayde Byard', 'Nancy Schultz', 'Martin Adams', 'Dixie Chicks', 'Ruffa Gutierrez', 'Raising Hope', 'John Carroll', 'Miranda Hobbs', 'Rob Reiner', 'Ryne Sandberg', 'Felix Turner', 'Keri Washington', 'David Clarkson', 'Lauren Ashley', 'Tracey Ullman', 'Yeah Frank', 'Zack Morris', 'Orson Wells', 'Matt King', 'Hanoi Jane', 'Nate Archibald', 'Miss Jennifer', 'Courtney Love', 'Little Caesar', 'Pop Culture', 'Boris Frumin', 'Julia Lou', 'Abraham Mateo', 'John Oates', 'Jim Jones', 'Black Don', 'Amy Poehler', 'Megyn Kelly', 'Pink Slip', 'Nadine Leopold', 'Larry Sanders', 'Matthew Bonner', 'Terrence Howard', 'Michelle Obama', 'Tim Tebow', 'Josh Brolin', 'Mahershala Ali', 'Jeremy Gerard', 'John Boehner', 'Bo Lidegaard', 'Bart Freundlich', 'Jan Nash', 'Emily Dent', 'Vanessa Rousso', 'Meryl Street', 'Paul Reiser', 'Monica Lewinsky', 'Dapper Dan', 'San Francisco', 'Matt Dillon', 'Ron Jeremy', 'Houston Chronicle', 'Kevin Jonas', 'Rob Marshall', 'Jennifer Coffey', 'Apichatpong Weerasethakul', 'Carlos Santana', 'Quentin Letts', 'Greg Gilman', 'Dolly Parton', 'Jeffrey Tambor', 'Ami Adams', 'Bradley Cooper', 'Eric Cartman', 'Lena Dunham', 'Chest Rockwell', 'Mayo Clinic', 'Jack Sparrow', 'Dairy Queen', 'June Bug', 'Mark Steyn', 'Christian Dior', 'Duct Tape', 'Apple Martin', 'Christian Gray', 'Dallas Cowboys', 'Gucci Black', 'Robert Red', 'Ted Danson', 'Rae Sremmurd', 'Money Money', 'Alvin Crawford', 'Fernando Allende', 'Don Fernando', 'Diane Kruger', 'George Harrison', 'Jasmine Dustin', 'American Idol', 'Gary Kubiak', 'Paula Patton', 'Debbie Does', 'Gavin Newsom', 'Frank Caliendo', 'Uncle Joe', 'Dee Dee', 'Michael Moore', 'Josh Horowitz', 'Roger Ebert', 'Michael Kors', 'Mike Ruffin', 'Janice Kinjo', 'Michael Cera', 'Steve Gilula', 'Allison Dubois', 'Milli Vanilli', 'Diane Keaton', 'Alex Ash', 'Ha Ha', 'Jasmine Nicole', 'Vanilla Ice', 'Rolling Stone', 'Amy Pascal', 'Chris Oliver', 'Live Report', 'Jamie Foxx', 'Sandra Pinter', 'Rich Ferguson', 'Francesco Rinaldi', 'Trey Parker', 'Jennifer Lopes', 'Eva Green', 'Matt Kemp', 'Mark May', 'Edward Cullen', 'Scott Rudin', 'Big Jim', 'Bruno Mars', 'Eddie Bauer', 'Tina Slay', 'Mary Tyler', 'Freida Pinto', 'Rui En', 'Bart Simpson', 'Lee Min', 'Justin Baldoni', 'Lady Liberty', 'Sam Meyers', 'David Arquette', 'Amy Meredith', 'Sam Duke', 'Weekend Warrior', 'Alex Stedman', 'Drunk History', 'Hugh Jackman', 'Tracy Jordan', 'Carol Channing', 'Aubrey Plaza', 'Leanne Marshall', 'Jasmine Guy', 'Rob Parker', 'Robert Shaw', 'Josh Duhamel', 'Father John', 'Carrie Washington', 'Richie Sambora', 'Ed Clark', 'Jane Just', 'Man Han', 'Jason Schwartzman', 'Paul Fox', 'Just Wow', 'Final Draft', 'Fleetwood Mac', 'Jim Nabors', 'Marco Fu', 'Thomas Pynchon', 'Malibu Barbie', 'Roman Coppola', 'Katherine Bates', 'Pam Grier', 'Madeleine Stowe', 'Judith Light', 'Christina Applegate', 'De Niro', 'Rocky Road', 'Dame Judy', 'Fiona Apple', 'Donna Karan', 'Bootsy Collins', 'Slam Dunk', 'Spike Jonze', 'Elle Woods', 'Purple Passion', 'Gabriel Olson', 'Charles Schwab', 'Jillian Flynn', 'Kung Fu', 'Harvey Danger', 'Greg Davis', 'David Duke', 'Ann Dowd', 'Hans Gruber', 'Glenn Close', 'Leelah Alcorn', 'John Malkovich', 'Fat Albert', 'Steve Stark', 'Louise Parker', 'Kylie Jenner', 'Badgley Mischka', 'Marlon Brando', 'Travis Tritt', 'Richard Collins', 'Viet Cong', 'Justin Long', 'James Gandolfini', 'Can Reese', 'Queen Latifah', 'Brian Posehn', 'Naeem Khan', 'Diahann Carroll', 'Rick Baker', 'Nick Kroll', 'Imelda Staunton', 'Emerald City', 'Doc Strange', 'Ann Perkins', 'Crispin Glover', 'Marion Cotillard', 'Little Bit', 'Mario Lopez', 'Terence Crawford', 'Patrick Schwarzenegger', 'Johnny Lee', 'Hope Jeffrey', 'Kyra Sedgwick', 'Michael Strahan', 'Ashley Judd', 'Jungle Jim', 'Steven Universe', 'Richard Roeper', 'Daft Punk', 'Robin Lord', 'Charlie Webster', 'Sally Hansen', 'Perfect Day', 'Elizabeth Turner', 'Sarah Treem', 'Kelsey Grammer', 'Jeff Burnett', 'Jordan Hoffman', 'Matt Murdock', 'Joe Manganiello', 'Christian Hammer', 'Rainy Day', 'Joel Coen', 'Mike Huckabee', 'Elijah Wood', 'Hilary Duff', 'Bill Hader', 'Saint Louis', 'Mike Brown', 'Philip Treacy', 'Josh Dallas', 'Pooja Batra', 'Wolf Blitzer', 'Jane Hawking', 'Ralph Fiennes', 'Owen Wilson', 'Nicki Minaj', 'Kevin Durant', 'Blanche Devereaux', 'James Cordon', 'Alan Friedman', 'Michelle Pfeiffer', 'Arnold Schwarzenegger', 'Bob Hoskins', 'Joe Flacco', 'Barbara Gasser', 'Morgan Spurlock', 'Big Boy', 'Blake Lively', 'San Diego', 'Crystal Gayle', 'Jane Austin', 'Dan Burns', 'Darin Erstad', 'Harry Potter', 'Sidney Poitier', 'Casey Affleck', 'Miss Scarlet', 'Jack Tripper', 'Judith Leiber', 'Mickey Mouse', 'Control Room', 'Comeback Kid', 'Murphy Brown', 'Errol Morris', 'Sharon Stone', 'Julio Iglesias', 'Chord Overstreet', 'Killer Joe', 'Ryan Phillippe', 'Bill Damaschke', 'Anne Moore', 'Sarah Fisher', 'Chita Rivera', 'Escape Plan', 'Penny Lane', 'Elsa Peretti', 'Green Tea', 'Amber Doll', 'Irish Pub', 'Doug Ellin', 'Joe Budden', 'Laura Ingalls', 'Ric Flair', 'Ed Harris', 'David Filipi', 'Renee Russo', 'Cut Off', 'Reed Birney', 'Alexandra Daddario', 'Ed Davis', 'Matt Bower', 'Sean Hannity', 'Richard Krawczyk', 'Bobby Graham', 'David Sarnoff', 'Michael Scott', 'Michelle Dockery', 'Natalia Milano', 'Arctic Monkeys', 'Merle Haggard', 'Royal Pains', 'Bianca Balti', 'Shia Labeouf', 'Sabrina Carpenter', 'Jared Leto', 'Shane Graham', 'Rose Byrne', 'Selina Meyer', 'Jack Off', 'Miss Amy', 'Randy Savage', 'Riccardo Tisci', 'Judge Palmer', 'Five Years', 'Billy Elliot', 'Ashley Tisdale', 'David Holmes', 'Taylor Kitsch', 'Richard Lin', 'Hatsune Miku', 'Kim Dong', 'Lou Horvitz', 'Jean Smart', 'Joyce Leslie', 'Emily Browning', 'Zero Dark', 'Fred Astaire', 'Royal Blue', 'Anna Faris', 'Josh Groban', 'New Age', 'Space Jam', 'Harley Quinn', 'Black Mirror', 'Jeremy Irvine', 'Action Bronson', 'Kim Basinger', 'Super Mario', 'Joe Fresh', 'Marilyn Manson', 'Shallow Hal', 'Dakota Grey', 'Anthony Edwards', 'Millie Machado', 'Paul Stanley', 'Kim Jong', 'Calvin Johnson', 'Low Key', 'George Senior', 'Melissa Leo', 'Sibel Can', 'Debbie Allen', 'Ian Lynch', 'Emma Stine', 'Amy Power', 'Jesse Tyler', 'Jessica Oyelowo', 'Lord Bolton', 'Jeff Kim', 'John Holmes', 'Laura Curtin', 'Lav Diaz', 'Wonder Woman', 'Leslie Moonves', 'Johnny Cash', 'Phil Donahue', 'Kristina Shannon', 'Stan Lee', 'Chad Evans', 'Jenna Fischer', 'John Candy', 'Guy Fieri', 'Meghan Camarena', 'Amber Waves', 'Jaeden Lieberher', 'Susan Boyle', 'George Burns', 'Dan Mullen', 'Thomas Jane', 'Ruby Red', 'Nick Verreos', 'Priyanka Chopra', 'Lizzie Grant', 'Ichabod Crane', 'Salma Hayek', 'James Rodriguez', 'Jon Stewart', 'Neil Perry', 'Rosie Assoulin', 'Elle Fanning', 'George Bush', 'Alysha Brilla', 'David Caruso', 'Red Robin', 'Scott Van', 'Brian Moylan', 'Joe Mantello', 'John Cameron', 'Rich White', 'Yusuf Estes', 'Randi Rahm', 'Rob Marshal', 'Margaret Rowe', 'Chris Sullivan', 'Juan Valdez', 'Armani Prive', 'John Hamm', 'Karen Butler', 'Alexander Emanuel', 'Bobby Brown', 'Kelly Green', 'Julie Phillips', 'Jerry Brown', 'Ann Taylor', 'Bird Lady', 'Adam Levin', 'Jack Jackson', 'Mahmoud Abbas', 'Steve Bandura', 'Woody Harrelson', 'Mike Blake', 'Darren Franich', 'Neil Portnow', 'Rocket Man', 'Ken Doll', 'Lady Gaga', 'Yo Yo', 'Lorraine Ali', 'Don Garber', 'Ramin Setoodeh', 'Naomi Clark', 'New World', 'Party City', 'First Take', 'Eric Garner', 'Kevin Hard', 'George Hamilton', 'Angela Bassett', 'Sasha Pieterse', 'James Foley', 'Teri Garr', 'Ellie Kemper', 'Chris Platt', 'Campbell Newman', 'Scott Collins', 'Mike Conley', 'Parental Advisory', 'Zayn Malik', 'Anna Bates', 'Charlie Murphy', 'Baby Jane', 'John Sloss', 'Bobby Kimball', 'John Hader', 'Harrison Ford', 'Mia Farrow', 'Laurence Harvey', 'Sarah Field', 'Katherine Kate', 'Dick Tracy', 'David Cronenberg', 'Snoop Dogg', 'Julie Chung', 'John Bishop', 'Forever Young', 'Bonnie Arnold', 'Anson Mount', 'Thomas Middleditch', 'Christoph Walz', 'Johnny Depp', 'Stephen Campbell', 'Art Day', 'Peter Sellers', 'Elephant Man', 'White Out', 'James Falconer', 'Nancy Sinatra', 'Alfred Molina', 'Mary Fisher', 'Mother Love', 'Steve Rudin', 'Chris Kattan', 'Nicky Whelan', 'Robin Thicke', 'David Irving', 'Ana Grey', 'Jackie Kennedy', 'Stedman Graham', 'Siobhan Thompson', 'Tim Gunn', 'Michel Gill', 'Shawn Robinson', 'David Wain', 'Joey Coco', 'Lisa Niemi', 'Bob Barker', 'John Wayne', 'Laura Ashley', 'Max Julien', 'Janeane Garofalo', 'Rita Cosby', 'Carlos Boozer', 'Jimmy Kimmel', 'Steve Rubin', 'Vera Wong', 'Thompson Twins', 'Guy Harrison', 'Lilliana Vasquez', 'George Thorogood', 'Don Creech', 'Barbara Walter', 'Michael Alfred', 'Saint George', 'Most Wanted', 'Nick Swardson', 'Pot Luck', 'Meryl Streep', 'Ralph Lauren', 'Moo Moo', 'Gian Luca', 'Bar Rescue', 'Steve Nash', 'Elisabeth Moss', 'Malik Yoba', 'Dante Moore', 'Sam Tyler', 'Tank Girl', 'America Ferrera', 'Cara Delevingne', 'Nigel Slater', 'Super Bowl', 'John Ritter', 'Michael Corleone', 'Paul Spector', 'Jay Kay', 'Marco Rubio', 'Edward Snowden', 'Jonah Ray', 'Kid Rock', 'Boston Celtics', 'Donna Karen', 'Natasha Lyonne', 'Space Man', 'Red Hot', 'Linda Ge', 'Dominic West', 'Billy Joel', 'Dakota Fanning', 'Joe Pantoliano', 'Jonathan Kimble', 'Kevin Connolly', 'Kathleen Edwards', 'Jenny Packham', 'Joanne Crockett', 'Wendell Pierce', 'Move Over', 'Genzebe Dibaba', 'Colin Farrell', 'Scooby Doo', 'Jon Voight', 'Jian Ghomeshi', 'Fred Leighton', 'Michelle Rodriguez', 'Laura Prepon', 'Vince Neil', 'Dan Conner', 'Mayim Bialik', 'Old Lady', 'Janet Lee', 'Ryan Guzman', 'Maggie Gallagher', 'Fat Man', 'Shauna Robertson', 'Music Factory', 'Sarah Vowell', 'Ivy League', 'Dick Clark', 'Joe Neumaier', 'Clint Culpepper', 'Sierra Leone', 'Simon Baker', 'Karen Black', 'Dia Mirza', 'Bob Dylan', 'James Nesbitt', 'Prince Charming', 'Dean Deblois', 'Blair Kohan', 'Russell Wilson', 'Jennifer Connelly', 'Gary Coleman', 'Ace Ventura', 'Amal George', 'Oliver Stone', 'Emma Watson', 'Julien Lepers', 'Nicole Kidman', 'Elton John', 'Craig Hill', 'Jimmy Johns', 'Alexa Chung', 'Nicolas Batum', 'Dean Du', 'Alicia Silverstone', 'Arielle Kebbel', 'Jessica Lan', 'Chaka Khan', 'Cathy Bates', 'John Grisham', 'Lone Star', 'Brad Garrett', 'Jessica Lange', 'Hank Azaria', 'Don Draper', 'Julie Newmar', 'Meg Foster', 'Harvey Keitel', 'Colin Darcy', 'For Real', 'Harold Reynolds', 'Mother Nature', 'Bun Bun', 'Emile Hirsch', 'Neil Patrick', 'Spin City', 'Cary Grant', 'George Zimmerman', 'Ann Coulter', 'Bobby Bill', 'Mary Lambert', 'Steve Burke', 'Evander Holyfield', 'American Pie', 'Alexander Payne', 'Jeff Sneider', 'Dorothy Parker', 'John Johnson', 'Gary Ablett', 'Chesley Sullenberger', 'Youth Group', 'Eoin Macken', 'Dave Karger', 'Jason Binn', 'Jeffrey Tam', 'Brian Hayward', 'Steve Pond', 'Danny Elfman', 'Peter Prentice', 'Liberty Ross', 'Stephen Merchant', 'Joan Crawford', 'Emma Thomson', 'Phil Simms', 'Lisa Genova', 'Patrick Dempsey', 'Lara Flynn', 'Ruth Buzzi', 'Justin Trudeau', 'Cathy Brennan', 'Jeff Vespa', 'Freddy Krueger', 'Spice Girls', 'Mindy Cohn', 'Tracy Letts', 'Grand Marnier', 'Melanie Griffith', 'Johnny Deep', 'Jack Grey', 'Mads Mikkelsen', 'Clyde Drexler', 'Bubba Ray', 'White Gloves', 'Nathan Francis', 'Howard Stern', 'Bucky Gunts', 'Chris Rock', 'Baby Boom', 'Ethan Hawk', 'Nat Wolff', 'Amy Dunn', 'Atlanta Hawks', 'Hope Orange', 'George Clooney', 'Merrill Barr', 'Ash Fox', 'Frank Black', 'Vince Lombardi', 'Jo Mercer', 'Claire Danes', 'Drag Queen', 'Cat Deeley', 'Angela Chase', 'Xavier Dolan', 'Christian Bale', 'Patrick Kevin', 'Frazer Harrison', 'Tina Louise', 'Twin Peaks', 'Louie Louie', 'Sailor Moon', 'Arsenio Hall', 'Jerry Thornton', 'Gina Gershon', 'Maggie Carey', 'Special Guest', 'Rich Gang', 'Rhett Butler', 'Welcome Home', 'Elizabeth Taylor', 'Laura Flynn', 'Lady Mary', 'Charles Dance', 'Kristen Stewart', 'Young Han', 'Nadia Bronson', 'Steven Seagal', 'Sally Hawkins', 'Jeremy Scott', 'Melora Hardin', 'Holly Hobbie', 'Larenz Tate', 'James Marsh', 'April Flowers', 'Roller Girl', 'Penny Dreadful', 'Stephen Fry', 'Richard Wilkins', 'Frank Underwood', 'Mother Earth', 'Zach Johnson', 'Brian Lowry', 'Cressida Cowell', 'Gwyneth Paltrow', 'Barack Obama', 'Dorian Gray', 'Alexander Graham', 'Michael Slezak', 'Mohamed Karim', 'Jack Russell', 'Glee Cast', 'Chris Tucker', 'Shreya Ghoshal', 'Stephanie Roche', 'Full Swing', 'Cynthia Stillwell', 'Michael Costello', 'Bad Boy', 'Loose Cannon', 'Jonathan Sehring', 'Sterling Silver', 'Miss Davis', 'Jane Fallon', 'Lou Bloom', 'Daniel Day', 'Brad Pitts', 'Della Reese', 'Billy Stanton', 'Ride Along', 'Natalie Dormer', 'Val Kilmer', 'Doctor Steve', 'Grace Jones', 'Bruce Jenner', 'Jayden Federline', 'Adam Block', 'Karen Walker', 'Bonnie Raitt', 'Brandon Flowers', 'Loree Rodkin', 'Bow Wow', 'Grace Kelly', 'Doug Collins', 'Mark Boal', 'Natasha Negovanlis', 'Bill Paxton', 'June Ambrose', 'Little Richard', 'Kevin Conroy', 'David Muir', 'Julian Fellowes', 'Demi Lovato', 'Selma Blair', 'Huey Lewis', 'Angel Payne', 'Every Day', 'Nick Offerman', 'Your Highness', 'Florence Welch', 'Maury Povich', 'Kristen Schaal', 'Mai Quynh', 'Jen Selter', 'Joe Mauer', 'Tim Murray', 'Brandi Glanville', 'Robert King', 'Jason Mantzoukas', 'Carl Sagan', 'Scarlett Johansson', 'Counting Crows', 'Mike Amor', 'David Dobkin', 'Michael Tammero', 'Elizabeth Banks', 'Kasia Tambor', 'Emil Skoda', 'Bappi Lahiri', 'Livia Firth', 'Evil Queen', 'Jason Garrett', 'Big Sean', 'Harlem Globetrotters', 'Sam Drucker', 'Michael Caine', 'Rob Thomas', 'Louisa Gummer', 'Teresa Giudice', 'Red Flag', 'Dave Schultz', 'Catt Sadler', 'Jay Duplass', 'Mary Kennedy', 'Cecil Shorts', 'Bill Dubuque', 'Marcus Smith', 'Anne Farris', 'Savannah Guthrie', 'Scott Fujita', 'Hulk Hogan', 'Ansel Elgort', 'Nick Graham', 'Jerry Lewis', 'Maggie Gyllenhaal', 'Ted Harbert', 'Paule Ka', 'Annabeth Gish', 'Brenna Smith', 'Ralph Crane', 'Sugar Ray', 'Bright Eyes', 'His Majesty', 'Abby Cadabby', 'Hugo Blick', 'Tim Husom', 'Darnell Hillman', 'Jerry Seinfeld', 'Ray Rice', 'Max Grossman', 'Sarah Jessica', 'Julian Moore', 'Olivier Martinez', 'Cross Country', 'Moon Man', 'Aunt Mary', 'Bird Man', 'Big Four', 'Ryan Jay', 'Tina Yothers', 'Michael Garcia', 'Jeremy Piven', 'Rhys Ernst', 'Charlotte Tilbury', 'Kendall Jenner', 'Lopez Jennifer', 'Johnny Thunder', 'Natural Red', 'Izak Rappaport', 'Glenn Greenwald', 'Russell Simon', 'Liz Pugh', 'Alessandra Ambrosio', 'Indy Jones', 'Rachel Dratch', 'Ana Gasteyer', 'Bill Rancic', 'Dave Chappelle', 'Nina Rodriguez', 'Baz Luhrmann', 'Eugenio Derbez', 'Louie Lou', 'Lee Marvin', 'Richard Castle', 'Kerry Washington', 'Donatella Versace', 'Bloody Mary', 'Bryan Adams', 'Thomas Hobbes', 'Satya Bhabha', 'Amir Khan', 'John Carpenter', 'Oh Laura', 'Kevin Hall', 'Bill Cosby', 'Matthew Rhys', 'Sasha Alexander', 'Bud Light', 'Bon Jovi', 'Kate Upton', 'New Jersey', 'Tyler Durden', 'Michael Kenton', 'Joe Zee', 'Regina King', 'Michelle Higgins', 'Pepper Potts', 'Barbara Palvin', 'Conde Nast', 'Tracey Jordan', 'Holy Fuck', 'Aziz Ansari', 'Rupert Murdoch', 'Dory Previn', 'Warren Littlefield', 'Dave Mc', 'Tracey Morgan', 'Rohit Sharma', 'Michael Kantor', 'Penny Lovell', 'By Mistake', 'Curt Schilling', 'Julius Peppers', 'Frances Underwood', 'Randy Newman', 'Buzz Aldrin', 'Hong Kong', 'John Snow', 'Nelson Mandela', 'International Airport', 'Kim Possible', 'Gweneth Paltrow', 'Blue Ruin', 'Princess Leah', 'Kendrick Lamar', 'Kate Holmes', 'Kate Ma', 'Taylor Caniff', 'Jessica Fletcher', 'Alan Rickman', 'Patrick Reed', 'Elettra Wiedemann', 'Zoe Quinn', 'Jamie Brewer', 'Hari Kondabolu', 'Armando Bo', 'Shahrukh Khan', 'Billy Cosby', 'Joe Biden', 'Hailey Grace', 'Indiana Jones', 'Matt Smith', 'Jim Parsons', 'Genesis Rodriguez', 'Dennis Miller', 'Carrie Coon', 'Timothy Sykes', 'Spencer Stone', 'Craig Ferguson', 'Felix Unger', 'Michael Bay', 'James Spade', 'Meena Kumari', 'Bob Greenblatt', 'Logan Lerman', 'Mamma Mia', 'Jessica Adamo', 'Lois Lane', 'Dustin Rhodes', 'Rob Schneider', 'Julia Luis', 'Michael Douglas', 'Jack White', 'Cody Allen', 'Ched Evans', 'Rollie Fingers', 'Third Kind', 'Madhuri Dixit', 'John Lennon', 'Rebecca Mader', 'Dave Davies', 'American English', 'Frank Miller', 'Joaquin Phoenix', 'Linda Blair', 'Calvin Harris', 'Leo Jarzomb', 'Al Haymon', 'Jason Priestley', 'Sly Stone', 'Jordan Catalano', 'Kevin Lee', 'David Tennant', 'Native Boy', 'Gina Ramirez', 'Seth Gilliam', 'Hagai Levi', 'Bad News', 'Mannie Fresh', 'Dwayne Johnson', 'Linda Perry', 'Calvin Klein', 'Ray Charles', 'Purple Rain', 'Taylor Schilling', 'Bryan Singer', 'Kevin Costner', 'Gwen Stefani', 'Paul Wesley', 'Philip Glass', 'Felicia Day', 'Joey Potter', 'Bradley Whitford', 'Steven Hawkins', 'Hard Core', 'Say Hi', 'Carmen Marc', 'Lauren Lapkus', 'Alex Borstein', 'Green Day', 'Tina Time', 'Urban Outfitters', 'John Douglas', 'Nacho Libre', 'Black Velvet', 'Gay Hollywood', 'Jane Lynch', 'Richard Conti', 'Diana Nyad', 'Danielle Brooks', 'Jonah Hill', 'Los Muertos', 'Eugene Levy', 'Boom Boom', 'Garry Shandling', 'Zachary Stoner', 'Jesus Christ']\n"
     ]
    }
   ],
   "source": [
    "# cross-reference tNames and imdbNames\n",
    "actorNames = []\n",
    "for name in tNames:\n",
    "    # print(name)\n",
    "    if name in imdbNames:\n",
    "        # print(name)\n",
    "        actorNames.append(name)\n",
    "print(actorNames)"
   ]
  },
  {
   "cell_type": "code",
   "execution_count": 16,
   "metadata": {},
   "outputs": [],
   "source": [
    "import csv\n",
    "with open('namesPruned.csv', 'w') as myfile:\n",
    "    wr = csv.writer(myfile)\n",
    "    for name in actorNames:\n",
    "        wr.writerow([name])\n"
   ]
  }
 ],
 "metadata": {
  "interpreter": {
   "hash": "103df5c98b9e81aa8b3678697f91d3f0febc9ee87866f45d5e67de34ddb1eb12"
  },
  "kernelspec": {
   "display_name": "Python 3.9.7 ('base')",
   "language": "python",
   "name": "python3"
  },
  "language_info": {
   "codemirror_mode": {
    "name": "ipython",
    "version": 3
   },
   "file_extension": ".py",
   "mimetype": "text/x-python",
   "name": "python",
   "nbconvert_exporter": "python",
   "pygments_lexer": "ipython3",
   "version": "3.9.7"
  }
 },
 "nbformat": 4,
 "nbformat_minor": 2
}
