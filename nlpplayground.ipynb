{
 "cells": [
  {
   "cell_type": "markdown",
   "metadata": {},
   "source": [
    "NLP PROJECT PLAYGROUND"
   ]
  },
  {
   "cell_type": "code",
   "execution_count": 1,
   "metadata": {},
   "outputs": [],
   "source": [
    "def hasStopWord(x):\n",
    "    stopWords = set(['Also', 'Sunday', 'Happy', 'Show', 'Best', 'Current', 'Tv', 'Award', 'No', 'It', 'What', 'Are', 'To', 'Win', 'My', \\\n",
    "        'Will', 'On', 'This', 'So', 'Here', 'Go', 'Actors', 'And', 'Who', 'Have', 'These', 'Is', 'Did', 'Be', 'She', 'He', 'With', 'The'])\n",
    "    for word in stopWords:\n",
    "        if word in x:\n",
    "            return True\n",
    "    return False"
   ]
  },
  {
   "cell_type": "code",
   "execution_count": 2,
   "metadata": {},
   "outputs": [
    {
     "name": "stdout",
     "output_type": "stream",
     "text": [
      "loaded file\n",
      "number of regex names found: 34092\n"
     ]
    }
   ],
   "source": [
    "import json\n",
    "import re\n",
    "import csv\n",
    "\n",
    "# Opening JSON file\n",
    "f = open('gg2015.json')\n",
    " \n",
    "# returns JSON object as\n",
    "# a dictionary\n",
    "data = json.load(f)\n",
    "\n",
    "print(\"loaded file\")\n",
    "\n",
    "tt = []\n",
    "# print first 100 tweets\n",
    "for tweet in data:\n",
    "    # print(tweet['text'], data[99]['user']['screen_name'])\n",
    "    tt.append(tweet['text'])\n",
    "del data\n",
    "\n",
    "tNamesSet = set(())\n",
    "\n",
    "for t in tt:\n",
    "    # print(t)\n",
    "    candNames = re.findall(r'\\b[A-Z][a-z]+ [A-Z][a-z]+', t)\n",
    "    for n in candNames:\n",
    "        if not hasStopWord(n):\n",
    "            tNamesSet.add(n)\n",
    "\n",
    "tNames = list(tNamesSet)\n",
    "print(\"number of regex names found:\", len(tNames))\n",
    "# print(tNames)\n",
    "f.close()"
   ]
  },
  {
   "cell_type": "code",
   "execution_count": 3,
   "metadata": {},
   "outputs": [],
   "source": [
    "import pandas as pd\n",
    "import numpy as np\n",
    "df_names = pd.read_csv('names.tsv', sep='\\t')\n",
    "# df_titles = pd.read_csv('titles.tsv', sep='\\t')"
   ]
  },
  {
   "cell_type": "code",
   "execution_count": null,
   "metadata": {},
   "outputs": [],
   "source": [
    "print(df_titles.titleType.unique())\n"
   ]
  },
  {
   "cell_type": "code",
   "execution_count": 2,
   "metadata": {},
   "outputs": [
    {
     "name": "stdout",
     "output_type": "stream",
     "text": [
      "['tvSeries' 'tvMiniSeries']\n"
     ]
    }
   ],
   "source": [
    "df_titles = df_titles[df_titles['isAdult'] == 0]\n",
    "df_titles = df_titles.drop(['tconst', 'runtimeMinutes', 'isAdult'], axis = 'columns')\n",
    "#df_titles[df_titles.primaryTitle == 'Orange Is the New Black']\n",
    "print(df_titles[df_titles.endYear != '\\\\N'].titleType.unique())"
   ]
  },
  {
   "cell_type": "code",
   "execution_count": 3,
   "metadata": {},
   "outputs": [],
   "source": [
    "df_titles = df_titles[(df_titles['titleType'].isin(['movie', 'tvSeries', 'tvMovie', 'tvSpecial', 'tvMiniSeries']))]"
   ]
  },
  {
   "cell_type": "code",
   "execution_count": null,
   "metadata": {},
   "outputs": [],
   "source": [
    "df_titles.head(15)"
   ]
  },
  {
   "cell_type": "code",
   "execution_count": 4,
   "metadata": {},
   "outputs": [
    {
     "data": {
      "text/html": [
       "<div>\n",
       "<style scoped>\n",
       "    .dataframe tbody tr th:only-of-type {\n",
       "        vertical-align: middle;\n",
       "    }\n",
       "\n",
       "    .dataframe tbody tr th {\n",
       "        vertical-align: top;\n",
       "    }\n",
       "\n",
       "    .dataframe thead th {\n",
       "        text-align: right;\n",
       "    }\n",
       "</style>\n",
       "<table border=\"1\" class=\"dataframe\">\n",
       "  <thead>\n",
       "    <tr style=\"text-align: right;\">\n",
       "      <th></th>\n",
       "      <th>titleType</th>\n",
       "      <th>primaryTitle</th>\n",
       "      <th>originalTitle</th>\n",
       "      <th>startYear</th>\n",
       "      <th>endYear</th>\n",
       "      <th>genres</th>\n",
       "    </tr>\n",
       "  </thead>\n",
       "  <tbody>\n",
       "    <tr>\n",
       "      <th>498</th>\n",
       "      <td>movie</td>\n",
       "      <td>Bohemios</td>\n",
       "      <td>Bohemios</td>\n",
       "      <td>1905</td>\n",
       "      <td>2022</td>\n",
       "      <td>\\N</td>\n",
       "    </tr>\n",
       "    <tr>\n",
       "      <th>570</th>\n",
       "      <td>movie</td>\n",
       "      <td>The Story of the Kelly Gang</td>\n",
       "      <td>The Story of the Kelly Gang</td>\n",
       "      <td>1906</td>\n",
       "      <td>2022</td>\n",
       "      <td>Action,Adventure,Biography</td>\n",
       "    </tr>\n",
       "    <tr>\n",
       "      <th>587</th>\n",
       "      <td>movie</td>\n",
       "      <td>The Prodigal Son</td>\n",
       "      <td>L'enfant prodigue</td>\n",
       "      <td>1907</td>\n",
       "      <td>2022</td>\n",
       "      <td>Drama</td>\n",
       "    </tr>\n",
       "    <tr>\n",
       "      <th>610</th>\n",
       "      <td>movie</td>\n",
       "      <td>Robbery Under Arms</td>\n",
       "      <td>Robbery Under Arms</td>\n",
       "      <td>1907</td>\n",
       "      <td>2022</td>\n",
       "      <td>Drama</td>\n",
       "    </tr>\n",
       "    <tr>\n",
       "      <th>625</th>\n",
       "      <td>movie</td>\n",
       "      <td>Hamlet</td>\n",
       "      <td>Amleto</td>\n",
       "      <td>1908</td>\n",
       "      <td>2022</td>\n",
       "      <td>Drama</td>\n",
       "    </tr>\n",
       "  </tbody>\n",
       "</table>\n",
       "</div>"
      ],
      "text/plain": [
       "    titleType                 primaryTitle                originalTitle  \\\n",
       "498     movie                     Bohemios                     Bohemios   \n",
       "570     movie  The Story of the Kelly Gang  The Story of the Kelly Gang   \n",
       "587     movie             The Prodigal Son            L'enfant prodigue   \n",
       "610     movie           Robbery Under Arms           Robbery Under Arms   \n",
       "625     movie                       Hamlet                       Amleto   \n",
       "\n",
       "    startYear endYear                      genres  \n",
       "498      1905    2022                          \\N  \n",
       "570      1906    2022  Action,Adventure,Biography  \n",
       "587      1907    2022                       Drama  \n",
       "610      1907    2022                       Drama  \n",
       "625      1908    2022                       Drama  "
      ]
     },
     "execution_count": 4,
     "metadata": {},
     "output_type": "execute_result"
    }
   ],
   "source": [
    "df_titles['endYear'].mask(df_titles['endYear']=='\\\\N', 2022, inplace=True)\n",
    "df_titles.head()"
   ]
  },
  {
   "cell_type": "code",
   "execution_count": 5,
   "metadata": {},
   "outputs": [],
   "source": [
    "#time bounding\n",
    "df_titles = df_titles[df_titles.startYear != '\\\\N'] # if we don't have good data for a production, it's probably not getting an award lol\n",
    "df_titles = df_titles[df_titles.startYear.astype(int) > 2000]\n",
    "df_titles = df_titles[(((df_titles['titleType'].isin(['movie', 'tvMovie', 'tvSpecial'])) & (df_titles['startYear'].astype(int) == 2014)) | ((df_titles['titleType'].isin(['tvSeries', 'tvMiniSeries'])) & (df_titles['endYear'].astype(int) >= 2014) & (df_titles['startYear'].astype(int) <= 2014)))]"
   ]
  },
  {
   "cell_type": "code",
   "execution_count": 7,
   "metadata": {},
   "outputs": [
    {
     "name": "stdout",
     "output_type": "stream",
     "text": [
      "89373\n"
     ]
    }
   ],
   "source": [
    "# df_titles.head(100)\n",
    "df_titles = df_titles.drop(['originalTitle', 'startYear', 'endYear'], axis = 'columns')\n",
    "df_titles.head(100)\n",
    "print(len(df_titles))"
   ]
  },
  {
   "cell_type": "code",
   "execution_count": 4,
   "metadata": {},
   "outputs": [
    {
     "data": {
      "text/html": [
       "<div>\n",
       "<style scoped>\n",
       "    .dataframe tbody tr th:only-of-type {\n",
       "        vertical-align: middle;\n",
       "    }\n",
       "\n",
       "    .dataframe tbody tr th {\n",
       "        vertical-align: top;\n",
       "    }\n",
       "\n",
       "    .dataframe thead th {\n",
       "        text-align: right;\n",
       "    }\n",
       "</style>\n",
       "<table border=\"1\" class=\"dataframe\">\n",
       "  <thead>\n",
       "    <tr style=\"text-align: right;\">\n",
       "      <th></th>\n",
       "      <th>primaryName</th>\n",
       "      <th>deathYear</th>\n",
       "    </tr>\n",
       "  </thead>\n",
       "  <tbody>\n",
       "    <tr>\n",
       "      <th>0</th>\n",
       "      <td>Fred Astaire</td>\n",
       "      <td>1987</td>\n",
       "    </tr>\n",
       "    <tr>\n",
       "      <th>1</th>\n",
       "      <td>Lauren Bacall</td>\n",
       "      <td>2014</td>\n",
       "    </tr>\n",
       "    <tr>\n",
       "      <th>2</th>\n",
       "      <td>Brigitte Bardot</td>\n",
       "      <td>\\N</td>\n",
       "    </tr>\n",
       "    <tr>\n",
       "      <th>3</th>\n",
       "      <td>John Belushi</td>\n",
       "      <td>1982</td>\n",
       "    </tr>\n",
       "    <tr>\n",
       "      <th>4</th>\n",
       "      <td>Ingmar Bergman</td>\n",
       "      <td>2007</td>\n",
       "    </tr>\n",
       "  </tbody>\n",
       "</table>\n",
       "</div>"
      ],
      "text/plain": [
       "       primaryName deathYear\n",
       "0     Fred Astaire      1987\n",
       "1    Lauren Bacall      2014\n",
       "2  Brigitte Bardot        \\N\n",
       "3     John Belushi      1982\n",
       "4   Ingmar Bergman      2007"
      ]
     },
     "execution_count": 4,
     "metadata": {},
     "output_type": "execute_result"
    }
   ],
   "source": [
    "df_names = df_names.drop(['nconst', 'birthYear', 'primaryProfession', \"knownForTitles\"], axis='columns')\n",
    "df_names.head()"
   ]
  },
  {
   "cell_type": "code",
   "execution_count": 5,
   "metadata": {},
   "outputs": [],
   "source": [
    "df_names['deathYear'].mask(df_names['deathYear']=='\\\\N', 2022, inplace=True)\n"
   ]
  },
  {
   "cell_type": "code",
   "execution_count": 6,
   "metadata": {},
   "outputs": [],
   "source": [
    "df_names = df_names[df_names['deathYear'].astype(int) > 2010]"
   ]
  },
  {
   "cell_type": "code",
   "execution_count": 7,
   "metadata": {},
   "outputs": [
    {
     "data": {
      "text/html": [
       "<div>\n",
       "<style scoped>\n",
       "    .dataframe tbody tr th:only-of-type {\n",
       "        vertical-align: middle;\n",
       "    }\n",
       "\n",
       "    .dataframe tbody tr th {\n",
       "        vertical-align: top;\n",
       "    }\n",
       "\n",
       "    .dataframe thead th {\n",
       "        text-align: right;\n",
       "    }\n",
       "</style>\n",
       "<table border=\"1\" class=\"dataframe\">\n",
       "  <thead>\n",
       "    <tr style=\"text-align: right;\">\n",
       "      <th></th>\n",
       "      <th>primaryName</th>\n",
       "      <th>deathYear</th>\n",
       "    </tr>\n",
       "  </thead>\n",
       "  <tbody>\n",
       "    <tr>\n",
       "      <th>1</th>\n",
       "      <td>Lauren Bacall</td>\n",
       "      <td>2014</td>\n",
       "    </tr>\n",
       "    <tr>\n",
       "      <th>2</th>\n",
       "      <td>Brigitte Bardot</td>\n",
       "      <td>2022</td>\n",
       "    </tr>\n",
       "    <tr>\n",
       "      <th>12</th>\n",
       "      <td>Doris Day</td>\n",
       "      <td>2019</td>\n",
       "    </tr>\n",
       "    <tr>\n",
       "      <th>13</th>\n",
       "      <td>Olivia de Havilland</td>\n",
       "      <td>2020</td>\n",
       "    </tr>\n",
       "    <tr>\n",
       "      <th>17</th>\n",
       "      <td>Kirk Douglas</td>\n",
       "      <td>2020</td>\n",
       "    </tr>\n",
       "  </tbody>\n",
       "</table>\n",
       "</div>"
      ],
      "text/plain": [
       "            primaryName deathYear\n",
       "1         Lauren Bacall      2014\n",
       "2       Brigitte Bardot      2022\n",
       "12            Doris Day      2019\n",
       "13  Olivia de Havilland      2020\n",
       "17         Kirk Douglas      2020"
      ]
     },
     "execution_count": 7,
     "metadata": {},
     "output_type": "execute_result"
    }
   ],
   "source": [
    "df_names.head()"
   ]
  },
  {
   "cell_type": "code",
   "execution_count": 8,
   "metadata": {},
   "outputs": [
    {
     "data": {
      "text/html": [
       "<div>\n",
       "<style scoped>\n",
       "    .dataframe tbody tr th:only-of-type {\n",
       "        vertical-align: middle;\n",
       "    }\n",
       "\n",
       "    .dataframe tbody tr th {\n",
       "        vertical-align: top;\n",
       "    }\n",
       "\n",
       "    .dataframe thead th {\n",
       "        text-align: right;\n",
       "    }\n",
       "</style>\n",
       "<table border=\"1\" class=\"dataframe\">\n",
       "  <thead>\n",
       "    <tr style=\"text-align: right;\">\n",
       "      <th></th>\n",
       "      <th>primaryName</th>\n",
       "    </tr>\n",
       "  </thead>\n",
       "  <tbody>\n",
       "    <tr>\n",
       "      <th>1</th>\n",
       "      <td>Lauren Bacall</td>\n",
       "    </tr>\n",
       "    <tr>\n",
       "      <th>2</th>\n",
       "      <td>Brigitte Bardot</td>\n",
       "    </tr>\n",
       "    <tr>\n",
       "      <th>12</th>\n",
       "      <td>Doris Day</td>\n",
       "    </tr>\n",
       "    <tr>\n",
       "      <th>13</th>\n",
       "      <td>Olivia de Havilland</td>\n",
       "    </tr>\n",
       "    <tr>\n",
       "      <th>17</th>\n",
       "      <td>Kirk Douglas</td>\n",
       "    </tr>\n",
       "  </tbody>\n",
       "</table>\n",
       "</div>"
      ],
      "text/plain": [
       "            primaryName\n",
       "1         Lauren Bacall\n",
       "2       Brigitte Bardot\n",
       "12            Doris Day\n",
       "13  Olivia de Havilland\n",
       "17         Kirk Douglas"
      ]
     },
     "execution_count": 8,
     "metadata": {},
     "output_type": "execute_result"
    }
   ],
   "source": [
    "df_names = df_names.drop([\"deathYear\"],axis='columns')\n",
    "df_names.head()\n",
    "# print(len(df_names))\n"
   ]
  },
  {
   "cell_type": "code",
   "execution_count": 9,
   "metadata": {},
   "outputs": [
    {
     "data": {
      "text/html": [
       "<div>\n",
       "<style scoped>\n",
       "    .dataframe tbody tr th:only-of-type {\n",
       "        vertical-align: middle;\n",
       "    }\n",
       "\n",
       "    .dataframe tbody tr th {\n",
       "        vertical-align: top;\n",
       "    }\n",
       "\n",
       "    .dataframe thead th {\n",
       "        text-align: right;\n",
       "    }\n",
       "</style>\n",
       "<table border=\"1\" class=\"dataframe\">\n",
       "  <thead>\n",
       "    <tr style=\"text-align: right;\">\n",
       "      <th></th>\n",
       "      <th>primaryName</th>\n",
       "    </tr>\n",
       "  </thead>\n",
       "  <tbody>\n",
       "    <tr>\n",
       "      <th>9181305</th>\n",
       "      <td>!'aru Ikhuisi Piet Berendse</td>\n",
       "    </tr>\n",
       "    <tr>\n",
       "      <th>7833746</th>\n",
       "      <td>!Gubi Tietie</td>\n",
       "    </tr>\n",
       "    <tr>\n",
       "      <th>6165074</th>\n",
       "      <td>!Mystery Girl!</td>\n",
       "    </tr>\n",
       "    <tr>\n",
       "      <th>889047</th>\n",
       "      <td>!Nqate Xqamxebe</td>\n",
       "    </tr>\n",
       "    <tr>\n",
       "      <th>3600240</th>\n",
       "      <td>!llmind</td>\n",
       "    </tr>\n",
       "  </tbody>\n",
       "</table>\n",
       "</div>"
      ],
      "text/plain": [
       "                         primaryName\n",
       "9181305  !'aru Ikhuisi Piet Berendse\n",
       "7833746                 !Gubi Tietie\n",
       "6165074               !Mystery Girl!\n",
       "889047               !Nqate Xqamxebe\n",
       "3600240                      !llmind"
      ]
     },
     "execution_count": 9,
     "metadata": {},
     "output_type": "execute_result"
    }
   ],
   "source": [
    "df_names = df_names.sort_values('primaryName')\n",
    "df_names.head()"
   ]
  },
  {
   "cell_type": "code",
   "execution_count": 10,
   "metadata": {},
   "outputs": [],
   "source": [
    "imdbNames = set(df_names['primaryName'])\n",
    "# print('Tina Fay' in df_names['primaryName'].values)"
   ]
  },
  {
   "cell_type": "code",
   "execution_count": 11,
   "metadata": {},
   "outputs": [
    {
     "name": "stdout",
     "output_type": "stream",
     "text": [
      "['Don King', 'Ken Marino', 'Wendell Pierce', 'Marvel Universe', 'Marilyn Manson', 'Mike Conley', 'Naomie Harris', 'Elizabeth Warren', 'Julia Louis', 'Larry Sanders', 'Amy Sedaris', 'Ron Howard', 'Billy Crystal', 'Morgan Freeman', 'Peter Burke', 'Emily Ratajkowski', 'Nice Shoes', 'Chris Waltz', 'Natasha Lyonne', 'Jessica Christian', 'Sean Hannity', 'Aaron Ekblad', 'Emerald City', 'David Blaine', 'Karishma Tanna', 'Sky Adams', 'Craig Melvin', 'Rachel Zoe', 'Laura Vandervoort', 'Nancy Tartaglione', 'Michael Jackson', 'Ryan Gajewski', 'Kelsey Grammer', 'National Geographic', 'Teri Garr', 'Adam Adams', 'Claire Dames', 'Parineeti Chopra', 'Charlie Manson', 'Narendra Modi', 'Cathy Bates', 'Ted Cruz', 'Christopher Dodd', 'June Ambrose', 'Kelly Anne', 'Silky Smooth', 'Nigel Barker', 'Paul Spector', 'Action Jackson', 'Wyatt Earp', 'Zack Morris', 'Paul Newman', 'Phylicia Rashad', 'Green Eyes', 'Art Day', 'Diana Ross', 'Florence Welch', 'Jose Cuervo', 'Weird Mc', 'Giambattista Valli', 'Jennifer Lynn', 'Paul Ryan', 'Simon Halls', 'Bruce Hart', 'Paula Patton', 'Jadeveon Clowney', 'David Caruso', 'Joan Crawford', 'Third Person', 'New Age', 'Single Man', 'Alfre Woodard', 'Jamie Forman', 'Donald Duck', 'Jenna Dawn', 'John Craven', 'Tina Slay', 'Chris Lehane', 'Dick Grayson', 'Jordan Crook', 'Swan Lake', 'Charles Manson', 'Point Break', 'Kathryn Hahn', 'Mark Boal', 'Teen Wolf', 'Search Party', 'Felix Unger', 'Fat Albert', 'Meena Kumari', 'John Boehner', 'Art Lynch', 'Hari Kondabolu', 'Shots Fired', 'Josh Horowitz', 'Yemi Alade', 'Charles Grodin', 'Libby Hill', 'Dorian Grey', 'Jane Wilde', 'Dez Bryant', 'Bling Bling', 'Hassan Whiteside', 'Miranda July', 'Every Day', 'Thana Alexa', 'Linda Ge', 'Bill Zwecker', 'Lee Daniel', 'Red Square', 'Ron Galella', 'Salma Hayek', 'Anne Perkins', 'Sterling Silver', 'Liza Minnelli', 'Sugar Ray', 'Aida Takla', 'Lilliana Vasquez', 'Blue Eyes', 'Ed Harris', 'George Kaplan', 'Chris Himsworth', 'American Airlines', 'Neil Young', 'Jake Gyllenhaal', 'Old Guy', 'Paul Shirey', 'Live Action', 'Max Grossman', 'Pam Ann', 'Thomas Carter', 'Stacy Keach', 'Meryl Streep', 'Maggie Smith', 'Josh Peck', 'Monique Moss', 'Fifth Harmony', 'John Mayer', 'Super Sexy', 'Ron Burgundy', 'Phil Mickelson', 'Billy Joel', 'Fred Durst', 'Pat Lamb', 'Spirit Animal', 'Candy Crush', 'Ryan Eggold', 'Madeleine Stowe', 'Peter Griffin', 'Sharon Osbourne', 'Phil Donahue', 'Alexander Dinelaris', 'Zooey Deschanel', 'Rod Stewart', 'Hope Lea', 'Gautam Gulati', 'Bradford Young', 'Uriah Hall', 'Michelle Visage', 'Steve Marriott', 'Stedman Graham', 'Dorian Gray', 'Emily Dent', 'De Mille', 'Michael Emerson', 'Shawn Parr', 'Paul Giamatti', 'Deacon Frost', 'Zach Bogosian', 'Michael Keating', 'Mister Rogers', 'Moon Man', 'Plastic Bag', 'Daniel Craig', 'Liam Payne', 'News Live', 'Virginia Woolf', 'Alan Cumming', 'Buster Brown', 'Say Hi', 'Danielle Steele', 'Salvatore Ferragamo', 'Miles Tiller', 'Michael Slezak', 'Rich Little', 'Drunk Guy', 'Chicken Nuggets', 'Space Jam', 'Kyle Chandler', 'Tim Burton', 'Amy Dunne', 'Carlos Santana', 'Veronica Lake', 'Sir Michael', 'Bin Laden', 'Matt Bonner', 'Dean Du', 'Catt Sadler', 'Bow Wow', 'Elisabetta Canalis', 'Miu Miu', 'Yayoi Kusama', 'Alec Baldwin', 'Hugo Blick', 'Liza Huber', 'Gene Hackman', 'Quentin Letts', 'Mary Fisher', 'Mike Carey', 'Anthony Edwards', 'Don Cheadle', 'Big Mac', 'Georgina Chapman', 'Alan Dershowitz', 'Fort Knox', 'Chris Miller', 'Laura Prepon', 'Jake Peavy', 'Bazooka Joe', 'Jim Jones', 'Felicity Huffman', 'Thomas Hobbes', 'Papa Johns', 'Katie Bates', 'Oh Laura', 'Michael Perry', 'Leigh Thompson', 'Evelyn Johnson', 'Freddy Krueger', 'Alejandro Junger', 'Richard Perry', 'Cassidy Quinn', 'Delta Burke', 'Jaeden Lieberher', 'Ross Matthews', 'Elle Woods', 'Ice Cold', 'Chuck Lorre', 'Trey Anastasio', 'Tyler Durden', 'Marco Polo', 'Nick Young', 'Meow Meow', 'Aaron Paul', 'Julian Fellowes', 'Tiziana Rocca', 'Michelle Higgins', 'Jared Padalecki', 'Nat Turner', 'Christopher Hitchens', 'Fifth Avenue', 'Jim Nantz', 'Max Hardy', 'Yeah Frank', 'Amanda Peet', 'Gael Garcia', 'Small World', 'Rodrigo Perez', 'Nicole Scherzinger', 'Hank Sanders', 'Judi Dench', 'Billy Billy', 'James Meade', 'Kelly Osborn', 'Richie Rich', 'Tank Girl', 'Terrence Carter', 'Campbell Newman', 'Ryne Sandberg', 'Jasmine Dustin', 'Zoe Saldana', 'Danny Feld', 'Claire Dane', 'Joan Fontaine', 'Matt Bone', 'Janet Reno', 'Jenny Johnson', 'Ash Fox', 'John Fiedler', 'Craig Hill', 'Hop Sing', 'Rosamund Pike', 'Javalan Chew', 'Young Han', 'George Kotsiopoulos', 'Uzo Aduba', 'Pepe Auth', 'Anne Franks', 'Hot Dog', 'Maureen Dragone', 'Vladimir Putin', 'Joe Manganiello', 'Peter Quill', 'Iron Horse', 'Ann Perkins', 'Neil Portnow', 'George Zimmerman', 'Hugh Dancy', 'Michael Keat', 'Tara Manning', 'Matt Morris', 'James Spencer', 'Leslie Nielsen', 'Jeff Cox', 'Gary Ablett', 'Amal George', 'Control Room', 'White Gloves', 'Alex Needham', 'Lauren Bacall', 'Jessica Morris', 'Michael Costello', 'Don Manolo', 'Low Key', 'Uma Thurman', 'Sam Waterston', 'Ronit Elkabetz', 'Mao Padilha', 'Ryan Howard', 'Hot Girl', 'Niecy Nash', 'Megan Fox', 'Young Guy', 'Nadia Comaneci', 'Jared Leto', 'Drew Stafford', 'Diana Madison', 'Kevin Klein', 'Jane Lynch', 'Donna Summer', 'Richard Kimble', 'Gerald Gardner', 'Matthew Rhys', 'Phoebe Cates', 'Mayo Clinic', 'Merle Haggard', 'Engelbert Humperdinck', 'Jenna Dewan', 'David Niven', 'Keith Robinson', 'Chris Bosh', 'Terence Fletcher', 'Ha Ha', 'Jamie Dorman', 'Space Man', 'Dorothy Hamill', 'Matt Wolpert', 'Laura Dern', 'Great White', 'John Carroll', 'David Glasser', 'David Filipi', 'John Nendick', 'Ryan Hawke', 'Julia Lewis', 'Darth Vader', 'Tahj Mowry', 'Sailor Moon', 'David Cronenberg', 'Rob Marshal', 'Jeff Perry', 'Coco Chanel', 'John Grisham', 'Imelda Staunton', 'Yakov Smirnoff', 'Rick Grimes', 'Adam Carolla', 'Pete Edochie', 'Darren Collison', 'Lina Dee', 'Peter Sellers', 'Mohamed Fahmy', 'Owen Wilson', 'Christoph Waltz', 'Robert Pattinson', 'Grandpa Johnson', 'Jeffrey Tam', 'Terry Gross', 'Savion Glover', 'Ron Weasley', 'Jefferson Starship', 'Kobe Bryant', 'French Montana', 'Cristina Ehrlich', 'Amber Waves', 'Laverne Cox', 'Naomi Stone', 'Joe Louis', 'Daft Punk', 'Nathan Adrian', 'Jennifer Connelly', 'Fred Couples', 'James Cannon', 'Matt Barone', 'Bruce Wayne', 'Les Paul', 'Paz Vega', 'David Sarnoff', 'Buffalo Bills', 'Amanda Waller', 'Julianna Margulies', 'Nihal Chand', 'Tree Paine', 'David Dobkin', 'Wayne Rooney', 'Ashley Dawn', 'Easter Bunny', 'Ron Morris', 'Lisa Vanderpump', 'Robin Wright', 'Daniel Day', 'Jungle Jim', 'Angela Bauer', 'Donald Trump', 'Sharon Stone', 'Ryan Reynolds', 'Frank Whaley', 'Ellen Page', 'Charlotte Church', 'Aubrey Plaza', 'Delphine Manivet', 'Michael Clayton', 'Chris Klein', 'Shlomi Elkabetz', 'Austin Swift', 'Johnny Deep', 'Fantastic Four', 'Paul Fox', 'Green Day', 'Jayne Mansfield', 'Johnny Knoxville', 'Tatum Moore', 'Blue Moon', 'Scarlett Johansson', 'Allen Leech', 'Armond White', 'Annette Funicello', 'Lois Lane', 'Warren Truss', 'Tim Meadows', 'Adir Abergel', 'Leeza Gibbons', 'James Woods', 'Dakota Johnston', 'Renee Russo', 'Alexander Payne', 'Optimus Prime', 'Antonio Gramsci', 'Ruby Red', 'Liev Schreiber', 'Vidal Sassoon', 'Edward Cullen', 'Elizabeth Stewart', 'Leonardo De', 'Sam Smith', 'Grant Gustin', 'Jane Seymour', 'Carter Burwell', 'Emma Stone', 'Jaclyn Smith', 'Girl Talk', 'Ride Along', 'Sean Paul', 'Nina Dobrev', 'Robin Leach', 'Pot Luck', 'Jennifer Lopes', 'Monique Lhuillier', 'Uncle Joe', 'Martin Adams', 'Regis Philbin', 'Jim Carrey', 'Brian Posehn', 'Susan Downey', 'Robert Waggoner', 'Colin Forth', 'David Gale', 'Lenny Kaye', 'Paul Reubens', 'Miles Teller', 'Russell Wilson', 'Chris Gayle', 'Jack Antanoff', 'Jennifer Lawrence', 'Harlan Ellison', 'Paul Rud', 'Bob Newhart', 'Linda Perry', 'Food Network', 'Penny Hardaway', 'Carl Sagan', 'John Lubbock', 'Mia Farrow', 'Tracy Morgan', 'Little Red', 'Naomi Clark', 'John Irving', 'Dame Judy', 'Zach Johnson', 'Bugs Bunny', 'Bobby Graham', 'Brian Moylan', 'Kendall Jenner', 'Zach Braff', 'Oh La', 'Katherine Kate', 'Sarah Hyland', 'Jack Jackson', 'Peter Knegt', 'Lennon Parham', 'John Doman', 'Rebecca Eaton', 'Steve Burke', 'Laura Jean', 'Dark Knight', 'Joan Collins', 'Patrick Bateman', 'Maury Povich', 'Miss Patricia', 'Jonathan Clay', 'Jean Co', 'Factory Worker', 'Kristina Bazan', 'Kam Chancellor', 'Alexis Mabille', 'Rock Hudson', 'Randi Rahm', 'Camera Man', 'Seyi Shay', 'Queen Tina', 'Steve Austin', 'Charlotte Tilbury', 'James Brown', 'Azealia Banks', 'David Letterman', 'Richard Wilkins', 'John Le', 'Hailee Steinfeld', 'Chest Rockwell', 'Mica Levi', 'Mark Trumbo', 'Samantha Fraser', 'Walter White', 'Silver Fox', 'Meg Foster', 'Hannah Montana', 'Emmy Rossum', 'Bill Gates', 'Keira Knight', 'Nicolas Batum', 'Olivia Evans', 'Ginger Alden', 'Spare Parts', 'Jennifer Morrison', 'Drunk History', 'George Martin', 'Emily Watson', 'Jim Cheung', 'Tim Allen', 'Doug Collins', 'Holy Ghost', 'Laetitia Casta', 'Keyshia Cole', 'Frankie Muniz', 'Lou Holtz', 'Fleetwood Mac', 'Triple Threat', 'Alex Ash', 'Green Tea', 'Jim Dunaway', 'Emily Deschanel', 'Jack Off', 'Jason Derulo', 'Shraddha Kapoor', 'Mickey Rourke', 'Powder Puff', 'Matt Blank', 'Ronald Reagan', 'Eli Pope', 'Bianca Balti', 'Priyanka Chopra', 'Freedom Fries', 'Christopher Barr', 'Kelly Prest', 'Maggie Gallagher', 'Hard Core', 'Carol Burnett', 'Chris Kyle', 'Mark Mark', 'Felicity Jones', 'Louise Roe', 'Roseanne Barr', 'Kim Rogers', 'Bobby Brown', 'Liza Donnelly', 'Josh Hutcherson', 'Don Creech', 'Jack Klugman', 'Ayesha Takia', 'Ryan Tubridy', 'Mark Halperin', 'Joe Mauer', 'Lauren Holly', 'Scrambled Eggs', 'For Real', 'Jonathan Groff', 'Two Things', 'Gucci Black', 'Jon Lithgow', 'Fried Chicken', 'Red Dog', 'Dick Clark', 'Anna Bates', 'Rod Blagojevich', 'Rosa Adams', 'Kirk Cameron', 'Big Tymers', 'Little Bit', 'Charlie Day', 'Jodie Foster', 'Anna Hathaway', 'Emily Barnes', 'Claire Danes', 'Malin Akerman', 'Kendrick Lamar', 'Laura Flynn', 'Jack Sparrow', 'Amy Dunn', 'Blair Kohan', 'Neil Lane', 'Barrett Brown', 'Chris Sullivan', 'Oliver Stone', 'Rob Riggle', 'Rory Gilmore', 'Bill Maher', 'Chris Young', 'Lionel Richie', 'Ana Gasteyer', 'Felix Turner', 'Emma Thompson', 'Hope Orange', 'Walt Whitman', 'Stella Artois', 'Billy Boyd', 'Steve Martin', 'Cauby Peixoto', 'Indiana Jones', 'Uncle George', 'Dion Waiters', 'Tyler Oakley', 'Amy Power', 'Steve Nash', 'Verne Troyer', 'Siobhan Thompson', 'Bryce Larkin', 'Lucky Charms', 'Sean Penn', 'Ian Lynch', 'Da Man', 'Sugar Plum', 'Anna Chlumsky', 'Red Rose', 'Dalton Mugridge', 'Survival Guide', 'Courtney Sands', 'Grandma Yetta', 'Bosom Buddies', 'Elliott Smith', 'Tim Gunn', 'Selma Blair', 'Ashley Judd', 'Edward Snowden', 'Daniel Baldwin', 'Nia Vardalos', 'Aaron Swartz', 'Rick Baker', 'Joe Namath', 'Julianne Hough', 'Cathy Brennan', 'Josue Rivera', 'Jamie Foxx', 'John Hodgman', 'Seymour Hoffman', 'Jane Fallon', 'Scooby Doo', 'Kevin Thompson', 'Maggie Carey', 'Clint Eastwood', 'Amy Elliott', 'Sara Lee', 'Dakotah Johnson', 'Stanley Tucci', 'Gamer Girl', 'Richard Li', 'Parental Advisory', 'James Newton', 'Karl Marx', 'Carol Tatum', 'Detlef Schrempf', 'Black Widow', 'Emily Bunt', 'Black Mirror', 'Terrance Howard', 'Rainn Wilson', 'Tyler Bozak', 'Shaun Robinson', 'Jason Wu', 'Escape Plan', 'Bridgid Coulter', 'New Look', 'Katy Holmes', 'Ralph Fiennes', 'Marcus Smith', 'Shane Graham', 'Big Brother', 'Aaron Altman', 'Samantha Bryant', 'Jim Nabors', 'Oscar Pistorius', 'Kari Feinstein', 'Oliver Hudson', 'James Nesbitt', 'John Lasseter', 'Deepika Padukone', 'Fernando Allende', 'Alton Brown', 'Eva Mendes', 'Rafe Spall', 'Jerry Washington', 'Billy Cosby', 'Josh Charles', 'Felicia Day', 'Lady Liberty', 'Kevin Spacey', 'Terence Howard', 'Rachel Green', 'Gerald Ford', 'Robert Palmer', 'Michael Biehn', 'Michael Keaton', 'Paul Konrad', 'Yo Frank', 'War Machine', 'June Squibb', 'Kathleen Robertson', 'Mike Krzyzewski', 'Penny Lane', 'Rush Limbaugh', 'Laura Ashley', 'Gabi Hoffmann', 'Jeff Jensen', 'Robert Patrick', 'Amy Fey', 'Cincinnati Reds', 'Bad Boys', 'James Earl', 'Jesse Metcalfe', 'Kid Rock', 'Mad Hatter', 'David Simon', 'Sam Rockwell', 'Nikki Cox', 'Russell Peters', 'Saint George', 'Coca Cola', 'Anna Won', 'Tsk Tsk', 'Phil Hoffman', 'Thompson Twins', 'Jack Donaghy', 'Mark Boardman', 'Roddy Bottum', 'James Falconer', 'Brittany Watson', 'Dream Warriors', 'Frank Lampard', 'Hugh Grant', 'Davante Adams', 'Ned Flanders', 'Bruno Mars', 'Royal Blue', 'United Airlines', 'Mother Earth', 'Jamie King', 'Lands End', 'Chris Kattan', 'Linda Lavin', 'Home Depot', 'Sam Jackson', 'Carla Bruni', 'John Tucker', 'Rosario Dawson', 'Clark Gable', 'Greg Davis', 'Ron Kovic', 'Amy Meredith', 'Save Me', 'James Bond', 'Kirstie Alley', 'James Cromwell', 'Courtney Cox', 'David Thomson', 'Lou Diamond', 'Get Ready', 'Ricky Martin', 'Indianapolis Colts', 'Rachel Dratch', 'Gigi Hadid', 'Lindsay Graham', 'Del Rey', 'Action Bronson', 'Travis Mitchell', 'Mahatma Gandhi', 'Jason Schwartzman', 'Inside Out', 'Hope Davis', 'Lizzie Grant', 'Sam Elliot', 'Dermot Mulroney', 'Alison Bailey', 'Ja Ja', 'Patty Arquette', 'Jason Little', 'Steve Bandura', 'Vivienne Westwood', 'Randy Gerber', 'Rita Ora', 'Matt Kemp', 'Allison Dubois', 'Johan Johanson', 'Sean Kingston', 'Freida Pinto', 'Robert King', 'Robert Duvall', 'Michael Jordon', 'Kyle Lowry', 'Kevin Costner', 'Doralee Rhodes', 'Steve Kroft', 'Josh Gad', 'Amy Poehler', 'Dustin Diamond', 'Kenny Loggins', 'Shannon Leto', 'Peter Falk', 'Michael Brown', 'Adriana Rivera', 'Jonathan Irons', 'Tyler Perry', 'Eric Ericsson', 'Evangeline Lilly', 'Brad Grey', 'Timothy Smith', 'Kevin Love', 'Meredith Baxter', 'Blake Lively', 'Sam Tyler', 'Richard Lin', 'Jersey Boys', 'Dan Aykroyd', 'Jean Simmons', 'Dan Burns', 'Jason Korsner', 'Mother Nature', 'Eddie Izzard', 'Ann Taylor', 'Field Mob', 'Chris Platt', 'Jordan Catalano', 'Art Deco', 'Crystal Carrington', 'Amal Clooney', 'Victoria Secret', 'Ray Donovan', 'Joe Dirt', 'Carmen Ejogo', 'Big Jim', 'Kathy Griffin', 'Jeremy Gerard', 'Simon Mayo', 'Colton Haynes', 'Steve Knight', 'Bad Taste', 'Saint Louis', 'Lorraine Schwartz', 'Chord Overstreet', 'Kevin Conroy', 'Julia Roberts', 'Ice Cream', 'Robert Duval', 'Sup Ricky', 'Piers Morgan', 'Daniel Radcliffe', 'Carmen Miranda', 'Iron Maiden', 'Julie Hinds', 'An Actor', 'Nancy Grace', 'Wiz Khalifa', 'Paul Rudd', 'Timothy Spall', 'Ving Rhames', 'Paddy Power', 'Arnold Schwarzenegger', 'Peter Hoare', 'Nick Cannon', 'Baby Bumps', 'Zuhair Murad', 'Kaitlyn Lawes', 'New Skin', 'Chiwetel Ejiofor', 'Michael Moore', 'Barbra Streisand', 'Eli Manning', 'Dora Lee', 'Mona Lisa', 'Roy Krishna', 'Jonathan Kimble', 'James Cameron', 'Amitabh Bachchan', 'Emmanuelle Chriqui', 'Maxi Priest', 'Joel Osteen', 'Albert Finney', 'Dean Martin', 'Fantasy Life', 'Marcus Kayne', 'Dennis Miller', 'Matt Lauer', 'Ricky Bobby', 'Brian Singer', 'Janice Kinjo', 'Joni Mitchell', 'Lisa Marie', 'Sergio Fachelli', 'Jessica Adamo', 'Jon Voight', 'Graham Moore', 'Uncle Frank', 'Phillip Phillips', 'Martin Lawrence', 'La Vie', 'Javier Bardem', 'David Fincher', 'Stan Lee', 'Cheap Trick', 'Chita Rivera', 'Mark Ralston', 'James Parish', 'Gina Gershon', 'Paul Stanley', 'Mind Games', 'Richard Grieco', 'Alberta Ferretti', 'Robert Carlock', 'Amy Fine', 'Ricky Wilson', 'Anele Mdoda', 'Public Enemy', 'Dan Roan', 'Michelle Rodriguez', 'Mary Lambert', 'Ned Stark', 'Arlene Dahl', 'Cynthia Stillwell', 'Jack Frost', 'Kevin Underwood', 'John Hader', 'John Malkovich', 'Janet Leigh', 'Ethan Hawks', 'Salvatore Vincent', 'Rich Juzwiak', 'Linda Blair', 'Sean Maguire', 'Michael Apted', 'Cameron Monaghan', 'Derek Lam', 'Hal Rudnick', 'Fred Astaire', 'Bloody Mary', 'Jenna Dean', 'Kevin Pollak', 'Susan Lucci', 'Capri Sun', 'Backstreet Boys', 'Caitlin Moran', 'Common Sense', 'Seth Rogen', 'Maria Shriver', 'Leo Jarzomb', 'Deacon Palmer', 'Justin Timberlake', 'Brett Dier', 'Dustin Hoffman', 'Al Pacino', 'Hailey Grace', 'Pia Zadora', 'Lena Du', 'Iron Man', 'Elton John', 'Mario Lopez', 'Regina King', 'Jerry Ferrara', 'Lisa Rinna', 'Taylor Schilling', 'Dick Wolf', 'Dianna Agron', 'Brittany Snow', 'Red Robin', 'Meryl Street', 'Sean Young', 'Rosie Assoulin', 'Michael Imperioli', 'Bob Odenkirk', 'Great Aunt', 'Jennifer Connolly', 'Bridget Fonda', 'Joe Conklin', 'Lisa Frank', 'Jon Stewart', 'Mike Brown', 'Hail Mary', 'Vera Farmiga', 'Vinny Chase', 'Shauna Robertson', 'Shawn Oakman', 'Lea Thompson', 'Carson Daly', 'Terry Bradshaw', 'Fred Armisen', 'Randy Marsh', 'Keith Lieberthal', 'David Gest', 'Alanis Morissette', 'Justin Baldoni', 'Katie Couric', 'Sandra Bullock', 'Poor Paul', 'Raising Hope', 'Brendan Gleeson', 'Franck Muller', 'Katherine Tulich', 'Kelly Osborne', 'Richard Conti', 'Blanche Devereaux', 'Red Velvet', 'Lane Price', 'King Kong', 'John Mc', 'Jan Nash', 'Peter Bishop', 'Jane Hawking', 'Mike Douglas', 'Big Bang', 'Tadashi Shoji', 'Nick Clooney', 'Alyssa Edwards', 'Missing Persons', 'Don Fernando', 'Jessica Biel', 'Cleveland Cavaliers', 'Louisa Gummer', 'Sigourney Weaver', 'Jeremy Dawson', 'Elettra Wiedemann', 'Elizabeth Perkins', 'Snow Man', 'Urban Meyer', 'Carrie Underwood', 'Maryam Malakpour', 'Rock Star', 'Ross Mathews', 'Steve Pond', 'Geena Davis', 'Jermaine Jones', 'Scott Aukerman', 'High Def', 'Real Talk', 'Larenz Tate', 'Aaron Rogers', 'Ally Mcbeal', 'Christian Bale', 'Blythe Danner', 'James Potter', 'Kate Walsh', 'Paule Ka', 'Lee Jones', 'Amy Hathaway', 'Barbara Walter', 'Cary Grant', 'Vera Wong', 'Dolce Vita', 'Bill Hader', 'Vince Neil', 'John Snow', 'Katy Bates', 'Simon Hall', 'Zero Dark', 'Allison Bailey', 'Madame Butterfly', 'Witness Protection', 'Joel Schumacher', 'Jason Statham', 'Spanish Fly', 'Peter Gabriel', 'Eddie Bauer', 'Michael Hogan', 'New Hollywood', 'Baz Luhrmann', 'Niti Taylor', 'Lindsay Duncan', 'Damian Lewis', 'Jerri Manthey', 'Kathleen Edwards', 'Laura Mercier', 'Michael Fassbender', 'Debbie Does', 'Wes Welker', 'Guy Fieri', 'David Edelstein', 'Austin Mahone', 'Reality Check', 'John Ritter', 'Kevin Smith', 'Kristin Scott', 'Mary Katrantzou', 'Loree Rodkin', 'Kari Hill', 'Dave Schultz', 'Gregor Samsa', 'Eric Cartman', 'Jessica Oyelowo', 'Angela Guevara', 'Hans Zimmer', 'Kathy Bates', 'Ja Rule', 'Karl Pilkington', 'Alex Borstein', 'Paula Poundstone', 'Tim Husom', 'Purple Rain', 'Merrill Barr', 'Game Center', 'John Stamos', 'Alice Cooper', 'Julien Lepers', 'Holy Fuck', 'Jessica Sanchez', 'Santa Maria', 'Michelle Pfeiffer', 'Bryant Gumbel', 'Jayden Federline', 'Madhuri Dixit', 'Jazmine Hughes', 'Jen Keefe', 'Super Mario', 'Tina Time', 'Ryan Adams', 'Bill Macy', 'Alice Morgan', 'Hirohiko Araki', 'Siaani Lane', 'Jesse Spencer', 'Jessica Alba', 'El Negro', 'Muammar Gaddafi', 'Judith Holste', 'Value Village', 'Shreya Ghoshal', 'Oh Ok', 'Vincent Vaughn', 'Jimmy Kimmel', 'Michael Douglas', 'Billy Bush', 'John Krasinski', 'Los Muertos', 'Chris Oliver', 'Bryan Singer', 'Adam Brody', 'Michael Corleone', 'Abby Cadabby', 'Amandla Stenberg', 'Vanessa Hudgens', 'Megyn Kelly', 'Jensen Ackles', 'Move Over', 'Alexander Emanuel', 'Bob Dylan', 'Mother Jones', 'Mads Mikkelsen', 'Gary Glitter', 'Hugo Boss', 'Your Highness', 'Irish Pub', 'Barry Manilow', 'Amir Khan', 'Bobby Pins', 'Kendra Scott', 'Kristen Wiig', 'Gabourey Sidibe', 'Kelly Ripa', 'Tracey Jordan', 'Jenna Fischer', 'Bill Murray', 'Elisabeth Moss', 'Tim Robbins', 'Michael Alfred', 'Hot Pink', 'Jennifer Lawrance', 'Kat Kramer', 'Just In', 'Max Medina', 'Kate Holmes', 'Justin Verlander', 'Howard Stern', 'Teri Hatcher', 'Bill Harder', 'Jay Lo', 'Surfer Dude', 'Mary Watson', 'Adelaide Kane', 'Gwen Stefani', 'Julianne Moore', 'Katie Cassidy', 'Stephen Colbert', 'Jordy Nelson', 'Ann Dowd', 'Pink Elephant', 'David Arquette', 'Harvey Keitel', 'Rachel Greene', 'Keanu Reeves', 'Katie Hudson', 'Ian Malcolm', 'Clyde Drexler', 'Jessica Fletcher', 'Tim Mc', 'Dick Cheney', 'Jamie Doran', 'Earl Grey', 'Phillip Glass', 'Martin Scorsese', 'Veronica Ferres', 'Lori Openden', 'Cody Simpson', 'Alison Sweeney', 'Steven Hawkins', 'James Rodriguez', 'Sierra Leone', 'Black Don', 'Bradley Cooper', 'Charlie George', 'Bob Geldof', 'Chris Brown', 'Mary Kennedy', 'Latin Lover', 'Elephant Man', 'Black Friday', 'Murphy Brown', 'Karen Black', 'Victoria Justice', 'Boo Radley', 'Apichatpong Weerasethakul', 'Patrick Ryan', 'Kristen Schaal', 'Kat Hudson', 'Juan Valdez', 'Al Green', 'David Zucker', 'Geoffrey Rush', 'Naomi Campbell', 'Big Daddy', 'Zac Posen', 'Brad Pitt', 'Martin Short', 'Adam Sandler', 'Stephen Hawkins', 'Marc Jacobs', 'Clive Owen', 'Allie Carter', 'Jay Duplass', 'Steve Schepis', 'Vanessa Bayer', 'George Clooney', 'Gloria Estefan', 'Ranveer Singh', 'Sally Field', 'Katie Lowes', 'Amit Shah', 'Kristen Stewart', 'Ryan Jay', 'Buster Keaton', 'Bad Boy', 'John Paul', 'Chloe Grace', 'Ivy League', 'Tyson Fury', 'Tim Tebow', 'Jonathan Jackson', 'Abraham Lincoln', 'Barry Allen', 'Puerto Rican', 'Mahershala Ali', 'Johnny Weir', 'Mark Giangreco', 'Courteney Cox', 'Cressida Bonas', 'Perez Hilton', 'Hayden Christensen', 'Adriana Lima', 'Dan Tyminski', 'David Lynch', 'First Love', 'Prince Rogers', 'Jean Rodriguez', 'Chris Tucker', 'Richard Pryor', 'Kirsten Dunst', 'Consumer Electronics', 'Ted Baker', 'Eddie Hobbs', 'Kenny Rogers', 'Mark Wahlberg', 'Matt Murdock', 'Jeremy Piven', 'Nick Jonas', 'Lisa Genova', 'Rachel Bilson', 'Annabeth Gish', 'Blue Bloods', 'Richard Collins', 'Doc Gibbs', 'Manuel Neuer', 'Dory Previn', 'Victor Yebra', 'John Wick', 'Rainy Day', 'Maura Tierney', 'Giorgio Armani', 'Joe Biden', 'Orlando Bloom', 'Tim Howard', 'Ana Grey', 'Jim Parsons', 'Jan Sewell', 'Dream Weaver', 'Pam Dawber', 'Darren Aronofsky', 'Joe Flacco', 'Jason Reitman', 'Monica Rose', 'Carrie Preston', 'George Harrison', 'Nick Cave', 'Jenny Slate', 'Michael Strahan', 'John Michael', 'Michael James', 'Richard Jenkins', 'Je Suis', 'Adam Levin', 'Leslie Craig', 'Cal Ripken', 'Gary Ross', 'Des Moines', 'Terrence Howard', 'Leighton Meester', 'Charles Schwab', 'Johnny Cash', 'Samira Wiley', 'Travis Tritt', 'Aussie Fan', 'Patty Smith', 'Michael Kelly', 'Vanessa Rousso', 'Larry Kramer', 'Buzz Lightyear', 'Chad Evans', 'Tim Ho', 'Alex Stedman', 'Frank Black', 'Mike Leigh', 'Chris Kirkpatrick', 'Iggy Azalea', 'Elie Saab', 'Bob Mackie', 'Drew Evans', 'Ethan Coen', 'Ron Jeremy', 'Austin Powers', 'Allan Grant', 'Zoe Quinn', 'Kate Foster', 'Long John', 'Money Money', 'Crazy Kevin', 'Gweneth Paltrow', 'Anna Faris', 'Jack Antonoff', 'Woodrow Wilson', 'Steve Coogan', 'Idris Elba', 'Lucy Li', 'Gabriel Olson', 'Marie Claire', 'Yusuf Estes', 'Big Boy', 'Jason Bateman', 'Eva Longoria', 'Judy Finnigan', 'Miss Tina', 'Diane Reese', 'Lee Thomas', 'Julian Moore', 'Billy Owens', 'Ricky James', 'David Schwimmer', 'Hollywood Hills', 'Bryan Adams', 'Aaron Rodgers', 'Daniel Tiger', 'Shah Alam', 'Fresh Air', 'Jeff Kim', 'John Holmes', 'Scott Feinberg', 'Cris Pratt', 'Malcolm Gladwell', 'Stevie Wonder', 'Jim Dolan', 'Angela Bassett', 'Sarah Mac', 'John Lydon', 'Rich Gang', 'Monica Lewinsky', 'Erykah Badu', 'Marty Feldman', 'Judge Palmer', 'Lela Rose', 'Ruth Buzzi', 'Charlotte Perrelli', 'Guy Harrison', 'Real Madrid', 'Chrissy Teigen', 'Michael Sam', 'Crypt Keeper', 'Roy Boswell', 'Bang Bang', 'Jimmy Johns', 'Lily Collins', 'Uncle Kevin', 'Sarah Koenig', 'Sam Drucker', 'Michael Jordan', 'Ryan Potter', 'Linda Holmes', 'Rat Pack', 'Liberty Ross', 'Amanda Salas', 'Justin Leonard', 'Rose Quartz', 'At Last', 'Dean Thomas', 'Grover Washington', 'Jack Pratt', 'John Oates', 'Richard Simmons', 'Shane Kelly', 'James Corden', 'Margaret Rowe', 'Modern Day', 'Tina Yothers', 'Bud Light', 'Matt Bower', 'Calvin Johnson', 'Brendan Fraser', 'Miranda Hobbs', 'Kurt Geiger', 'David Irving', 'Old Masters', 'Alexander Graham', 'Darren Le', 'Baby Boom', 'Purple Passion', 'Katie Segal', 'Jay Leno', 'Kelly Keaton', 'Dennis Rodman', 'Margarita Levieva', 'Rocky Road', 'Bryan Lourd', 'Brian Dennehy', 'Cory Monteith', 'Bob Hoskins', 'Cara Delevingne', 'Double Double', 'Jim Caviezel', 'Margaret Cho', 'Hannibal Buress', 'Phil Kessel', 'Bill Dubuque', 'Clint Barmes', 'Dan Conner', 'Abe Lincoln', 'Wally Wall', 'Secret Service', 'Eleanor Rigby', 'Kasia Tambor', 'Stephen Campbell', 'Indy Jones', 'Robin Thicke', 'Billy Madison', 'Michel Gill', 'Rahul Mahajan', 'John Fox', 'Ava Gardner', 'Bob Ulrich', 'Your Mom', 'Reed Birney', 'Rebecca Keegan', 'Ansel Elgort', 'Selfie Stick', 'Nina Terrero', 'James Taylor', 'Carol Brady', 'Haley Joel', 'Greg Hardy', 'Jeff Sneider', 'Jeremy Kleiner', 'Queen Latifah', 'Three Cheers', 'Len Wiseman', 'Doctor Jones', 'Tracey Ullman', 'Steve Rubin', 'Dwayne Johnson', 'Pink Slip', 'Julius Peppers', 'Christian Dior', 'Power Couple', 'Dick York', 'Dairy Queen', 'Gwyneth Paltrow', 'Fred Leighton', 'Bill Clinton', 'Chris Elliott', 'Time Machine', 'Five Minutes', 'Adam Duritz', 'Perfect Day', 'White Trash', 'Brian Lowry', 'Walter Sanders', 'Steven Roche', 'Peter Parker', 'Hilary Lewis', 'Emily Browning', 'John Ostrander', 'Billy Murray', 'Spin City', 'Meredith Blake', 'Most Wanted', 'Estee Stanley', 'Evan Peters', 'Bruce Almighty', 'Silver Spoon', 'Kate Mara', 'Lorraine Ali', 'Melanie Mills', 'Riccardo Tisci', 'Cash Money', 'National Anthem', 'Hulk Hogan', 'Ryan Talmo', 'Masha Gessen', 'Kevin Space', 'Kevin Adams', 'Black List', 'Michelle Obama', 'Alan Cummings', 'Joe Schmo', 'Janeane Garofalo', 'Livia Giuggioli', 'Brian Chumney', 'Janis Ian', 'Billy Horschel', 'Hanoi Jane', 'David Holmes', 'Big Kev', 'Bo Jackson', 'Sam Pagano', 'Larissa Primeau', 'Tyson Apostol', 'Rashida Jones', 'Little Big', 'Meghan Rienks', 'James Van', 'Petra Flannery', 'April Flowers', 'Dominic West', 'Jim Morrison', 'Jesse Tyler', 'Emma Stine', 'John Sloss', 'Elaine Stritch', 'Paul Jacek', 'Hoodie Allen', 'Jose Bolanos', 'Ray Charles', 'Kimberly Perry', 'Stephen Hawking', 'Sean Combs', 'Hollywood Legend', 'Off Limits', 'April Fool', 'Dave Karger', 'Armani Junior', 'Dick Tracy', 'Bounty Hunters', 'Thomas Rhett', 'Wes Powers', 'Michael John', 'Ann Curry', 'Steven Wright', 'Teresa Giudice', 'Ed Clark', 'Idina Menzel', 'Calvin Klein', 'Adam Lambert', 'Garrett Allen', 'Josh Jackson', 'Penny Lovell', 'Steven Price', 'Johnny Depp', 'Black Market', 'Ace Ventura', 'Nelson Mandela', 'Cressida Cowell', 'Pam Grier', 'George Cooney', 'Scott Pelley', 'Neil Perry', 'Prime Time', 'Miss Davis', 'Method Man', 'Ronnie James', 'Eniko Parrish', 'Stephanie Tanner', 'Darren Criss', 'Sid Caesar', 'Simon Abkarian', 'Amy Adams', 'Judy Jetson', 'Jeremy Irvine', 'Amy Ruth', 'Peter Weller', 'Reid Perry', 'Hope Michael', 'Jenny Lewis', 'Jason Bourne', 'Emma Watson', 'Anthony Mackie', 'Princess Jasmine', 'Laura Ingalls', 'Mike Pereira', 'Woody Harrelson', 'Matthew Bonner', 'Rosetta Stone', 'Malibu Barbie', 'Rita Volk', 'Jai Paul', 'American Dream', 'Rene Russo', 'Garth Brooks', 'Miss Scarlet', 'Jimmy Fallon', 'Madam Secretary', 'Angus Young', 'Eric Garner', 'John Green', 'Mohit Raina', 'Your Dad', 'Live Report', 'Picture Perfect', 'Amy Ferris', 'Bryan Greenberg', 'Charlie Nichols', 'George Jefferson', 'Jazmine Sullivan', 'Barry Watson', 'Evander Holyfield', 'Johnny Walker', 'Gerard Butler', 'Matt Damon', 'Don Draper', 'Dakota Fanning', 'Whitney Houston', 'Wild Card', 'Richard Gere', 'Naeem Khan', 'Hugh Jackman', 'Big Guy', 'Elizabeth Taylor', 'Richard Gilmore', 'Von Miller', 'Les Moonves', 'Dakota Johnson', 'Pauly Shore', 'Colin Hanks', 'Cathy Jones', 'Harold Ramis', 'Chadwick Boseman', 'Scott Foley', 'Kim Jung', 'Jennifer Garner', 'Joshua Malina', 'Jeff Fisher', 'Ann Jillian', 'Margaret Keane', 'Martin Freeman', 'Harrison Ford', 'Gabrielle Union', 'Mike Tyson', 'Faith Blum', 'Bird Lady', 'Vicki Vale', 'James Dornan', 'Brad Garrett', 'Hillary Clinton', 'Charise Greene', 'Easy Rider', 'Kim Jong', 'Michael Kors', 'John Carpenter', 'Francine Smith', 'Don Meadows', 'Coretta Scott', 'Running Man', 'Jamie Chung', 'Mark Ruffalo', 'Melissa Leo', 'Hannah Storm', 'Ariana Grande', 'Jesus Christ', 'Princess Catherine', 'Anne Farris', 'Baby Jane', 'Divine Brown', 'Nadia Bronson', 'Paulie Malignaggi', 'Jonathan Sehring', 'Richard Dreyfuss', 'Leslie Miller', 'John Maybury', 'Barrie Buckner', 'Rob Marshall', 'Little Nicky', 'Jane Austin', 'Taissa Farmiga', 'Kevin Avery', 'Marco Rubio', 'Chris Christie', 'Joe Mantello', 'Bob Thornton', 'Jeffrey Tambor', 'Gwen Stacy', 'Amber Rose', 'David Bowie', 'Xavier Dolan', 'Cameron Wilson', 'Jeremy Renner', 'Charlie Weaver', 'Red Zone', 'Thomas Pynchon', 'Travis Reilly', 'Hands Down', 'Richard Krawczyk', 'Josh Groban', 'Ronan Farrow', 'Alan Friedman', 'Alicia Cox', 'White Chocolate', 'Everyone Else', 'Bill Love', 'Patrick Schwarzenegger', 'Jose Ceballos', 'Young Thug', 'Jamie Dornan', 'Chris Martin', 'Handsome Man', 'Evil Queen', 'George Burnett', 'Michael Pitt', 'Nina Rodriguez', 'Lex Luthor', 'Audrina Patridge', 'John Lennon', 'Faith Hill', 'Olivia Wilde', 'Alex Kingston', 'Julian Wasser', 'Anthony Hopkins', 'Rob Thomas', 'Millie Machado', 'Connie Angland', 'Bill Cosby', 'Tia Carrere', 'Kyra Sedgwick', 'Hank Mardukas', 'Dustin Rhodes', 'Star Telegram', 'Paul Reiser', 'Natalie Morales', 'Ruby Dee', 'Shia Labeouf', 'Red Foxx', 'Jacqueline Bisset', 'Julie Plec', 'Jason Leigh', 'Grace Jones', 'Jerry Springer', 'Hilary Duff', 'Bo Lidegaard', 'Real Life', 'Steve Harvey', 'Sasha Pieterse', 'Anna Kenrick', 'Arielle Kebbel', 'Michael Smerconish', 'Red Band', 'Michael Stipe', 'Ickey Woods', 'Kung Fu', 'Sean Robinson', 'Costume Designer', 'Cicely Tyson', 'Sarah Jessica', 'Alicia Silverstone', 'Jack Doyle', 'Riot Games', 'Sally Hawkins', 'Pee Wee', 'Nae Nae', 'Dallas Cowboys', 'John Douglas', 'John Cena', 'Casey Jones', 'Santo Domingo', 'James Harden', 'Grace Gummer', 'Lena Dunham', 'Gene Steratore', 'Trent Reznor', 'Candice Birns', 'Larry Salz', 'Nancy Pelosi', 'Sean Parr', 'Kelly Clarkson', 'Jennifer Jones', 'Rohit Sharma', 'Princess Leah', 'Scott Wolf', 'Master Mason', 'Red Devils', 'David Johnston', 'Rufus Wainwright', 'George Senior', 'Jay Baruchel', 'Ruth Wilson', 'Orlando Sentinel', 'Bray Wyatt', 'Joan Rivers', 'Max Julien', 'Mel Gibson', 'Joe Pesci', 'Chris Hart', 'Katy Perry', 'Paris France', 'Eddie Murphy', 'John Harbaugh', 'Ted Danson', 'Jamie Lee', 'Buzz Aldrin', 'Roland Wilson', 'Dave Davies', 'Martha Ross', 'Alvin Crawford', 'David Cohen', 'Adam Driver', 'Mike Judge', 'John Cleese', 'Loretta Lynn', 'Kate Bosworth', 'Rob Brydon', 'American Pie', 'Skyler Shaye', 'Yvonne Wong', 'Wonder Ava', 'Izak Rappaport', 'Elijah Wood', 'Dieter Rams', 'Ad Lib', 'Frank Miller', 'Robert Loggia', 'Troy Thompson', 'Minnie Mouse', 'Julio Iglesias', 'Lopez Jennifer', 'Anna Nicole', 'New Generation', 'James Spade', 'Kate Moss', 'Bob Ross', 'Sister Act', 'Forest Gump', 'Taylor Kinney', 'Red Bull', 'Sandra Oh', 'Dan Chiasson', 'Randy Ward', 'Christina Milian', 'Mike Amor', 'Jerry Brown', 'Cris Carter', 'Big Bird', 'Vinnie Jones', 'Kathryn Bigelow', 'Matt King', 'Sasha Grey', 'Russell Crowe', 'Chanel Couture', 'James Marsh', 'Jane Wagner', 'Big Tuna', 'Vincent Chase', 'Dapper Dan', 'Hope Jeffrey', 'Chris Hayes', 'Patrick Dempsey', 'El Dorado', 'Save Ferris', 'City Center', 'Gerry Sandusky', 'Jen Selter', 'Chris Pine', 'Kyle Orton', 'Amelia Warner', 'Claire Denis', 'Alyssa Milano', 'Kevin Durant', 'Colin Farr', 'Vanilla Ice', 'Carrie Fisher', 'Liz Phair', 'Margaret Qualley', 'Fat Man', 'Jo Mercer', 'Red Wedding', 'Atlanta Hawks', 'Taryn Manning', 'Bryan Alexander', 'Lee Curtis', 'Michael Mann', 'Rosanna Arquette', 'Cristiano Ronaldo', 'Dom West', 'Justin Lin', 'Dean Deblois', 'John Kruk', 'Yo Yo', 'Bruce Dern', 'Les Grossman', 'Bruce Banner', 'Harvey Danger', 'Matt Donnelly', 'Dia Mirza', 'Jana Cruder', 'Lauren Graham', 'Patrick Kevin', 'Logan Lerman', 'Dave Mc', 'Mercedes Carrera', 'Roman Coppola', 'Sweet Dreams', 'Stevie Knicks', 'Frazer Harrison', 'Julie Ann', 'George George', 'Brian Hayward', 'Jack Nicholson', 'Kevin Connolly', 'Esai Morales', 'Kim Dong', 'Orson Wells', 'Sutton Foster', 'Yisus Craist', 'Glee Cast', 'Elizabeth Smart', 'Stockard Channing', 'Sarah Field', 'Le Matin', 'Arctic Monkeys', 'John Johnson', 'Black Star', 'Jason Lane', 'Jay Kay', 'Sarah Palin', 'Cat Deeley', 'Wendy Darling', 'Veronica Thomas', 'Lou Bloom', 'Jenna Jacobs', 'Lady Mary', 'Jeffrey Reiner', 'John Travolta', 'Amy Landecker', 'Jeb Bush', 'Julie Delpy', 'Ellar Coltrane', 'Brigitte Bardot', 'Amy Pollard', 'Mickey Douglas', 'Jonas Armstrong', 'Mai Quynh', 'Kim Kardashian', 'Kate Barlow', 'Mark Pedowitz', 'Ched Evans', 'Huey Lewis', 'Jim Taylor', 'Tim Robey', 'Young Money', 'Alicia Fox', 'Dress Code', 'Billy Bong', 'Kate Stanton', 'Seth Meyers', 'Miles Davis', 'Nigella Lawson', 'Justin Long', 'True Love', 'Kevork Djansezian', 'Just Wow', 'Katherine Bates', 'Mohamed Karim', 'Darling Nikki', 'Kit Harington', 'Sarah Paulson', 'Snow White', 'Ethan Hawk', 'Alaska Thunderfuck', 'Christopher Miller', 'Lizzy Caplan', 'Shane Vieau', 'Emile Hirsch', 'Michael Longoria', 'Miley Cyrus', 'Camila Alves', 'Jillian Flynn', 'Diane Keaton', 'Pussy Riot', 'John Vogt', 'Julia Chapman', 'Latrice Royale', 'Bob Mould', 'Native Boy', 'Lord Bolton', 'Red Hot', 'Bradley Whitford', 'Kyrie Irving', 'Stephanie Roche', 'Amanda Lear', 'Big Eyes', 'Barry Adelman', 'Vince Gilligan', 'Young Hollywood', 'Ross Patterson', 'Black Barbie', 'Access Hollywood', 'Gene Kelly', 'Kathryn Teaney', 'Aunt Bonnie', 'Tammy Drew', 'Anna Karenina', 'Roland Barthes', 'Bianca Jagger', 'Lisa Bonet', 'Uncle Fester', 'Zayed Khan', 'David Geffen', 'Keri Russell', 'Robert Kirkman', 'Miles Munro', 'Poison Ivy', 'Mad Scientist', 'Michael Shannon', 'Ashley Streicher', 'Amy Cosby', 'Rae Sremmurd', 'Free People', 'Emma Roberts', 'Kyle Clark', 'Kate Ma', 'Doug Ross', 'Jenny An', 'Spencer Hart', 'Briony Smith', 'Eric White', 'Robby Krieger', 'Luis Fernando', 'Faye Miller', 'Regina Hall', 'Lola Lopez', 'Jaymie Matthews', 'Kathy Lee', 'Master Bates', 'Bart Freundlich', 'Katharine Ross', 'Front Row', 'Darnell Hillman', 'Roy Keane', 'Harvey Weinstein', 'Harry Styles', 'Sunny Leone', 'Neil Gaiman', 'Paris Hilton', 'Phil Donohue', 'Dan Stevens', 'Ashton Kutcher', 'Rosalind Russell', 'Sarah Halley', 'Robert Red', 'Leanne Marshall', 'Judith Light', 'Antonio Brown', 'Christopher Walken', 'Josh Sapan', 'Wilford Brimley', 'Carlos Boozer', 'Curt Schilling', 'Emma Blunt', 'Margaret Thatcher', 'White Hot', 'Janet Davis', 'Anna Live', 'Baby Boy', 'Kiernan Shipka', 'Sugar Shack', 'Grant Ellis', 'Junior Prom', 'Trend Setter', 'Lindsey Kupfer', 'Lost Highway', 'Kate Upton', 'Richard Linklater', 'Meghan Camarena', 'Amy Day', 'Ramin Setoodeh', 'Mickey Mouse', 'Peter Sarsgaard', 'Hot Springs', 'Kevin Lee', 'General Lee', 'John Hamm', 'Matt Smith', 'Jaime King', 'Old Lady', 'Eddie Redmayne', 'Sean Connery', 'Twin Peaks', 'Drew Carey', 'That Guy', 'Alan Clarke', 'Spice Girls', 'Dee Dee', 'By Mistake', 'Marcus Mariota', 'Howard Johnson', 'Armani Prive', 'Doctor Steve', 'Taylor Swift', 'Peter Dinklage', 'Carmilla Karnstein', 'Demi Moore', 'Sue Thomas', 'Joseph Mount', 'Sela Ward', 'Mary Louise', 'Already Won', 'Robert Bianco', 'Alan Moore', 'Maranda Widlund', 'John Mankiewicz', 'Rick Hoffman', 'Modern Warfare', 'Mile High', 'Aunt Mary', 'Lee Pace', 'Robert Rodriguez', 'Shooting Stars', 'Daniel Johnston', 'John Bishop', 'Billie Jean', 'Melissa Rivers', 'Prince Charles', 'Barbara Bush', 'Wayne Coyne', 'James Jameson', 'Jeff Daniels', 'Brian Mills', 'David Brent', 'Larry David', 'Al Sharpton', 'Boris Frumin', 'Thomas Middleditch', 'Dawn French', 'Rich White', 'John Wilkes', 'Tracy Jordan', 'Moulay Yacoubi', 'Gianna Michaels', 'Sarah Michelle', 'Clay Aiken', 'Christian Hammer', 'Larisa Oleynik', 'Mindy Cohn', 'Ellie Kemper', 'Fiona Apple', 'Courtney Love', 'Richard Ayoade', 'Blanche Dubois', 'Kevin Hart', 'Leos Carax', 'Cut Off', 'Amy Adam', 'Sarah Rafferty', 'Allison Jennings', 'David Tennant', 'Varg Vikernes', 'Sean Douglas', 'Badgley Mischka', 'Joe Swanberg', 'Sweet Dee', 'Barry Melrose', 'January Jones', 'Wesley Snipes', 'Marina Abramovic', 'Ray Nagin', 'Eva Green', 'John Voight', 'Gedde Watanabe', 'Jenji Kohan', 'Dane Cook', 'Ryan Randall', 'Miss Jennifer', 'Patti Smith', 'Elizabeth Mitchell', 'Tito Jackson', 'Channing Tatum', 'Shuji Nakamura', 'Marty Singer', 'Circus Circus', 'Dear Jack', 'Greg Gilman', 'Michael Kantor', 'Waffle House', 'Mac Mac', 'Lil Bit', 'Angela Landsbury', 'Hans Landa', 'Ami Adams', 'Jason Sudeikis', 'Cash Warren', 'Lindsay Lohan', 'Tim Hortons', 'Human Nature', 'Ichabod Crane', 'Jude Law', 'Annie Clark', 'Shahrukh Khan', 'Jasmine Nicole', 'Boy George', 'Liz Lange', 'Sean Cody', 'Lee Daniels', 'Rock Johnson', 'Corey Hart', 'Doug Savant', 'Rollie Fingers', 'Diane Kruger', 'Lauren Devine', 'Purple Reign', 'Amanda Seyfried', 'Calvin Harris', 'Aaron Miller', 'Shirley Bassey', 'Steven Gerrard', 'Joanne Crockett', 'Nina Simone', 'Conchita Wurst', 'Robert Shaw', 'Eric Holder', 'Karen Kramer', 'Shawn Mullins', 'David Duchovny', 'Mandy Patinkin', 'Jeff Tweedy', 'Mike Keaton', 'Guy Pearce', 'Ed Bradley', 'Sam Duke', 'World Champion', 'Welcome Back', 'Morgan Shaw', 'Counting Crows', 'Shailene Woodley', 'John Barrowman', 'Reggie Jackson', 'Mollie King', 'Jason Garrett', 'David Clarkson', 'Samantha Highfill', 'Richard Brody', 'Geyer Kosinski', 'Diana Nyad', 'Rick Steves', 'Air Force', 'New York', 'Paige Brown', 'Marie Antoinette', 'Alfred Enoch', 'Wanda Sykes', 'Steve Zahn', 'Jeffrey Katzenberg', 'Bill Pullman', 'Karen Barragan', 'Katey Sagal', 'Snoop Dogg', 'Gina Marie', 'Anthony Bove', 'Steve Jobs', 'Miss Amy', 'Charmaine Blake', 'Roger Federer', 'Christian Grey', 'Ferris Bueller', 'Ken Wahl', 'Anita Ekberg', 'Jessica Lange', 'Lynn Waters', 'Zoe Barnes', 'Jeffrey Talbot', 'Richard Gervais', 'Field Day', 'Paul Shaffer', 'Cathleen Sutherland', 'Saint Joseph', 'John Gemberling', 'Josh Duhamel', 'Brenna Smith', 'Aziz Ansari', 'Robert Wagner', 'David Meister', 'Cindy Crawford', 'Michael Tammero', 'Peter Frampton', 'Avril Lavigne', 'Jonathan Vankin', 'Drag Queen', 'Mark Schultz', 'Chris Colfer', 'Patricia Neal', 'Next Generation', 'Mitt Romney', 'Faith Prince', 'Steve Hawkins', 'Emma Frost', 'Jessica Lan', 'John Hughes', 'Julie Phillips', 'Laura Carmichael', 'Chris Pratt', 'Arcade Fire', 'Penelope Wilton', 'Katherine Waterston', 'Zachary Stoner', 'Castle Rock', 'Donald Brooks', 'Russell Brand', 'David Drumm', 'Angela Merkel', 'Jimmy Stewart', 'Shahid Kapoor', 'Temple Grandin', 'Margaret Mitchell', 'Ted Levine', 'Livia Firth', 'Dustin Lynch', 'Charlie Hunnam', 'Dann Florek', 'Joe Neumaier', 'James Franco', 'Jamie Brewer', 'Welcome Home', 'Kenny Powers', 'Rachel Welch', 'Charlotte Russe', 'Brenda Leigh', 'Viola Davis', 'Carrie Coon', 'Dj Los', 'Oliver Mac', 'Cy Young', 'Lana Parrilla', 'Sweet California', 'Space Cowboy', 'Stephen Amell', 'Marty Krofft', 'Dream Factory', 'Maggie Gyllenhaal', 'Danny Reynolds', 'Zayn Malik', 'Bill Crosby', 'Phil Simms', 'Ruffa Gutierrez', 'Frank Underwood', 'Annie Wilkes', 'Nancy Meyers', 'Jackky Bhagnani', 'Christina Ricci', 'Kevin Hall', 'Richard Castle', 'Molly Sims', 'Gary Kubiak', 'James Gandolfini', 'Michael Kenton', 'Oliver Twist', 'Emmanuel Lubezki', 'Death Grips', 'Jack Russell', 'Tracey Morgan', 'Marcia Gay', 'Stacy Keibler', 'Valerie June', 'Brian Clemens', 'Talia Balsam', 'Leading Ladies', 'Karl Rove', 'Air Conditioner', 'Honorable Mention', 'Matt Bones', 'Mary Tyler', 'Odin Lloyd', 'Skylan Brooks', 'Jamie Dixon', 'Roger Sterling', 'Bill Bon', 'Kurt Angle', 'Danny Elfman', 'Red Rooster', 'Keira Knightley', 'Nick Clegg', 'Damien Chazelle', 'Johnny Manziel', 'Bo Derek', 'Marc Platt', 'Buffer Festival', 'Greer Grammer', 'Rob Silverstein', 'Keri Hilson', 'Doc Holiday', 'Dick Wagner', 'Vince Vaughn', 'David Blatt', 'Joey Barton', 'Ethan Hawkes', 'Savannah Guthrie', 'Richard Karn', 'King Midas', 'Jennifer Saunders', 'Ken Doll', 'Penny Dreadful', 'Stana Katic', 'Kate Young', 'Katie Rodgers', 'John Stewart', 'Ryan Seacrest', 'Johnny Lee', 'Carmelo Anthony', 'World Dog', 'Weekend Warrior', 'Nick Miller', 'Bridget Foley', 'Oh Well', 'Robin Hood', 'Doc Strange', 'Ryan Phillippe', 'Cheap Seats', 'Bree Sharp', 'Lamorne Morris', 'Don Pablo', 'Rich Ferguson', 'Bruce Springsteen', 'Gareth Pugh', 'Bucky Gunts', 'Nurse Jackie', 'Joaquin Phoenix', 'Mannie Fresh', 'Sienna Miller', 'James Spader', 'Finn Wittrock', 'Casper Smart', 'Mimi Brown', 'Adam Block', 'Michael Pena', 'Darren Clarke', 'Carrie Washington', 'Louise Parker', 'Dennis Quaid', 'Lee Min', 'Michael Barker', 'Molly Brown', 'His Majesty', 'Richard Kind', 'Sebastian Stan', 'Royal Pains', 'Sly Stone', 'White Out', 'Sean Federline', 'Kevin Dillon', 'Mark Hamill', 'Monday Blues', 'Jon Joseph', 'Paul Rudish', 'Kelly Brook', 'Mary Kate', 'Samuel Jackson', 'Rob Schneider', 'Billy Stanton', 'Rick Ross', 'Sean Locke', 'Hayden Panettiere', 'Guilty Pleasure', 'Lucy Hale', 'Charlie Webster', 'Lauren Potter', 'Drew Barrymore', 'James Righton', 'Don Lemon', 'Kelly Washington', 'Nick Jackson', 'Liam Neeson', 'David Mamet', 'Diego Costa', 'Spike Jonze', 'Jon Hamm', 'Karl Lagerfield', 'Mary Ann', 'Atticus Finch', 'Brett Butler', 'Scott Collins', 'Christopher Bailey', 'Don Johnson', 'Gina Ramirez', 'Iron Fist', 'Bow Bow', 'Mellow Yellow', 'Maggie Simpson', 'Michelle Monaghan', 'Swoosie Kurtz', 'Dorothy Parker', 'Suri Cruise', 'Emily Sharp', 'Ted Sarandos', 'Doug Ellin', 'Anthony Skordi', 'Johnny Taylor', 'Jessica Lang', 'Jessica Paster', 'Cody Allen', 'In House', 'Red Lips', 'Hunter Pence', 'Michael Bay', 'Philip Treacy', 'Anne Bates', 'Bill Damaschke', 'Jenny Lo', 'Roland Martin', 'Ray Rice', 'Barack Obama', 'Michael Meaton', 'Tilda Swinton', 'Marlon Brando', 'Wes Craven', 'Genesis Rodriguez', 'Rui En', 'Ozzy Osbourne', 'Sarah Treem', 'John Anthony', 'Neil Dudgeon', 'Pop Culture', 'Rolling Stone', 'Johan Johansson', 'Jon Lewis', 'Adam West', 'Richard Attenborough', 'Lauren Sivan', 'Hannah Brown', 'Jean Smart', 'Sabrina Hughes', 'Jack Tripper', 'Taylor Kitsch', 'Michael Parks', 'Kathleen Turner', 'Nick Cage', 'Bill Nye', 'Jeanne Moreau', 'Private Ryan', 'Bill Paxton', 'Joan Scheckel', 'Billy Magnussen', 'George Thorogood', 'Simon Baker', 'Amanda Holden', 'Mike Yeo', 'Elsa Pataky', 'Matt Stone', 'Brian Anthony', 'Don Garber', 'Karen Gillan', 'Sarah Fisher', 'Blake Griffin', 'Nucky Thompson', 'Cillian Murphy', 'Sepp Blatter', 'Keri Washington', 'Conrad Black', 'Joey Coco', 'Lorne Michaels', 'Christian Siriano', 'Bonnie Raitt', 'Love Hurts', 'Nigel Slater', 'Johnny Thunder', 'Angela Case', 'Shallow Hal', 'Taron Egerton', 'Matt Firestone', 'Jennifer Coffey', 'Olivia Munn', 'Mia Khalifa', 'Hank Azaria', 'Amy Love', 'Auntie Mame', 'Hunter Hayes', 'Miss Emma', 'Emmanuel Lewis', 'Phil Johnson', 'Jenny Packham', 'Antonio Sanchez', 'Jessica Chastain', 'Milli Vanilli', 'Michael Owen', 'Chad Lowe', 'Liz Pugh', 'Lauren Lapkus', 'Barbara Walters', 'Nat Wolff', 'Bam Bam', 'Michael Cera', 'Dolly Grip', 'Ashley Tisdale', 'Mike Blake', 'Mickey Rooney', 'Edie Falco', 'Tara West', 'De Niro', 'Wonder Woman', 'Alexa Chung', 'Billy Elliot', 'Steve John', 'Stephen Collins', 'Stephen Fry', 'Warby Parker', 'Wilson Fisk', 'Rob Grant', 'Coach Carter', 'Molly Cooper', 'Big Tasty', 'Ernie Hudson', 'Fright Rags', 'Jo Champa', 'Harry Ford', 'Nick Mundy', 'Follow Me', 'Picture Motion', 'Glenn Morshower', 'Vincent Price', 'Laeta Kalogridis', 'White Boy', 'Man Alive', 'Prince Harry', 'Frank Grillo', 'Dion Phaneuf', 'Martin Luther', 'Leslie Stefanson', 'Tina Chai', 'John Surtees', 'Silver Screen', 'Jackie Kennedy', 'Rebecca Lowe', 'Alexandra Billings', 'Hugh Bonneville', 'Hugh Laurie', 'Christian Louboutin', 'Bryan Green', 'Rhys Ernst', 'Octavia Spencer', 'Kevin Jonas', 'Forever Young', 'Manny Pacquiao', 'Buck Wild', 'Charles Dance', 'James Maslow', 'Rooney Mara', 'Joan Walsh', 'Mohegan Sun', 'Truly Scrumptious', 'Samantha Guthrie', 'Quentin Tarantino', 'Enrique Iglesias', 'Brian Dunkleman', 'Catherine Keener', 'Nick Barose', 'Kate Middleton', 'Anthony Bourdain', 'Claudia Jordan', 'Dakota Grey', 'Kristin Stewart', 'Jim Irsay', 'Lady Di', 'Leslie Fremar', 'Seona Dancing', 'Jethro Nededog', 'Errol Morris', 'Bryan Moore', 'Vincent Lecavalier', 'Zosia Mamet', 'Conde Nast', 'Pope Francis', 'Clive Standen', 'Lorelei Linklater', 'Johnny Wallis', 'Jen Lopez', 'En Vogue', 'Lone Star', 'Jules Asner', 'Kurt Sutter', 'Carol Channing', 'Gillian Flynn', 'Alfred Molina', 'Lucy Liu', 'Leah Wellbaum', 'British Invasion', 'Bruce Jenner', 'Chevy Chase', 'Big Four', 'Clint Barton', 'Paris Jackson', 'Barney Miller', 'Jay Park', 'Ed Westwick', 'Ding Ding', 'Charlie Callas', 'Angelina Jolie', 'Jaime Camil', 'Stephanie Young', 'Suzanne Shawbonquit', 'Nine Nine', 'James Dolan', 'Alan Frio', 'Dennis Haysbert', 'Apple Martin', 'Blaise Pascal', 'Robert Downey', 'Patrick Ewing', 'Time Zone', 'Ruby Tuesday', 'Ronda Rousey', 'Joey Graceffa', 'Tara Reid', 'Ron Swanson', 'Jordan Hoffman', 'Cecil Shorts', 'Nicholas Hoult', 'Laurence Olivier', 'Nancy Carell', 'Jennifer Hudson', 'Kevin Keegan', 'Jordan Strauss', 'Morris Day', 'John Singer', 'Marion Cotillard', 'Custom Made', 'Louie Louie', 'Pumpkin Pie', 'Phil Lord', 'Adam Levine', 'Charlie Conway', 'Emilia Clarke', 'Alysha Brilla', 'Kevin Ollie', 'Lorenzo Cain', 'Amber Doll', 'Don Nelson', 'Jasmine Guy', 'Calista Flockhart', 'Nancy Sinatra', 'Emanuel Ungaro', 'Microsoft Sam', 'Francis Libiran', 'Victoria Smurfit', 'Paul Smith', 'Jack White', 'Matt Boner', 'Hot Stuff', 'Matt Dillon', 'Dean Walker', 'Sandra Pinter', 'Magic Mike', 'Emily Blunt', 'Dana Carvey', 'Debbie Allen', 'Tyne Daly', 'Circle Jerks', 'Little Women', 'Rahul Gandhi', 'Laura Curtin', 'Luke Wilson', 'Lady Gaga', 'Perfect Red', 'Mark Steyn', 'Johnny Carson', 'Billie Piper', 'Afeni Shakur', 'Prince Charming', 'Dave Chappelle', 'Ken Sunshine', 'Joe Zee', 'Dangerous Curves', 'Sammy Davis', 'Prince George', 'Jason Grilli', 'Alan Arkin', 'Lyndon Johnson', 'Steven Seagal', 'Hot Chocolate', 'Larry King', 'Michelle Dockery', 'Emma Jacobs', 'Susan Boyle', 'Alison Wilson', 'Anthony Quinn', 'Crazy Alice', 'Faye Dunaway', 'Zackary Drucker', 'John Voit', 'Warren Littlefield', 'Star Greer', 'Cate Blanchett', 'Melissa Kane', 'Steve Buscemi', 'Melanie Griffith', 'New Jersey', 'Lav Diaz', 'Frank Drebin', 'George Bush', 'Crystal Gayle', 'Rocky Dennis', 'Rachel Foulger', 'Neil Patrick', 'Susan Sarandon', 'Steven Hawking', 'Nick Verreos', 'Sasha Alexander', 'British Woman', 'Chris Bradley', 'Claire Underwood', 'Lenny Kravitz', 'Rocket Man', 'Anson Mount', 'Frances Underwood', 'John Kennedy', 'Natural Red', 'Chris Dodd', 'Kurt Russell', 'Paul Simon', 'Zach Galifianakis', 'Jennifer Lopez', 'Matt Groening', 'Robert Stone', 'Samantha Stark', 'Gene Sperling', 'Donatella Versace', 'Taylor Hackford', 'Rob Reiner', 'Richard Gustason', 'Gary Coleman', 'Jake Siciliano', 'Bootsy Collins', 'Ethan Hawke', 'Tina Frey', 'Anne Hathaway', 'Angela Levin', 'Amy Margaret', 'Bun Bun', 'June Carter', 'Jimmy Darling', 'Robbie Robertson', 'Jane Fonda', 'Lilliana Vazquez', 'Mike Rush', 'Dusty Rose', 'Chesley Sullenberger', 'Jason Alexander', 'Roger Ebert', 'Monte Carlo', 'Naya Rivera', 'Wednesday Addams', 'Meg Ryan', 'Ozzie Smith', 'Jesse Eisenberg', 'Agata Kulesza', 'Julie Chen', 'Nicolas Cage', 'Super Bowl', 'Raif Badawi', 'Brian Cranston', 'Julianna Moore', 'Alexandra Daddario', 'Mara Roszak', 'Julie Roberts', 'Pin Pin', 'Ian Richardson', 'Harvey Dent', 'Steve Carroll', 'Big Deal', 'David Muir', 'Naomi Watts', 'Vince Lombardi', 'Phil Spector', 'Jeremy Jackson', 'Nancy Schultz', 'Jamie Dorn', 'Kristina Shannon', 'Bad News', 'Kris Kringle', 'Chelsea Peretti', 'Michelle Bachmann', 'Angel Sanchez', 'Georgie Boy', 'Jesse Jackson', 'Band Aid', 'Julia Lou', 'Nate Archibald', 'Julie Chung', 'Jonathan Emile', 'Brent Bozell', 'Jenna Kirkeeng', 'Jed York', 'San Diego', 'Joel Coen', 'Simon Cowell', 'Jason Merritt', 'Bird Man', 'Angela Davis', 'Danielle Brooks', 'Georges Chakra', 'Al Haymon', 'Pat Saperstein', 'Patricia Cox', 'Matt Czuchry', 'Bill Burr', 'Kate Rodger', 'Kelly Wilcox', 'Davy Crockett', 'Nikki Reed', 'Dan Mullen', 'Kevin Bacon', 'Eric Stonestreet', 'Darin Erstad', 'James Garfield', 'Donna Martin', 'Stay Puft', 'Elizabeth Turner', 'Steve Rudin', 'Satya Bhabha', 'Taxi Driver', 'Louie Lou', 'Joey Potter', 'David Duke', 'Muppet Babies', 'Kris Jenner', 'Jessica Szohr', 'Bobby Bill', 'Jesse Jane', 'Richard Tyler', 'Bappi Lahiri', 'Alexander Nevermind', 'Richard Madden', 'Duct Tape', 'Al Roker', 'Colin Farrell', 'Ted Turner', 'Christie Brinkley', 'Bart Simpson', 'Phil Collins', 'Marc Anthony', 'Howdy Doody', 'Nick Graham', 'New Yorker', 'Bark Ruffalo', 'Music Factory', 'Ian Mohr', 'Rick Rubin', 'John Slattery', 'Jerry Jones', 'Big Fish', 'Nacho Libre', 'Karl Lagerfeld', 'Gary Grant', 'Stonewall Jackson', 'Jason Mantzoukas', 'Ed Wood', 'Chai Latte', 'Queen Elizabeth', 'Ann Coulter', 'Alison Pill', 'Kevin Kline', 'Richard Roeper', 'Lara Stone', 'Harry Potter', 'Jenny Rodriguez', 'Charissa Thompson', 'Natasha Negovanlis', 'Mayim Bialik', 'Adrien Brody', 'David Stern', 'America Ferrera', 'Vince Ferragamo', 'Cross Country', 'Lisa Faith', 'Donna Karan', 'Raquel Welch', 'Julie Louis', 'Brad Paisley', 'Mark Duplass', 'Juliette Moore', 'Jeff Burnett', 'Rande Gerber', 'Tatiana Maslany', 'Brendan Jordan', 'Marshawn Lynch', 'Jason Hughes', 'Mu Mu', 'Kevin Stacey', 'Angie Harmon', 'Brett Favre', 'Menina Fortunato', 'Man Han', 'Nathan Francis', 'King Arthur', 'John Dominis', 'Casey Affleck', 'Lone Ranger', 'Patricia Arquette', 'Grateful Dead', 'Zsa Zsa', 'Ralph Lauren', 'Jorge Gutierrez', 'Sierra Miller', 'Matt Bauer', 'Cowardly Lion', 'Meghan Trainor', 'Ellie Kemp', 'Stephen Hirsh', 'Sacheen Littlefeather', 'Third Kind', 'Lynn Whitfield', 'Colin Darcy', 'Mama Mia', 'Du Pont', 'Harley Quinn', 'James Cordon', 'Christopher Thomas', 'Laurence Harvey', 'Grace Kelly', 'Kelly Preston', 'Chris Rock', 'Robbie Nevil', 'Jack Daniels', 'Kofi Annan', 'Shawn Robinson', 'Brandi Glanville', 'Ice Cube', 'Carol Dysinger', 'James Riley', 'Mara Buxbaum', 'Syd Field', 'Tim Conway', 'Jonah Ray', 'Yael Grobglas', 'Vin Diesel', 'Angela Chase', 'Media Maven', 'Joe Jonas', 'Rab Wilson', 'Debra Messing', 'Chris Evans', 'Sarah Larson', 'Denzel Washington', 'Morten Tyldum', 'Cherry Hill', 'Jhizet Panosian', 'Sam Houston', 'Cheryl Strayed', 'Macy Gray', 'Jason Priestley', 'Nancy Reagan', 'Scott Fujita', 'Tila Tequila', 'Ivan Drago', 'Nick Swardson', 'Christine Lahti', 'Joshua Jackson', 'Ed Davis', 'Jackie Harris', 'Dabney Coleman', 'Barbara Gasser', 'Chaz Bono', 'Burt Reynolds', 'Janet Mock', 'George Forman', 'Grace Randolph', 'Leelah Alcorn', 'Alexis Arquette', 'Melissa Watkins', 'Felicia Leatherwood', 'Maya Rudolph', 'Amma Asante', 'King George', 'Judith Leiber', 'Keith Johnson', 'Timothy Sykes', 'Anjelica Huston', 'Just Me', 'Gay Hollywood', 'Pepper Potts', 'Elisabeth Shue', 'Morgan Hill', 'Elizabeth Banks', 'Ryan Murphy', 'Stephen Merchant', 'Mel Brooks', 'Kate Hudson', 'Johan Johannson', 'Bob Greenblatt', 'Rick Sutcliffe', 'Scott Eastwood', 'Summer Rain', 'Haile Gerima', 'Jeff Vespa', 'Bob Barker', 'Jerry Seinfeld', 'Randall Cobb', 'Julia Luis', 'Bill Rancic', 'Pedro Pascal', 'Mad Max', 'Leonard Cohen', 'Princess Diana', 'Katie Holmes', 'Anna Farris', 'Louis Roe', 'Demi Lovato', 'Kix Brooks', 'Johnny Wallace', 'Royal Blood', 'Janet Lee', 'Standing Ovation', 'El Paso', 'Christine Baranski', 'Nic Pizzolatto', 'Luke Banter', 'Little Rock', 'Sesame Street', 'Brad Pitts', 'Leslie Moonves', 'Anjem Choudary', 'Dark Brown', 'Dana Brunetti', 'Four Brothers', 'Arjen Robben', 'Philip Seymour', 'Amanda Bynes', 'Cameron Diaz', 'Scott Van', 'Peggy Sue', 'Margot Robbie', 'Sarah Vowell', 'Zanna Rassi', 'Maria Montez', 'Steven Spielberg', 'Crystal Kay', 'Chloe Cox', 'Rob Lowe', 'Point Blank', 'Working Out', 'Gavin Newsom', 'Derek Jeter', 'Huevos Rancheros', 'Karen Angel', 'Neil Armstrong', 'Cris Collinsworth', 'Jim Ross', 'Mother Hubbard', 'Pooja Batra', 'Bright Eyes', 'Jane Austen', 'Aidy Bryant', 'Liz Lemon', 'Cody Johns', 'Priscilla Presley', 'Christina Applegate', 'Mariella Frostrup', 'Mark Burnett', 'Archie Manning', 'Kevin Pacey', 'Diane Lane', 'Craig Robinson', 'Carlos Chacin', 'Warwick Davis', 'Nathan Fillion', 'Brandon Flowers', 'Ang Lee', 'Killer Joe', 'Steven Tyler', 'Tina Cosby', 'Scott Rudin', 'Mindy Grossman', 'Antonio Banderas', 'Gary Oldman', 'Bart Conner', 'Mahmoud Abbas', 'Bon Iver', 'Alfred Hitchcock', 'Wayde Byard', 'Marti Eulberg', 'Eric Smiley', 'Dirk Diggler', 'Ryan Lattanzio', 'Katie Bagley', 'Farah Khan', 'Jeremy Burgess', 'First Lady', 'Peter Coyote', 'Lou Costello', 'For You', 'Crispin Glover', 'Mark Olsen', 'Carpe Diem', 'Little Richard', 'Les Miserables', 'Ruth Bader', 'Terence Crawford', 'Spike Lee', 'Natalie Imbruglia', 'Ralph Crane', 'Paul Thomas', 'Dean Blandino', 'Hans Gruber', 'Animal Planet', 'Daniela Kurrle', 'Sam Cassell', 'Janet Jackson', 'Boston Celtics', 'Steve Carell', 'James Marsden', 'Brad Hall', 'Darren Franich', 'Peyton Manning', 'Alan Sepinwall', 'Roberto Cavalli', 'Phyllis Diller', 'Trey Parker', 'Keith Evans', 'Kylie Jenner', 'David Oh', 'Jon Snow', 'Santa Claus', 'Irving Azoff', 'Jane Just', 'Peanut Butter', 'Scott Caan', 'Armando Bo', 'John Rivers', 'American Idol', 'Derek Hough', 'Charlie Brown', 'Ted Gibson', 'Elle Fanning', 'Donna Douglas', 'Jane Eyre', 'Bill Nighy', 'Mark Sparrow', 'Panda Express', 'Eugenio Derbez', 'Jake Roberts', 'Kent State', 'Zack Snyder', 'Lee Marvin', 'Clayton Davis', 'Queen Victoria', 'Melanie Inglessis', 'Rebecca Mader', 'Bon Jovi', 'Robyn Wright', 'Jim Lahey', 'Jon Kilmer', 'Marco Fu', 'United Kingdom', 'Joe Budden', 'Ellen Pompeo', 'Youth Group', 'Tina Turner', 'Chris Farley', 'Randy Savage', 'Natalie Dormer', 'Jennifer Aniston', 'Assata Shakur', 'Robert Gibbs', 'Christoph Walz', 'John Galliano', 'John Cameron', 'Lionel Messi', 'Dana Perri', 'Barbara Palvin', 'Mindy Cohen', 'Even Kelly', 'Moo Moo', 'Right Time', 'Nicki Minaj', 'Alan Alda', 'Big Sean', 'Lady Catherine', 'All Cast', 'Shirley Temple', 'Carrie Bradshaw', 'Juicy Fruit', 'Ken Burns', 'Memphis Grizzlies', 'Patrick Lussier', 'Cheryl Cole', 'Maurice Micklewhite', 'Edna Mode', 'Paul Drinkwater', 'Gina Rodriguez', 'Kim Fields', 'Sidney Poitier', 'Nate Robinson', 'Richard Glatzer', 'Bubba Ray', 'Glenn Greenwald', 'Karl Urban', 'Big Dog', 'Frank Caliendo', 'Seth Gilliam', 'Katie Perry', 'Rip Taylor', 'Peter Russo', 'Lea Michele', 'Decatur Redd', 'Kareena Kapoor', 'Robert Altman', 'Pepto Bismol', 'Gene Simmons', 'Adam Scott', 'Billy Connolly', 'Roman Polanski', 'John Mulaney', 'Zac Efron', 'Mark Kozelek', 'Jack Grey', 'Randy Orton', 'Wendy Davis', 'Sunrise Coigney', 'Eddie Mekka', 'Viggo Mortensen', 'Linkin Park', 'Laurence Fishburne', 'Joan Clarke', 'Captain Marvel', 'Natalie Wood', 'Cynthia Littleton', 'Nathalia Ramos', 'Lisa Kudrow', 'Vera Wang', 'Under Armour', 'Oh Brother', 'Stefan Zweig', 'Final Draft', 'Kristen Parker', 'Second City', 'Damian Lillard', 'Dixie Chicks', 'Christopher Meloni', 'Austin Power', 'Jeff Dunham', 'Izzy Stevens', 'Renee Fleming', 'Jeremy Scott', 'Christina Aguilera', 'Lisa Niemi', 'Katie Price', 'Jennie Kim', 'Natalia Milano', 'Rex Reed', 'Taylor Negron', 'Roller Girl', 'Matt Munoz', 'Kat Dennings', 'Billy Blanks', 'Carmen Marc', 'Simon Pegg', 'Hatsune Miku', 'Jimmy Choo', 'Quinn Smith', 'Anita Morris', 'Jackie Chan', 'Stanley Kramer', 'Johnny Legend', 'Bridget Jones', 'Judd Apatow', 'David Lee', 'Eye Candy', 'Fat Louie', 'Billy Thornton', 'Black Jack', 'Kevin Harr', 'Kit Harrington', 'Ashleigh Banfield', 'Amy Watts', 'Geraldo Rivera', 'Sam Meyers', 'David Oyelowo', 'Lovers Lane', 'Bobbie Gentry', 'Kristin Booth', 'Tammie Taylor', 'Lara Flynn', 'Eoin Macken', 'Ding Dong', 'Thomas Jane', 'Can Reese', 'Amanda Donohoe', 'Rebel Wilson', 'Robert Downing', 'Donna Karen', 'Garry Shandling', 'Alan Rickman', 'Joyce Leslie', 'Sally Fields', 'Saba Hamedy', 'Linda Claire', 'Rob Parker', 'David Attenborough', 'Kevin James', 'Al Walser', 'Holly Hobbie', 'David Oye', 'Evander Kane', 'Malik Yoba', 'Marky Mark', 'James Lapine', 'Peter Pan', 'Gary Busey', 'Gian Luca', 'Rose Leslie', 'Gail King', 'Fran Lebowitz', 'Rachel Maddow', 'Cloud Nine', 'Selina Meyer', 'John Hawkes', 'Hannah Redmayne', 'Karen Butler', 'Saint Laurent', 'Holly Hunter', 'Rory Carroll', 'June Bug', 'David Wain', 'Stephen Foss', 'Mickey Donovan', 'Houston Chronicle', 'Dave Franco', 'Washington Wizards', 'Robin Lord', 'Nick Kroll', 'Dan America', 'Rita Wilson', 'Miranda Lambert', 'Joanne Froggatt', 'Captain John', 'Party City', 'Colin Firth', 'Doe Eyes', 'Blue Ruin', 'David Spade', 'Rupert Murdoch', 'Michael Caine', 'Jordan Hill', 'Lupe Fiasco', 'Woody Allen', 'Miss Margaret', 'Christina Davis', 'Cole Porter', 'Bonnie Tyler', 'Mickey Hart', 'Urban Outfitters', 'Paul Wesley', 'Pawel Pawlikowski', 'Red Pepper', 'Gaby Hoffmann', 'Annie Walker', 'Tiger Woods', 'Sabrina Carpenter', 'Francesco Rinaldi', 'Dan Evans', 'Rhett Butler', 'Gunilla Persson', 'Paul Walker', 'Dougray Scott', 'May Day', 'Taylor Caniff', 'Matthew Macfadyen', 'Harold Matzner', 'Matthew Broderick', 'Paula Deen', 'Eugene Levy', 'Vanna White', 'Valerie Adams', 'Melrose Place', 'Kevin Hurt', 'Luke Bryan', 'Alessandra Ambrosio', 'Jason Mott', 'Philip Glass', 'Shane Paish', 'John Candy', 'Molly Walker', 'Matt Ryan', 'Day Lewis', 'Kerry Washington', 'Justin Schultz', 'Jean Harlow', 'Laurie Graham', 'Dave Grohl', 'Little Caesar', 'Jodi Foster', 'Justin Bieber', 'Genzebe Dibaba', 'Emilie Livingston', 'Mila Kunis', 'Allison Janney', 'Karen Walker', 'Chaka Khan', 'Santa Barbara', 'Robert Evans', 'Hong Kong', 'George Boyd', 'Monday Morning', 'Peter Jackson', 'Jena Malone', 'Kelly Osbourne', 'Ya Ya', 'Nick Offerman', 'Russell Simon', 'Film Independent', 'Jiminy Cricket', 'Julie Bowen', 'Dolly Parton', 'Khleo Thomas', 'Aasif Mandvi', 'Chelsea Handler', 'Clark Kent', 'New Black', 'Maxine Peake', 'Kaitlyn Dever', 'Jack Gray', 'Carolyn Mayling', 'Red Flag', 'Jenny Boylan', 'Vanessa Redgrave', 'Terrence Malick', 'Lou Horvitz', 'Frank Gallagher', 'Chow Young', 'Nadine Leopold', 'Five Years', 'Gene Wilder', 'Marty Mcfly', 'Jinah Kim', 'Jason Binn', 'Atticus Ross', 'Patrick Fugit', 'Justin Trudeau', 'Rick James', 'Jared Christ', 'Donna Pennestri', 'New World', 'Levi Strauss', 'Next Door', 'San Francisco', 'Jake Johannsen', 'Josh Dallas', 'John Legend', 'Kay Francis', 'Leslie Mann', 'Charlie Parker', 'Sir John', 'Joe Fresh', 'Nicky Whelan', 'Matt Lewis', 'Greg Brady', 'Billy Eichner', 'George Shakra', 'Arrested Development', 'Jonah Hill', 'Marlene Dietrich', 'James Foley', 'Camille Grammer', 'Gus Johnson', 'Lily Rabe', 'Black Velvet', 'Charlie Murphy', 'Elizabeth Strout', 'George Burns', 'Glenn Close', 'Sue Kroll', 'Robert Redford', 'Hilary Swank', 'Danny Ocean', 'Mathew Perry', 'Steve Carrel', 'Val Kilmer', 'Puerto Rico', 'National Lampoon', 'John Kerry', 'Charlie Rose', 'New Adventures', 'Black Panther', 'Morgan Spurlock', 'True Detetive', 'Della Reese', 'Jerry Lewis', 'Kim Basinger', 'Tim Murray', 'Joe Pantoliano', 'Second Chance', 'Jody Foster', 'Mexico City', 'Matt Forte', 'Hrithik Roshan', 'Steven Collins', 'Jon Lovitz', 'Clint Culpepper', 'Kit Hoover', 'American English', 'Jessica Parker', 'Ken Jeong', 'Don Cherry', 'Harlem Globetrotters', 'Miss Piggy', 'Natalie Portman', 'Sean Ash', 'Guillermo Diaz', 'Connie Britton', 'Reem Acra', 'Jersey Shore', 'Loose Cannon', 'Nikki Finke', 'Foo Fighters', 'All That', 'Mother Love', 'Princess Leia', 'Evan Seinfeld', 'Oscar Wilde', 'Angela Bowers', 'Frank Lloyd', 'Mariah Carey', 'Bitch Face', 'Take That', 'Mike Huckabee', 'Jessica Simpson', 'Gina Lollobrigida', 'Maria Menounos', 'Elizabeth Hurley', 'Nicole Kidman', 'Pearl Harbor', 'Anna Gunn', 'Giuliana Rancic', 'Mindy Kaling', 'John Hopkins', 'Rich Man', 'Kevin Hard', 'John Powell', 'Abby Bates', 'King Yahweh', 'Bar Rescue', 'Amy Amy', 'Anita Sarkeesian', 'Ted Harbert', 'Joel Cohen', 'Rose Byrne', 'Sacha Quarles', 'Emil Skoda', 'Rollo Tamasi', 'Robbie Keane', 'Debbie Reynolds', 'Don Hall', 'Jermaine Jackson', 'Richie Sambora', 'Grumpy Cat', 'Olivia Newton', 'Midge Ure', 'Kim Possible', 'Adrian Grenier', 'Mamma Mia', 'Mark Strong', 'Anne Moore', 'Angela Lansbury', 'Shonda Rhimes', 'Sibel Can', 'Penelope Cruz', 'Tina Rodriguez', 'Dark Horse', 'Billy Bob', 'Ringo Star', 'Amy Pascal', 'Jackie Brown', 'John Voigt', 'Kaley Cuoco', 'Olive Garden', 'Ginger Spice', 'Ricky Gervais', 'Angel Payne', 'Jerry Thornton', 'Charlie Chan', 'Randy Newman', 'Spencer Stone', 'Alexandre Desplat', 'Olivia Pope', 'Minnie Driver', 'Bryan Cranston', 'Wash Westmoreland', 'Craig Ferguson', 'Curry Valenzuela', 'Diahann Carroll', 'Kat Bates', 'Steve Gilula', 'Patrick Wilson', 'Matthew Gray', 'Slam Dunk', 'Elaine Turner', 'International Airport', 'Bruce Lee', 'Harold Reynolds', 'Black Out', 'Brian Atwood', 'Walter Hill', 'Josh Brolin', 'Charlie Price', 'Emilio Estevez', 'Jimmie Walker', 'Jake Kirby', 'Special Guest', 'Anita Miller', 'Tracy Letts', 'Merritt Wever', 'Anna Kendrick', 'Loretta Lynch', 'Taylor Smith', 'Lauren Bowles', 'Linda Ronstadt', 'Luis Figo', 'Viet Cong', 'Rickie Fowler', 'Jian Ghomeshi', 'Nina Garcia', 'Bonnie Arnold', 'Jeff Tatum', 'Jo Lo', 'Glenn Whipp', 'Elizabeth Wagmeister', 'Charlie Rhodes', 'Juliana Moore', 'Christian Gray', 'Ricky Smiley', 'Father John', 'Jane Krakowski', 'Kat Sadler', 'Taylor Lautner', 'Pedro Garcia', 'Pam Oliver', 'Ryan Ross', 'Kara Knightly', 'Richard Dawkins', 'Jack Butler', 'Robb Wells', 'Bobby Kimball', 'Phillip Lim', 'Sally Hansen', 'Colonel Sanders', 'Alexandria Serafini', 'Laura Linney', 'Lars Ulrich', 'John Lithgow', 'Abraham Mateo', 'Reggie Love', 'Daniel Alvarado', 'Tina Louise', 'Michael Garcia', 'Kiss Kiss', 'Billy Wilder', 'Dan Gilroy', 'Susan Africa', 'Jack Black', 'Lauryn Hill', 'Hip Hop', 'Bill Moyers', 'Melora Hardin', 'Taran Killam', 'Jemima Kirke', 'James Galanos', 'Hagai Levi', 'Mark May', 'Boom Boom', 'Olivier Martinez', 'Valerie Knight', 'Gayle King', 'Sam Hamm', 'Elsa Peretti', 'Dante Moore', 'Emma Thomson', 'Missy Elliott', 'Liz Taylor', 'Brooke Shields', 'Mike Piazza', 'Grand Marnier', 'Joe Lewis', 'Zakk Wylde', 'John Wayne', 'Arsenio Hall', 'Ryan Pierce', 'Scott Podsednik', 'David Boreanaz', 'Sally Bowles', 'Jane Rodriguez', 'Danny Vee', 'Britney Spears', 'Mike Ruffin', 'Marvin Hamlisch', 'Louis Bloom', 'First Take', 'First Class', 'Lauren Ashley', 'Richard Link', 'Doris Day', 'Lorna Dove', 'Matt Bomer', 'Glenn Howerton', 'Dan Marino', 'Ashley Olsen', 'Kathleen Chalfant', 'Linda Axelrod', 'Cain Velasquez', 'Michael Scott', 'Nancy Binay', 'Daniel Huttlestone', 'Angela Simmons', 'Ryan Guzman', 'Joe Boxer', 'Justin Barco', 'Full Swing', 'Patrick Reed', 'Emma Stoned', 'Billy Blaze', 'Jaden Smith', 'George Hamilton', 'Adnan Syed', 'Ric Flair', 'Matt Fraction', 'Tamar Braxton', 'Ty Burrell', 'Joan Cusack', 'Los Angeles', 'Pom Pom', 'Julie Newmar', 'Comeback Kid', 'Luciana Pedraza', 'Blue Steel', 'Kelly Green', 'Lewis Day', 'Jari Kurri', 'Jimmy Carter', 'Steven Universe', 'Rita Cosby', 'Wolf Blitzer', 'Warner Brothers', 'King Richard', 'Seth Gecko', 'Steve Stark', 'Shanola Hampton', 'Peter Prentice', 'Daniela Alvarado', 'Rex Ryan', 'Tina Fey', 'Carrie Brownstein', 'Jeff Moore']\n"
     ]
    }
   ],
   "source": [
    "# cross-reference tNames and imdbNames\n",
    "actorNames = []\n",
    "for name in tNames:\n",
    "    # print(name)\n",
    "    if name in imdbNames:\n",
    "        # print(name)\n",
    "        actorNames.append(name)\n",
    "print(actorNames)"
   ]
  },
  {
   "cell_type": "code",
   "execution_count": 16,
   "metadata": {},
   "outputs": [],
   "source": [
    "import csv\n",
    "with open('namesPruned.csv', 'w') as myfile:\n",
    "    wr = csv.writer(myfile)\n",
    "    for name in actorNames:\n",
    "        wr.writerow([name])\n"
   ]
  },
  {
   "cell_type": "code",
   "execution_count": 12,
   "metadata": {},
   "outputs": [],
   "source": [
    "import spacy\n",
    "nlp = spacy.load('en_core_web_sm')\n",
    "\n",
    "\n",
    "def find_persons(text):\n",
    "    # Create Doc object\n",
    "    doc2 = nlp(text)\n",
    "\n",
    "    # Identify the persons\n",
    "    persons = [ent.text for ent in doc2.ents if ent.label_ == 'PERSON']\n",
    "\n",
    "    # Return persons\n",
    "    return persons\n",
    "\n",
    "# print(find_persons(\"I passed a ball to Donna Hooshmand during the Golden Globes award Sunday night. The Oscar for Best Musical Piece in a Film goes to Adele\"))"
   ]
  },
  {
   "cell_type": "code",
   "execution_count": 25,
   "metadata": {},
   "outputs": [],
   "source": [
    "def isHypothetical(text):\n",
    "    if '?' in text or 'last year' in text or 'hope' in text or 'hoping' in text or 'bet' in text or \\\n",
    "        'think' in text or 'will' in text or 'predict' in text or 'going to' in text or 'gonna' in text:\n",
    "        return True\n",
    "    return False\n",
    "\n",
    "def isHistorical(text):\n",
    "    if re.findall(r\"\\d\\d\\d\\d\", text) and '2015' not in text and '2014' not in text:\n",
    "        return True\n",
    "    return False\n",
    "\n",
    "def isReasonable(text):\n",
    "    if not isHypothetical(text.lower()) and not isHistorical(text.lower()):\n",
    "        return True\n",
    "    return False"
   ]
  },
  {
   "cell_type": "code",
   "execution_count": 15,
   "metadata": {},
   "outputs": [],
   "source": [
    "def isWinningTweet(text, awardIndicators, trips = []):\n",
    "    \"\"\"\n",
    "        <text> = tweet text\n",
    "        <award> = list of indicators that belong to a given award\n",
    "    \"\"\"\n",
    "    text = text.lower()\n",
    "    winIndicators = ['won', 'win', 'congrat', 'goes to', 'went to', 'snag', 'takes home', 'took home']\n",
    "    for i in winIndicators: #we want an indication of win\n",
    "        if i in text:\n",
    "            for a in awardIndicators:\n",
    "                if a not in text:\n",
    "                    return False # we want an indication of our relevant award\n",
    "            for t in trips:\n",
    "                if t in text:\n",
    "                    return False # we do not want indication of a tripword\n",
    "            return True\n",
    "    # does not contain an indicator of a winning tweet\n",
    "    return False"
   ]
  },
  {
   "cell_type": "code",
   "execution_count": 16,
   "metadata": {},
   "outputs": [],
   "source": [
    "import difflib"
   ]
  },
  {
   "cell_type": "code",
   "execution_count": 31,
   "metadata": {},
   "outputs": [
    {
     "name": "stdout",
     "output_type": "stream",
     "text": [
      "3932\n",
      "number of winning tweets found for :  ['actress', 'drama', 'motion', 'best']  =  1891\n",
      "Best Actress – Motion Picture Drama Award goes to #\n",
      "#GoldenGlobes #Awardseason\n",
      "[]\n",
      "Best actress in a motion drama, comedy or musical went to Amy Adams for Big Eyes. #GoldenGlobes http://t.co/7SZ7xsA9cZ\n",
      "['Amy Adams', 'GoldenGlobes http://t.co/7SZ7xsA9cZ']\n",
      "Best Actress In A Movie, Motion Picture Drama @goldenglobes goes to Amy Adams for #BigEyes! \n",
      "\n",
      "#BigEyesMovie #GoldenGIobes\n",
      "['Amy Adams']\n",
      "['@goldenglobes']\n",
      "Congratulations Amy Adams for your second golden globe in a row for best actress in motion picture comedy or drama. #GoldenGlobes\n",
      "['Amy Adams']\n",
      "Congrats! Best Actress in a Drama Motion Picture - Patricia Arquette. #GoldenGlobes\n",
      "[]\n",
      "Best Actress – Motion Picture Drama Award goes to # #GoldenGlobes #Awardseason\n",
      "[]\n",
      "The Director-Motion Pictures Drama &amp; Best Actress TV Drama winners simply do not make sense. WTF #GoldenGlobes. Shoulda been Ava, Viola.\n",
      "[]\n",
      "Best Actress in a Motion Picture, Drama, goes to Julianne More for Still Alice. #GoldenGlobes\n",
      "['Julianne More']\n",
      "Winner of #GoldenGlobes for Best Actress In A Motion Picture, Drama: Julianne Moore - Still Alice http://t.co/j6H6D61sGQ\n",
      "['Winner', 'Julianne Moore - Still Alice http://t.co/j6H6D61sGQ']\n",
      "WINNER Best Actress in a Motion Picture Drama: JULIANNE MOORE (Still Alice) #GoldenGlobes\n",
      "[]\n"
     ]
    }
   ],
   "source": [
    "# tt = list of tweet texts\n",
    "# actorNames = only actor names relevant to tweets\n",
    "# \n",
    "print(len(actorNames))\n",
    "# for t in tt:\n",
    "#     if re.findall()\n",
    "\n",
    "\n",
    "# create actorNames Dictionary\n",
    "counts = dict.fromkeys(actorNames, 0)\n",
    "\n",
    "# create a sample award indicators list\n",
    "bestActress = [\"actress\", \"drama\", \"motion\", \"best\"]\n",
    "trips = [\"supporting\", \"nom\", \"tv\", \"television\", \"musical\", \"comedy\"]\n",
    "\n",
    "# iterate over tweets and add counts to those actors that won an award\n",
    "winningTweets = []\n",
    "for t in tt:\n",
    "    if isReasonable(t) and isWinningTweet(t, bestActress, trips):\n",
    "        winningTweets.append(t)\n",
    "\n",
    "print(\"number of winning tweets found for : \", bestActress, \" = \", len(winningTweets))\n",
    "\n",
    "candWinners = set(())\n",
    "\n",
    "for t in winningTweets[:10]:\n",
    "    people = find_persons(t)\n",
    "    print(t)\n",
    "    # print(people)\n",
    "    for p in people:\n",
    "        if '@' in p or 'RT' in p or 'golden' in p:\n",
    "            people = people.remove(p)\n",
    "    print(people)\n",
    "    ats = re.findall(r'@[a-zA-Z_\\-\\.]+', t)\n",
    "    if ats:\n",
    "        print(ats)\n",
    "    for p in people:\n",
    "        candWinners.add(p)\n",
    "\n",
    "        \n"
   ]
  },
  {
   "cell_type": "code",
   "execution_count": null,
   "metadata": {},
   "outputs": [],
   "source": []
  }
 ],
 "metadata": {
  "interpreter": {
   "hash": "103df5c98b9e81aa8b3678697f91d3f0febc9ee87866f45d5e67de34ddb1eb12"
  },
  "kernelspec": {
   "display_name": "Python 3.9.7 ('base')",
   "language": "python",
   "name": "python3"
  },
  "language_info": {
   "codemirror_mode": {
    "name": "ipython",
    "version": 3
   },
   "file_extension": ".py",
   "mimetype": "text/x-python",
   "name": "python",
   "nbconvert_exporter": "python",
   "pygments_lexer": "ipython3",
   "version": "3.9.7"
  }
 },
 "nbformat": 4,
 "nbformat_minor": 2
}
